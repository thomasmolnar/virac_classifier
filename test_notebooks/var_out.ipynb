{
 "cells": [
  {
   "cell_type": "code",
   "execution_count": 144,
   "metadata": {},
   "outputs": [],
   "source": [
    "import sys\n",
    "sys.path.append('../')\n",
    "\n",
    "import pickle\n",
    "\n",
    "with open('/local/scratch_2/jls/virac_classifier/variable/edr3/variable_classifier.pkl', 'rb') as f:\n",
    "    var = pickle.load(f)\n",
    "with open('/local/scratch_2/jls/virac_classifier/variable/edr3/variable_training_set.pkl', 'rb') as f:\n",
    "    var_dataset_scaled = pickle.load(f)\n",
    "with open('/local/scratch_2/jls/virac_classifier/variable/edr3/variable_features_total.pkl', 'rb') as f:\n",
    "    var_dataset_full = pickle.load(f)"
   ]
  },
  {
   "cell_type": "code",
   "execution_count": 145,
   "metadata": {},
   "outputs": [
    {
     "data": {
      "text/plain": [
       "[('lsq_period', 0.1034570933941395),\n",
       " ('max_time_lag', 0.06138296255084765),\n",
       " ('amp_0', 0.041736272085388174),\n",
       " ('ks_p84_p16', 0.037906107217302455),\n",
       " ('ks_p75_p25', 0.03243375878949996),\n",
       " ('JK_col', 0.03172926261046019),\n",
       " ('peak_ratio_model', 0.02864340889498028),\n",
       " ('ks_mad', 0.028165569050756057),\n",
       " ('max_pow', 0.025827574049644024),\n",
       " ('ks_p95_p5', 0.022912131635568486),\n",
       " ('a0_a1', 0.0226136636576045),\n",
       " ('ks_stetson_i', 0.02174177428473977),\n",
       " ('amp_1', 0.021450025029441887),\n",
       " ('amplitude', 0.021157818588017865),\n",
       " ('amp_3', 0.02113742657011694),\n",
       " ('ks_p99_p1_over_error', 0.02079425675886282),\n",
       " ('a1_a3_double', 0.02063336092592927),\n",
       " ('ks_stdev_over_error', 0.020229854211810398),\n",
       " ('ks_p95_p5_over_error', 0.019241852045780387),\n",
       " ('a0_a1_double', 0.019100177765119183),\n",
       " ('ks_mad_over_error', 0.017606176759218623),\n",
       " ('ks_p75_p25_over_error', 0.017253904339755034),\n",
       " ('a0_a3', 0.017158742169241445),\n",
       " ('ks_p84_p16_over_error', 0.01642185221343721),\n",
       " ('delta_loglik', 0.01580337492885991),\n",
       " ('a0_a2', 0.015133110969820333),\n",
       " ('ks_stdev', 0.014398860430362006),\n",
       " ('HK_col', 0.013932073443606134),\n",
       " ('phi1_phi0_x', 0.013801813764889974),\n",
       " ('pow_mean_disp', 0.013343775189005019),\n",
       " ('phi1_phi0_y', 0.01301792218702383),\n",
       " ('a1_a2_double', 0.012269649750024014),\n",
       " ('ks_eta', 0.011376874303329043),\n",
       " ('phi3_phi1_double_y', 0.010565638240221602),\n",
       " ('amp_2', 0.01053730607932776),\n",
       " ('a0_a3_double', 0.00962897452198887),\n",
       " ('phi2_phi0_x', 0.009527498289786213),\n",
       " ('ks_p99_p1', 0.009321393848862625),\n",
       " ('phi3_phi1_double_x', 0.007322134735037408),\n",
       " ('peak_ratio_data', 0.007239614417723846),\n",
       " ('phi2_phi0_y', 0.006162434023515668),\n",
       " ('a1_a2', 0.005859174050300897),\n",
       " ('log10_fap', 0.005740009599736387),\n",
       " ('beyondfrac', 0.005370760907038407),\n",
       " ('ks_stetson_j', 0.005042090979719182),\n",
       " ('ks_kurtosis', 0.004947528329726334),\n",
       " ('ks_stetson_k', 0.0049464499559029925),\n",
       " ('a2_a3', 0.004868904536033841),\n",
       " ('ks_p100_p0', 0.004485046082051694),\n",
       " ('ks_p100_p0_over_error', 0.004366288198296948),\n",
       " ('a2_a3_double', 0.004321406333135708),\n",
       " ('phi3_phi2_x', 0.004321326784512898),\n",
       " ('a1_a3', 0.004297053645802669),\n",
       " ('phi1_phi0_double_y', 0.004227308915847934),\n",
       " ('time_lag_mean', 0.004152095826012513),\n",
       " ('ks_skew', 0.003950904688789057),\n",
       " ('phi3_phi1_x', 0.0038090072124269615),\n",
       " ('phi1_phi0_double_x', 0.003785955588061218),\n",
       " ('phi2_phi1_x', 0.0035881555190393944),\n",
       " ('phi3_phi1_y', 0.003381601903883736),\n",
       " ('phi3_phi2_double_y', 0.003291328208845019),\n",
       " ('phi2_phi0_double_x', 0.0032161109686452373),\n",
       " ('phi3_phi0_double_y', 0.0029570084823378625),\n",
       " ('phi2_phi1_double_x', 0.0027729789648680277),\n",
       " ('a0_a2_double', 0.002684749712935243),\n",
       " ('phi2_phi1_y', 0.0023554030864327644),\n",
       " ('phi2_phi1_double_y', 0.0022544546592476347),\n",
       " ('phi2_phi0_double_y', 0.002072086071514079),\n",
       " ('phi3_phi0_x', 0.0020365564611766348),\n",
       " ('phi3_phi2_double_x', 0.0019249614756823457),\n",
       " ('phi3_phi0_y', 0.0018388305284491235),\n",
       " ('phi3_phi2_y', 0.0015352485925471373),\n",
       " ('phi3_phi0_double_x', 0.0014817390099537628)]"
      ]
     },
     "execution_count": 145,
     "metadata": {},
     "output_type": "execute_result"
    }
   ],
   "source": [
    "sorted(var.feature_importance.items(), key=lambda x:x[1])[::-1]"
   ]
  },
  {
   "cell_type": "code",
   "execution_count": 146,
   "metadata": {},
   "outputs": [
    {
     "name": "stderr",
     "output_type": "stream",
     "text": [
      "/data/jls/python3.5/site-packages/numpy/lib/histograms.py:839: RuntimeWarning: invalid value encountered in greater_equal\n",
      "  keep = (tmp_a >= first_edge)\n",
      "/data/jls/python3.5/site-packages/numpy/lib/histograms.py:840: RuntimeWarning: invalid value encountered in less_equal\n",
      "  keep &= (tmp_a <= last_edge)\n"
     ]
    },
    {
     "data": {
      "text/plain": [
       "[]"
      ]
     },
     "execution_count": 146,
     "metadata": {},
     "output_type": "execute_result"
    },
    {
     "data": {
      "image/png": "[encoded data removed]",
      "text/plain": [
       "<Figure size 432x288 with 1 Axes>"
      ]
     },
     "metadata": {
      "needs_background": "light"
     },
     "output_type": "display_data"
    }
   ],
   "source": [
    "plt.hist(var_dataset_full['ks_skew'],bins=160,range=[-50,50])\n",
    "plt.hist(var_dataset['ks_skew'],bins=160,range=[-50,50])\n",
    "plt.semilogy()"
   ]
  },
  {
   "cell_type": "code",
   "execution_count": 147,
   "metadata": {},
   "outputs": [],
   "source": [
    "var_dataset = var_dataset_full.merge(var_dataset_scaled[['sourceid', 'class', 'prob']], on='sourceid')"
   ]
  },
  {
   "cell_type": "code",
   "execution_count": 148,
   "metadata": {},
   "outputs": [
    {
     "data": {
      "text/plain": [
       "<matplotlib.colorbar.Colorbar at 0x7f5f8eec4080>"
      ]
     },
     "execution_count": 148,
     "metadata": {},
     "output_type": "execute_result"
    },
    {
     "data": {
      "image/png": "[encoded data removed]",
      "text/plain": [
       "<Figure size 432x288 with 2 Axes>"
      ]
     },
     "metadata": {
      "needs_background": "light"
     },
     "output_type": "display_data"
    }
   ],
   "source": [
    "plt.imshow(var.cm/np.nansum(var.cm,axis=1)[:,np.newaxis])\n",
    "plt.colorbar()"
   ]
  },
  {
   "cell_type": "code",
   "execution_count": 151,
   "metadata": {},
   "outputs": [
    {
     "data": {
      "text/plain": [
       "0.9705728191688506"
      ]
     },
     "execution_count": 151,
     "metadata": {},
     "output_type": "execute_result"
    }
   ],
   "source": [
    "fltr = (var_dataset['var_class']=='EA/EB')&(var_dataset['log10_fap']<-10)#&(var_dataset['significant_second_minimum'])\n",
    "np.count_nonzero((var_dataset['class']==var_dataset['var_class'])[fltr]) / np.count_nonzero(fltr)"
   ]
  },
  {
   "cell_type": "code",
   "execution_count": 131,
   "metadata": {},
   "outputs": [
    {
     "data": {
      "image/png": "[encoded data removed]",
      "text/plain": [
       "<Figure size 432x288 with 1 Axes>"
      ]
     },
     "metadata": {
      "needs_background": "light"
     },
     "output_type": "display_data"
    }
   ],
   "source": [
    "plt.hist2d(var_dataset['prob'][var_dataset['var_class']=='RRab'],\n",
    "           var_dataset['log10_fap'][var_dataset['var_class']=='RRab'],bins=50,norm=LogNorm());"
   ]
  },
  {
   "cell_type": "code",
   "execution_count": null,
   "metadata": {},
   "outputs": [],
   "source": []
  }
 ],
 "metadata": {
  "kernelspec": {
   "display_name": "Python 3",
   "language": "python",
   "name": "python3"
  },
  "language_info": {
   "codemirror_mode": {
    "name": "ipython",
    "version": 3
   },
   "file_extension": ".py",
   "mimetype": "text/x-python",
   "name": "python",
   "nbconvert_exporter": "python",
   "pygments_lexer": "ipython3",
   "version": "3.5.2"
  }
 },
 "nbformat": 4,
 "nbformat_minor": 4
}
