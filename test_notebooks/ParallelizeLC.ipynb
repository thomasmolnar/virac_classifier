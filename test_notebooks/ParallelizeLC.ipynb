{
 "cells": [
  {
   "cell_type": "code",
   "execution_count": 1,
   "metadata": {},
   "outputs": [],
   "source": [
    "import sys\n",
    "sys.path.append('../')\n",
    "from fine_classif.feat_extract.lc_utils import *\n",
    "from fine_classif.feat_extract.lc_utils import fourier_poly_chi2_fit_transpose as single_comp\n",
    "\n",
    "from astropy.timeseries.periodograms.lombscargle.implementations.utils import bitceil, factorial\n",
    "from fine_classif.feat_extract.nfft_utils import complex_exponential_sum\n",
    "import time"
   ]
  },
  {
   "cell_type": "code",
   "execution_count": 369,
   "metadata": {},
   "outputs": [],
   "source": [
    "def extirpolate(x, y, N=None, M=4):\n",
    "    \"\"\"\n",
    "    Extirpolate the values (x, y) onto an integer grid range(N),\n",
    "    using lagrange polynomial weights on the M nearest points.\n",
    "    Parameters\n",
    "    ----------\n",
    "    x : array_like\n",
    "        array of abscissas\n",
    "    y : array_like\n",
    "        array of ordinates\n",
    "    N : int\n",
    "        number of integer bins to use. For best performance, N should be larger\n",
    "        than the maximum of x\n",
    "    M : int\n",
    "        number of adjoining points on which to extirpolate.\n",
    "\n",
    "    Returns\n",
    "    -------\n",
    "    yN : ndarray\n",
    "         N extirpolated values associated with range(N)\n",
    "\n",
    "    Example\n",
    "    -------\n",
    "    >>> rng = np.random.RandomState(0)\n",
    "    >>> x = 100 * rng.rand(20)\n",
    "    >>> y = np.sin(x)\n",
    "    >>> y_hat = extirpolate(x, y)\n",
    "    >>> x_hat = np.arange(len(y_hat))\n",
    "    >>> f = lambda x: np.sin(x / 10)\n",
    "    >>> np.allclose(np.sum(y * f(x)), np.sum(y_hat * f(x_hat)))\n",
    "    True\n",
    "\n",
    "    Notes\n",
    "    -----\n",
    "    This code is based on the C implementation of spread() presented in\n",
    "    Numerical Recipes in C, Second Edition (Press et al. 1989; p.583).\n",
    "    \"\"\"\n",
    "#     x, y = map(np.ravel, np.broadcast_arrays(x, y))\n",
    "\n",
    "    if N is None:\n",
    "        N = int(np.max(x) + 0.5 * M + 1)\n",
    "\n",
    "    # Now use legendre polynomial weights to populate the results array;\n",
    "    # This is an efficient recursive implementation (See Press et al. 1989)\n",
    "\n",
    "    result = np.zeros((N, *np.shape(y)[1:]), dtype=y.dtype)\n",
    "\n",
    "    # first take care of the easy cases where x is an integer\n",
    "    integers = (x % 1 == 0)\n",
    "    np.add.at(result, x[integers].astype(int), y[integers])\n",
    "    x, y = x[~integers], y[~integers]\n",
    "\n",
    "    # For each remaining x, find the index describing the extirpolation range.\n",
    "    # i.e. ilo[i] < x[i] < ilo[i] + M with x[i] in the center,\n",
    "    # adjusted so that the limits are within the range 0...N\n",
    "    ilo = np.clip((x - M // 2).astype(int), 0, N - M)\n",
    "    numerator = y * np.prod(x - ilo - np.arange(M)[:, np.newaxis], 0)[:, np.newaxis]\n",
    "    denominator = factorial(M - 1)\n",
    "\n",
    "    for j in range(M):\n",
    "        if j > 0:\n",
    "            denominator *= j / (j - M)\n",
    "        ind = ilo + (M - 1 - j)\n",
    "        np.add.at(result, ind, numerator / (denominator * (x - ind))[:, np.newaxis])\n",
    "    return result\n",
    "\n",
    "\n",
    "def trig_sum(t, h, df, N, f0=0, freq_factor=1,\n",
    "             oversampling=5, use_fft=True, Mfft=4):\n",
    "    \"\"\"Compute (approximate) trigonometric sums for a number of frequencies\n",
    "    This routine computes weighted sine and cosine sums:\n",
    "        S_j = sum_i { h_i * sin(2 pi * f_j * t_i) }\n",
    "        C_j = sum_i { h_i * cos(2 pi * f_j * t_i) }\n",
    "    Where f_j = freq_factor * (f0 + j * df) for the values j in 1 ... N.\n",
    "    The sums can be computed either by a brute force O[N^2] method, or\n",
    "    by an FFT-based O[Nlog(N)] method.\n",
    "\n",
    "    Parameters\n",
    "    ----------\n",
    "    t : array_like\n",
    "        array of input times\n",
    "    h : array_like\n",
    "        array weights for the sum\n",
    "    df : float\n",
    "        frequency spacing\n",
    "    N : int\n",
    "        number of frequency bins to return\n",
    "    f0 : float (optional, default=0)\n",
    "        The low frequency to use\n",
    "    freq_factor : float (optional, default=1)\n",
    "        Factor which multiplies the frequency\n",
    "    use_fft : bool\n",
    "        if True, use the approximate FFT algorithm to compute the result.\n",
    "        This uses the FFT with Press & Rybicki's Lagrangian extirpolation.\n",
    "    oversampling : int (default = 5)\n",
    "        oversampling freq_factor for the approximation; roughly the number of\n",
    "        time samples across the highest-frequency sinusoid. This parameter\n",
    "        contains the trade-off between accuracy and speed. Not referenced\n",
    "        if use_fft is False.\n",
    "    Mfft : int\n",
    "        The number of adjacent points to use in the FFT approximation.\n",
    "        Not referenced if use_fft is False.\n",
    "\n",
    "    Returns\n",
    "    -------\n",
    "    S, C : ndarrays\n",
    "        summation arrays for frequencies f = df * np.arange(1, N + 1)\n",
    "    \"\"\"\n",
    "    df *= freq_factor\n",
    "    f0 *= freq_factor\n",
    "\n",
    "    if df <= 0:\n",
    "        raise ValueError(\"df must be positive\")\n",
    "        \n",
    "    if use_fft:\n",
    "        Mfft = int(Mfft)\n",
    "        if Mfft <= 0:\n",
    "            raise ValueError(\"Mfft must be positive\")\n",
    "\n",
    "        # required size of fft is the power of 2 above the oversampling rate\n",
    "        Nfft = bitceil(N * oversampling)\n",
    "        t0 = t.min()\n",
    "\n",
    "        if f0 > 0:\n",
    "            h = h * np.exp(2j * np.pi * f0 * (t - t0))[:, np.newaxis]\n",
    "\n",
    "        tnorm = ((t - t0) * Nfft * df) % Nfft\n",
    "        grid = extirpolate(tnorm, h, Nfft, Mfft)\n",
    "        \n",
    "        fftgrid = np.fft.ifft(grid, axis=0)[:N]\n",
    "        \n",
    "        if t0 != 0:\n",
    "            f = f0 + df * np.arange(N)\n",
    "            fftgrid *= np.exp(2j * np.pi * t0 * f[:, np.newaxis])\n",
    "\n",
    "        C = Nfft * fftgrid.real\n",
    "        S = Nfft * fftgrid.imag\n",
    "    else:\n",
    "        f = f0 + df * np.arange(N)\n",
    "        C = np.dot(h.T, np.cos(2 * np.pi * f * t[:, np.newaxis])).T\n",
    "        S = np.dot(h.T, np.sin(2 * np.pi * f * t[:, np.newaxis])).T\n",
    "\n",
    "    return S, C\n",
    "\n",
    "\n",
    "\n",
    "def trig_sum_nfft(t, y, freq_factor, use_nfft, **kwargs):\n",
    "    if kwargs['df'] * freq_factor * (t.max() - t.min()) > 1 or not use_nfft:\n",
    "        S, C = trig_sum(t, y, freq_factor=freq_factor, **kwargs)\n",
    "        return C + S * 1j\n",
    "    else:\n",
    "        return complex_exponential_sum(t * freq_factor, y, kwargs['f0'],\n",
    "                                       kwargs['N'], kwargs['df'])\n",
    "    \n",
    "def trig_sum_nfft_freq_factor(t, h, freq_factor_max, df, N, Mfft=4, oversampling=5, f0=0., use_fft=True):\n",
    "    \n",
    "    if f0>0:\n",
    "        print('f0 must be 0')\n",
    "    \n",
    "    Nm = freq_factor_max * N\n",
    "    \n",
    "    Mfft = int(Mfft)\n",
    "    if Mfft <= 0:\n",
    "        raise ValueError(\"Mfft must be positive\")\n",
    "\n",
    "    # required size of fft is the power of 2 above the oversampling rate\n",
    "    Nfft = bitceil(Nm * oversampling)\n",
    "    t0 = t.min()\n",
    "\n",
    "    if f0 > 0:\n",
    "        h = h * np.exp(2j * np.pi * f0 * (t - t0))[:, np.newaxis]\n",
    "\n",
    "    tnorm = ((t - t0) * Nfft * df) % Nfft\n",
    "    grid = extirpolate(tnorm, h, Nfft, Mfft)\n",
    "\n",
    "    fftgrid = np.fft.ifft(grid, axis=0)[:Nm]\n",
    "\n",
    "    if t0 != 0:\n",
    "        f = f0 + df * np.arange(Nm)\n",
    "        fftgrid *= np.exp(2j * np.pi * t0 * f[:, np.newaxis])\n",
    "\n",
    "    fftgrid *= Nfft\n",
    "    \n",
    "    return np.array([fftgrid[::f][:N] for f in range(1, freq_factor_max+1)])\n",
    "    "
   ]
  },
  {
   "cell_type": "code",
   "execution_count": 453,
   "metadata": {},
   "outputs": [],
   "source": [
    "def fourier_poly_chi2_fit_transpose(times,\n",
    "                          mag,\n",
    "                          inverr2,\n",
    "                          f0,\n",
    "                          f1,\n",
    "                          Nf,\n",
    "                          nterms=1,\n",
    "                          normalization='standard',\n",
    "                          npoly=1,\n",
    "                          use_nfft=True,\n",
    "                          regularization=0.,\n",
    "                          regularization_power=2.,\n",
    "                          time_zeropoint_poly=2457000.,\n",
    "                          regularize_by_trace=True):\n",
    "    \"\"\"\n",
    "        Faster implementation of astropy fastchi2 lombscargle.\n",
    "        Faster because the linalg.solve is vectorized\n",
    "        \n",
    "        Parameters\n",
    "        ----------\n",
    "        times, mag, err : array_like\n",
    "            time, values and errors for datapoints\n",
    "        f0, f1, Nf : (float, float, int)\n",
    "            parameters describing the frequency grid, f = np.linspace(f0,f1,Nf)\n",
    "        nterms : int\n",
    "            number of Fourier terms to use (default 1)\n",
    "        npoly: int\n",
    "            number of polynomial terms to use (default 1)\n",
    "        use_nfft: bool\n",
    "            if True, use NFFT library. This puts limitations on frequency grid so \n",
    "            defaults to no NFFT if conditions not satisfied.\n",
    "        normalization: string\n",
    "            how to normalize power (see astropy.timeseries.LombScargle)\n",
    "        regularization: float (default = 0.)\n",
    "            regularization term sum_i (y-Mx)^2/sigma^2 + regularization n M^T M\n",
    "        regularization_power: float (default = 2.)\n",
    "            power of k to raise regularization term to\n",
    "        time_zeropoint_poly: float (default = 2457000.)\n",
    "            time shift to apply when evaluting polynomial terms\n",
    "        regularize_by_trace: bool (default = True)\n",
    "            regularization = regularization * sum(inverr^2) -- Vanderplas & Ivezic (2015)\n",
    "    \"\"\"\n",
    "\n",
    "    df = (f1 - f0) / (Nf - 1)\n",
    "    if df <= 0:\n",
    "        raise ValueError(\"df must be positive\")\n",
    "\n",
    "#     inverr2 = 1. / err**2\n",
    "    ws = np.sum(inverr2, axis=0)\n",
    "    meanmag = np.einsum('ij,ij->j', inverr2, mag) / ws\n",
    "    mag = mag - meanmag[np.newaxis, :]\n",
    "    magw = inverr2 * mag\n",
    "    magws = np.sum(magw, axis=0)\n",
    "\n",
    "    # Scale regularization to number of datapoints\n",
    "    if regularize_by_trace:\n",
    "        regularization *= np.sum(inverr2)\n",
    "    else:\n",
    "        regularization *= len(inverr2)\n",
    "\n",
    "    Nsources = np.shape(mag)[1]\n",
    "    tm = time.time()\n",
    "    Q = np.empty((1 + 2 * nterms, Nf, Nsources), dtype=np.complex)\n",
    "    Q[0] = ws\n",
    "    P = np.empty((1 + nterms, Nf, Nsources), dtype=np.complex)\n",
    "    P[0] = magws\n",
    "    if npoly>1:\n",
    "        QT = np.empty((npoly - 1, nterms, Nf, Nsources), dtype=np.complex)\n",
    "\n",
    "    kwargs = dict(f0=f0, df=df, use_fft=True, N=Nf, oversampling=3)\n",
    "    \n",
    "    Q[1:] = np.array([\n",
    "        trig_sum_nfft(times, inverr2, k, use_nfft, **kwargs)\n",
    "        for k in range(1, 2 * nterms + 1)\n",
    "    ])\n",
    "    \n",
    "    P[1:] = np.array([\n",
    "        trig_sum_nfft(times, magw, k, use_nfft, **kwargs)\n",
    "        for k in range(1, nterms + 1)\n",
    "    ])\n",
    "    \n",
    "    if npoly>1:\n",
    "        QT = np.array([[\n",
    "            trig_sum_nfft(times,\n",
    "                          inverr2 * np.power(times - time_zeropoint_poly, p), k,\n",
    "                          use_nfft, **kwargs) for p in range(1, npoly) \n",
    "        ] for k in range(1, nterms + 1)])\n",
    "        \n",
    "        Pl = np.array([\n",
    "            np.sum(np.power(times - time_zeropoint_poly, k) * magw, axis=0)\n",
    "            for k in range(1, npoly)\n",
    "        ])\n",
    "        \n",
    "        Ql = np.array([\n",
    "            np.sum(np.power(times - time_zeropoint_poly, k) * inverr2, axis=0)\n",
    "            for k in range(1, 2 * npoly - 1)\n",
    "        ])\n",
    "    \n",
    "    tm = time.time()\n",
    "    beta = np.empty((2 * nterms + npoly, Nf, Nsources))\n",
    "    alpha = np.empty((2 * nterms + npoly, 2 * nterms + npoly, Nf, Nsources))\n",
    "#     beta = np.empty((Nf, Nsources, 2 * nterms + npoly))\n",
    "#     alpha = np.empty((Nf, Nsources, 2 * nterms + npoly, 2 * nterms + npoly))\n",
    "    \n",
    "    p = np.empty((Nsources, Nf))\n",
    "    soln = np.empty((Nsources, Nf, 2 * nterms + npoly))\n",
    "\n",
    "    beta[:1 + 2 * nterms:2] = np.real(P)\n",
    "    beta[1:1 + 2 * nterms:2] = np.imag(P[1:])\n",
    "    if npoly>1:\n",
    "        beta[1 + 2 * nterms:] = Pl[:, np.newaxis, np.newaxis]\n",
    "    print('1',(time.time()-tm)*1000);tm = time.time()\n",
    "\n",
    "    # Looks odd but when negative indices they are always zero\n",
    "#     for n in range(nterms + 1):\n",
    "#         for m in range(nterms + 1):\n",
    "#     N, M = [f.flatten() for f in np.meshgrid(np.arange(nterms + 1), np.arange(nterms + 1))]\n",
    "\n",
    "#     M = np.arange(nterms+1)\n",
    "#     tm = time.time()\n",
    "#     for n in np.arange(nterms+1):\n",
    "#         alpha[2 * n - 1, ::2] = np.real(.5 * (Q[abs(M - n)] - Q[M + n]))\n",
    "#     print('2.1',(time.time()-tm)*1000);tm = time.time()\n",
    "#     alpha[2 * N, 2 * M] = np.real(.5 * (Q[abs(M - N)] + Q[M + N]))\n",
    "#     alpha[2 * N, 2 * M - 1] = np.imag(.5 * (np.sign(M - N)[:,np.newaxis,np.newaxis] * Q[np.abs(M - N)] + Q[M + N]))\n",
    "#     alpha[2 * N - 1, 2 * M] = np.imag(.5 * (np.sign(N - M)[:,np.newaxis,np.newaxis] * Q[np.abs(M - N)] + Q[M + N]))\n",
    "    \n",
    "    for m,n in product(np.arange(nterms + 1), np.arange(nterms + 1)):\n",
    "        alpha[2 * n - 1, 2 * m - 1] = np.real(.5 * (Q[np.abs(m-n)] - Q[m+n]))\n",
    "#         print('2.1',(time.time()-tm)*1000);tm = time.time()\n",
    "        alpha[2 * n - 1, 2 * m] = np.imag(.5 * (np.sign(n - m) * Q[np.abs(m-n)] + Q[m+n]))\n",
    "#         print('2.2',(time.time()-tm)*1000);tm = time.time()\n",
    "        alpha[2 * n, 2 * m - 1] = np.imag(.5 * (np.sign(m - n) * Q[np.abs(m-n)] + Q[m+n]))\n",
    "#         print('2.3',(time.time()-tm)*1000);tm = time.time()\n",
    "        alpha[2 * n, 2 * m] = np.real(.5 * (Q[np.abs(m-n)] + Q[m+n]))\n",
    "#         print('2.4',(time.time()-tm)*1000);tm = time.time()\n",
    "        \n",
    "    print('2',(time.time()-tm)*1000);tm = time.time()\n",
    "    \n",
    "    if npoly>1:\n",
    "        for n in range(1, npoly):\n",
    "            for m in range(1, npoly):\n",
    "                alpha[2 * nterms + n, 2 * nterms + m] = Ql[m + n - 1]\n",
    "        for n in range(1, nterms + 1):\n",
    "            for m in range(1, npoly):\n",
    "                alpha[2 * n - 1, 2 * nterms + m] = np.imag(QT[n - 1, m - 1])\n",
    "                alpha[2 * n, 2 * nterms + m] = np.real(QT[n - 1, m - 1])\n",
    "                alpha[2 * nterms + m, 2 * n - 1] = np.imag(QT[n - 1, m - 1])\n",
    "                alpha[2 * nterms + m, 2 * n] = np.real(QT[n - 1, m - 1])\n",
    "        for m in range(1, npoly):\n",
    "            alpha[0, 2 * nterms + m] = Ql[m - 1]\n",
    "            alpha[2 * nterms + m, 0] = Ql[m - 1]\n",
    "    print('3',(time.time()-tm)*1000);tm = time.time()\n",
    "\n",
    "    # Regularization term\n",
    "    if regularization:\n",
    "        for m in range(1, nterms + 1):\n",
    "            alpha[2 * m - 1, 2 * m - 1] \\\n",
    "                += regularization * np.power(m, regularization_power)\n",
    "            alpha[2 * m, 2 * m] \\\n",
    "                += regularization * np.power(m, regularization_power)\n",
    "\n",
    "    ## To avoid singular matrices\n",
    "    alpha += (np.identity(2 * nterms + npoly) * np.min(np.abs(alpha)) *\n",
    "              1e-4)[:, :, np.newaxis, np.newaxis]\n",
    "    print('4',(time.time()-tm)*1000);tm = time.time()\n",
    "    \n",
    "    tm = time.time()\n",
    "    alpha = alpha.T\n",
    "    beta = beta.T\n",
    "    print('5',(time.time()-tm)*1000);tm = time.time()\n",
    "    \n",
    "    soln = np.linalg.solve(alpha, beta)\n",
    "    print('5',(time.time()-tm)*1000)\n",
    "    \n",
    "    tm = time.time()\n",
    "    p = np.sum(beta * soln, axis=-1)\n",
    "    p[p < 0.] = 0.\n",
    "    soln[:, :, 0] += meanmag[:, np.newaxis]\n",
    "    chi2_ref = np.sum(mag * mag * inverr2, axis=0)[:,np.newaxis]\n",
    "\n",
    "    if normalization == 'psd':\n",
    "        p *= 0.5\n",
    "    elif normalization == 'standard':\n",
    "        p /= chi2_ref\n",
    "    elif normalization == 'log':\n",
    "        p = -np.log(1 - p / chi2_ref)\n",
    "    elif normalization == 'model':\n",
    "        p /= chi2_ref - p\n",
    "    elif normalization == 'chi2':\n",
    "        p = chi2_ref - p\n",
    "    else:\n",
    "        raise ValueError(\"normalization='{}' \"\n",
    "                         \"not recognized\".format(normalization))\n",
    "\n",
    "\n",
    "    results = {}\n",
    "    freq_grid = np.linspace(f0, f1, Nf)\n",
    "#     results['fourier_coeffs_grid'] = soln\n",
    "#     results['inv_covariance_matrix'] = alpha\n",
    "    results['power'] = p\n",
    "    results['freq_grid'] = freq_grid\n",
    "#     results['chi2_ref'] = np.sum(mag * mag * inverr2, axis=0)\n",
    "    \n",
    "    loc = np.argmax(p, axis=1)\n",
    "    results['fourier_coeffs'] = soln[np.arange(Nsources), loc]\n",
    "    results['period'] = 1./freq_grid[loc]\n",
    "    results['chi2_ref'] = np.sum(mag * mag * inverr2, axis=0)\n",
    "    print((time.time()-tm)*1000)\n",
    "\n",
    "    return results"
   ]
  },
  {
   "cell_type": "code",
   "execution_count": 454,
   "metadata": {},
   "outputs": [
    {
     "name": "stdout",
     "output_type": "stream",
     "text": [
      "1 49.698591232299805\n",
      "2 1453.620433807373\n",
      "3 0.000476837158203125\n",
      "4 565.5629634857178\n",
      "5 0.0040531158447265625\n",
      "5 2200.2501487731934\n",
      "104.94780540466309\n",
      "7.47 s ± 0 ns per loop (mean ± std. dev. of 1 run, 1 loop each)\n"
     ]
    }
   ],
   "source": [
    "%%timeit -n 1 -r 1\n",
    "fourier_poly_chi2_fit_transpose(mjdobs, mags[:,:100], inverr2[:,:100], 1./5000., 100., 2**14, 4, use_nfft=False)"
   ]
  },
  {
   "cell_type": "code",
   "execution_count": 354,
   "metadata": {},
   "outputs": [
    {
     "name": "stdout",
     "output_type": "stream",
     "text": [
      "23.6 s ± 0 ns per loop (mean ± std. dev. of 1 run, 1 loop each)\n"
     ]
    }
   ],
   "source": [
    "%%timeit -n 1 -r 1\n",
    "ft_s=\\\n",
    "    [single_comp(mjdobs[inverr2[:,ii]>0.], mags[:,ii][inverr2[:,ii]>0.], \n",
    "                 1./np.sqrt(inverr2[:,ii])[inverr2[:,ii]>0.],1./5000., 100., 2**18, 4, use_nfft=True)\n",
    "     for ii in range(10)]"
   ]
  },
  {
   "cell_type": "code",
   "execution_count": 350,
   "metadata": {},
   "outputs": [
    {
     "data": {
      "text/plain": [
       "262144"
      ]
     },
     "execution_count": 350,
     "metadata": {},
     "output_type": "execute_result"
    }
   ],
   "source": [
    "single_comp"
   ]
  },
  {
   "cell_type": "code",
   "execution_count": 346,
   "metadata": {},
   "outputs": [
    {
     "data": {
      "text/plain": [
       "236338"
      ]
     },
     "execution_count": 346,
     "metadata": {},
     "output_type": "execute_result"
    }
   ],
   "source": [
    "len(autofrequency(mjdobs, minimum_frequency=1./5000., maximum_frequency=25., samples_per_peak=3))"
   ]
  },
  {
   "cell_type": "code",
   "execution_count": 312,
   "metadata": {},
   "outputs": [
    {
     "name": "stdout",
     "output_type": "stream",
     "text": [
      "[]\n",
      "1 1.2323856353759766\n",
      "2 35.81643104553223\n",
      "3 0.0054836273193359375\n",
      "4 21.991968154907227\n",
      "5 83.60576629638672\n",
      "3.3638477325439453\n",
      "[]\n",
      "1 1.2340545654296875\n",
      "2 34.795522689819336\n",
      "3 0.0050067901611328125\n",
      "4 21.890640258789062\n",
      "5 83.3737850189209\n",
      "3.4034252166748047\n",
      "[]\n",
      "1 1.1835098266601562\n",
      "2 34.75642204284668\n",
      "3 0.0054836273193359375\n",
      "4 21.94046974182129\n",
      "5 83.47654342651367\n",
      "3.329753875732422\n",
      "[]\n",
      "1 1.201629638671875\n",
      "2 35.53199768066406\n",
      "3 0.0050067901611328125\n",
      "4 21.905899047851562\n",
      "5 83.12225341796875\n",
      "3.3655166625976562\n",
      "[]\n",
      "1 1.1734962463378906\n",
      "2 36.4072322845459\n",
      "3 0.005245208740234375\n",
      "4 21.886825561523438\n",
      "5 83.07003974914551\n",
      "3.365039825439453\n",
      "[]\n",
      "1 1.234292984008789\n",
      "2 35.24279594421387\n",
      "3 0.0054836273193359375\n",
      "4 22.02606201171875\n",
      "5 81.31647109985352\n",
      "3.517627716064453\n",
      "[]\n",
      "1 1.2326240539550781\n",
      "2 41.27979278564453\n",
      "3 0.0050067901611328125\n",
      "4 22.204160690307617\n",
      "5 81.75110816955566\n",
      "3.4973621368408203\n",
      "[]\n",
      "1 1.2421607971191406\n",
      "2 36.23485565185547\n",
      "3 0.005245208740234375\n",
      "4 22.000789642333984\n",
      "5 81.14981651306152\n",
      "3.560304641723633\n",
      "[]\n",
      "1 1.2598037719726562\n",
      "2 35.33434867858887\n",
      "3 0.0054836273193359375\n",
      "4 22.011280059814453\n",
      "5 80.77621459960938\n",
      "3.4813880920410156\n",
      "[]\n",
      "1 1.2400150299072266\n",
      "2 35.079240798950195\n",
      "3 0.0050067901611328125\n",
      "4 21.932363510131836\n",
      "5 82.30209350585938\n",
      "3.5431385040283203\n",
      "3.21 s ± 0 ns per loop (mean ± std. dev. of 1 run, 1 loop each)\n"
     ]
    }
   ],
   "source": [
    "%%timeit -n 1 -r 1\n",
    "[fourier_poly_chi2_fit_transpose(mjdobs[inverr2[:,ii]>0.], mags[:,ii:ii+1][inverr2[:,ii]>0.], inverr2[:,ii:ii+1][inverr2[:,ii]>0.], 1./5000., 100., 2**16, 4, use_nfft=False)\n",
    " for ii in range(10)]"
   ]
  },
  {
   "cell_type": "code",
   "execution_count": 295,
   "metadata": {},
   "outputs": [
    {
     "name": "stdout",
     "output_type": "stream",
     "text": [
      "0.1 4.870414733886719\n",
      "f0 must be 0\n",
      "0.2 2218.061685562134\n",
      "f0 must be 0\n",
      "0.3 1029.6494960784912\n",
      "0.4 0.03981590270996094\n",
      "[]\n",
      "0.5 0.06890296936035156\n",
      "0.6 0.003337860107421875\n",
      "1 20.426511764526367\n",
      "2 481.7979335784912\n",
      "3 0.006198883056640625\n",
      "4 226.77326202392578\n",
      "5 901.5281200408936\n",
      "42.44637489318848\n"
     ]
    }
   ],
   "source": [
    "ft = fourier_poly_chi2_fit_transpose(mjdobs, mags[:,:10], inverr2[:,:10], 1e-10, 100., 2**16, 4, use_nfft=False)"
   ]
  },
  {
   "cell_type": "code",
   "execution_count": 296,
   "metadata": {},
   "outputs": [
    {
     "data": {
      "image/png": "[encoded data removed]",
      "text/plain": [
       "<Figure size 432x288 with 1 Axes>"
      ]
     },
     "metadata": {
      "needs_background": "light"
     },
     "output_type": "display_data"
    }
   ],
   "source": [
    "plt.plot(ft['freq_grid'], ft['power'][1]);\n",
    "# plt.semilogy()\n",
    "# plt.semilogx()"
   ]
  },
  {
   "cell_type": "code",
   "execution_count": 293,
   "metadata": {},
   "outputs": [
    {
     "data": {
      "image/png": "[encoded data removed]",
      "text/plain": [
       "<Figure size 432x288 with 1 Axes>"
      ]
     },
     "metadata": {
      "needs_background": "light"
     },
     "output_type": "display_data"
    }
   ],
   "source": [
    "plt.plot(ft['freq_grid'], ft['power'][1]);\n",
    "# plt.semilogy()\n",
    "# plt.semilogx()"
   ]
  },
  {
   "cell_type": "code",
   "execution_count": 38,
   "metadata": {},
   "outputs": [],
   "source": [
    "kwargs = dict(f0=0.1, df=0.01, use_fft=True, N=1000)"
   ]
  },
  {
   "cell_type": "code",
   "execution_count": 191,
   "metadata": {},
   "outputs": [
    {
     "name": "stdout",
     "output_type": "stream",
     "text": [
      "0.05364418029785156\n"
     ]
    }
   ],
   "source": [
    "# %%timeit -n 5 -r 1\n",
    "freq_factor = 5\n",
    "Nf=10\n",
    "ss=trig_sum_nfft(mjdobs, inverr2[:,:1], 1, False, f0=0., df=0.01, use_fft=True, N=Nf*freq_factor)"
   ]
  },
  {
   "cell_type": "code",
   "execution_count": 221,
   "metadata": {},
   "outputs": [
    {
     "name": "stdout",
     "output_type": "stream",
     "text": [
      "33.2 ms ± 0 ns per loop (mean ± std. dev. of 1 run, 5 loops each)\n"
     ]
    }
   ],
   "source": [
    "%%timeit -n 5 -r 1\n",
    "ss_x=trig_sum_nfft_freq_factor(mjdobs, inverr2[:,:100], freq_factor, df=0.01, Nf=Nf)"
   ]
  },
  {
   "cell_type": "code",
   "execution_count": 225,
   "metadata": {},
   "outputs": [],
   "source": [
    "ss_x=trig_sum_nfft_freq_factor(mjdobs, inverr2[:,:100], freq_factor, df=0.01, Nf=Nf)"
   ]
  },
  {
   "cell_type": "code",
   "execution_count": 228,
   "metadata": {},
   "outputs": [
    {
     "data": {
      "text/plain": [
       "(5, 10, 100)"
      ]
     },
     "execution_count": 228,
     "metadata": {},
     "output_type": "execute_result"
    }
   ],
   "source": [
    "np.shape(ss_x)"
   ]
  },
  {
   "cell_type": "code",
   "execution_count": 206,
   "metadata": {},
   "outputs": [
    {
     "name": "stdout",
     "output_type": "stream",
     "text": [
      "113 ms ± 0 ns per loop (mean ± std. dev. of 1 run, 5 loops each)\n"
     ]
    }
   ],
   "source": [
    "%%timeit -n 5 -r 1\n",
    "ss_x2=\\\n",
    "[trig_sum_nfft(mjdobs, inverr2[:,:100], ff, False, f0=0., df=0.01, use_fft=True, N=Nf)\n",
    " for ff in range(1, freq_factor+1)]"
   ]
  },
  {
   "cell_type": "code",
   "execution_count": 202,
   "metadata": {},
   "outputs": [
    {
     "data": {
      "image/png": "[encoded data removed]",
      "text/plain": [
       "<Figure size 432x288 with 1 Axes>"
      ]
     },
     "metadata": {
      "needs_background": "light"
     },
     "output_type": "display_data"
    }
   ],
   "source": [
    "plt.plot(ss_x2[0])\n",
    "plt.plot(ss_x[0],ls='dashed');\n",
    "# plt.plot(ss[::freq_factor]);"
   ]
  },
  {
   "cell_type": "code",
   "execution_count": 55,
   "metadata": {},
   "outputs": [
    {
     "data": {
      "text/plain": [
       "[<matplotlib.lines.Line2D at 0x7fbf87e42d30>]"
      ]
     },
     "execution_count": 55,
     "metadata": {},
     "output_type": "execute_result"
    },
    {
     "data": {
      "image/png": "[encoded data removed]",
      "text/plain": [
       "<Figure size 432x288 with 1 Axes>"
      ]
     },
     "metadata": {
      "needs_background": "light"
     },
     "output_type": "display_data"
    }
   ],
   "source": [
    "plt.plot(ss_2[0])\n",
    "plt.plot(ss[0])"
   ]
  },
  {
   "cell_type": "code",
   "execution_count": 86,
   "metadata": {},
   "outputs": [
    {
     "data": {
      "text/plain": [
       "3151.1845588399956"
      ]
     },
     "execution_count": 86,
     "metadata": {},
     "output_type": "execute_result"
    }
   ],
   "source": [
    "np.max(mjdobs)-np.min(mjdobs)"
   ]
  },
  {
   "cell_type": "code",
   "execution_count": 87,
   "metadata": {},
   "outputs": [
    {
     "data": {
      "text/plain": [
       "0.01"
      ]
     },
     "execution_count": 87,
     "metadata": {},
     "output_type": "execute_result"
    }
   ],
   "source": [
    "1./100."
   ]
  },
  {
   "cell_type": "code",
   "execution_count": 239,
   "metadata": {},
   "outputs": [
    {
     "name": "stdout",
     "output_type": "stream",
     "text": [
      "0.1 1.3875961303710938\n",
      "0.2 1365.2901649475098\n",
      "0.3 588.5992050170898\n",
      "0.4 0.024080276489257812\n",
      "0.5 0.0035762786865234375\n",
      "0.6 0.0035762786865234375\n",
      "1 4.932403564453125\n",
      "2 202.86917686462402\n",
      "3 0.0040531158447265625\n",
      "4 89.41769599914551\n",
      "5 445.71995735168457\n",
      "13.945579528808594\n",
      "2.71 s ± 0 ns per loop (mean ± std. dev. of 1 run, 1 loop each)\n"
     ]
    }
   ],
   "source": [
    "%%timeit -n 1 -r 1\n",
    "fourier_poly_chi2_fit_transpose(mjdobs, mags[:,:1], inverr2[:,:1], 1./5000., 100., 2**18, 4, use_nfft=False)"
   ]
  },
  {
   "cell_type": "code",
   "execution_count": 96,
   "metadata": {},
   "outputs": [
    {
     "name": "stdout",
     "output_type": "stream",
     "text": [
      "0.1 20.183563232421875\n",
      "357.4690818786621\n",
      "349.26486015319824\n",
      "351.41968727111816\n",
      "353.26600074768066\n",
      "354.22205924987793\n",
      "349.89142417907715\n",
      "349.7490882873535\n",
      "349.8859405517578\n",
      "0.2 3651.2675285339355\n",
      "349.9293327331543\n",
      "348.5980033874512\n",
      "351.64546966552734\n",
      "346.6076850891113\n",
      "0.3 1803.802251815796\n",
      "0.4 0.09369850158691406\n",
      "0.5 0.003814697265625\n",
      "0.6 0.0035762786865234375\n",
      "1 48.6454963684082\n",
      "2 1420.2830791473389\n",
      "3 0.005245208740234375\n",
      "4 552.1917343139648\n",
      "5 2158.7698459625244\n",
      "103.60836982727051\n",
      "9.77 s ± 0 ns per loop (mean ± std. dev. of 1 run, 1 loop each)\n"
     ]
    }
   ],
   "source": [
    "%%timeit -n 1 -r 1\n",
    "fourier_poly_chi2_fit_transpose(mjdobs, mags[:,:100], inverr2[:,:100], 0.01, 100., 2**14, 4, use_nfft=False)"
   ]
  },
  {
   "cell_type": "code",
   "execution_count": 6,
   "metadata": {},
   "outputs": [
    {
     "name": "stdout",
     "output_type": "stream",
     "text": [
      "3.814697265625e-06\n"
     ]
    }
   ],
   "source": [
    "ft=fourier_poly_chi2_fit_transpose(test_times, test_mag, 1./test_err**2, 0.01, 100., 2**10, use_nfft=False)\n",
    "ft_s=\\\n",
    "    [single_comp(test_times, test_mag.T[ii], test_err.T[ii], 0.01, 100., 2**10, use_nfft=False)\n",
    "     for ii in range(np.shape(test_mag)[1])]"
   ]
  },
  {
   "cell_type": "code",
   "execution_count": 7,
   "metadata": {},
   "outputs": [
    {
     "ename": "KeyError",
     "evalue": "'power'",
     "output_type": "error",
     "traceback": [
      "\u001b[0;31m---------------------------------------------------------------------------\u001b[0m",
      "\u001b[0;31mKeyError\u001b[0m                                  Traceback (most recent call last)",
      "\u001b[0;32m<ipython-input-7-c90a89efa360>\u001b[0m in \u001b[0;36m<module>\u001b[0;34m\u001b[0m\n\u001b[0;32m----> 1\u001b[0;31m \u001b[0;34m[\u001b[0m\u001b[0mplt\u001b[0m\u001b[0;34m.\u001b[0m\u001b[0mplot\u001b[0m\u001b[0;34m(\u001b[0m\u001b[0ms\u001b[0m\u001b[0;34m[\u001b[0m\u001b[0;34m'frequency_grid'\u001b[0m\u001b[0;34m]\u001b[0m\u001b[0;34m,\u001b[0m \u001b[0mnp\u001b[0m\u001b[0;34m.\u001b[0m\u001b[0mabs\u001b[0m\u001b[0;34m(\u001b[0m\u001b[0mft\u001b[0m\u001b[0;34m[\u001b[0m\u001b[0;34m'power'\u001b[0m\u001b[0;34m]\u001b[0m\u001b[0;34m[\u001b[0m\u001b[0mi\u001b[0m\u001b[0;34m]\u001b[0m\u001b[0;34m-\u001b[0m\u001b[0ms\u001b[0m\u001b[0;34m[\u001b[0m\u001b[0;34m'power'\u001b[0m\u001b[0;34m]\u001b[0m\u001b[0;34m)\u001b[0m\u001b[0;34m)\u001b[0m \u001b[0;32mfor\u001b[0m \u001b[0mi\u001b[0m\u001b[0;34m,\u001b[0m \u001b[0ms\u001b[0m \u001b[0;32min\u001b[0m \u001b[0menumerate\u001b[0m\u001b[0;34m(\u001b[0m\u001b[0mft_s\u001b[0m\u001b[0;34m)\u001b[0m\u001b[0;34m]\u001b[0m\u001b[0;34m;\u001b[0m\u001b[0;34m\u001b[0m\u001b[0m\n\u001b[0m\u001b[1;32m      2\u001b[0m \u001b[0mplt\u001b[0m\u001b[0;34m.\u001b[0m\u001b[0msemilogy\u001b[0m\u001b[0;34m(\u001b[0m\u001b[0;34m)\u001b[0m\u001b[0;34m\u001b[0m\u001b[0m\n\u001b[1;32m      3\u001b[0m \u001b[0mplt\u001b[0m\u001b[0;34m.\u001b[0m\u001b[0msemilogx\u001b[0m\u001b[0;34m(\u001b[0m\u001b[0;34m)\u001b[0m\u001b[0;34m\u001b[0m\u001b[0m\n",
      "\u001b[0;32m<ipython-input-7-c90a89efa360>\u001b[0m in \u001b[0;36m<listcomp>\u001b[0;34m(.0)\u001b[0m\n\u001b[0;32m----> 1\u001b[0;31m \u001b[0;34m[\u001b[0m\u001b[0mplt\u001b[0m\u001b[0;34m.\u001b[0m\u001b[0mplot\u001b[0m\u001b[0;34m(\u001b[0m\u001b[0ms\u001b[0m\u001b[0;34m[\u001b[0m\u001b[0;34m'frequency_grid'\u001b[0m\u001b[0;34m]\u001b[0m\u001b[0;34m,\u001b[0m \u001b[0mnp\u001b[0m\u001b[0;34m.\u001b[0m\u001b[0mabs\u001b[0m\u001b[0;34m(\u001b[0m\u001b[0mft\u001b[0m\u001b[0;34m[\u001b[0m\u001b[0;34m'power'\u001b[0m\u001b[0;34m]\u001b[0m\u001b[0;34m[\u001b[0m\u001b[0mi\u001b[0m\u001b[0;34m]\u001b[0m\u001b[0;34m-\u001b[0m\u001b[0ms\u001b[0m\u001b[0;34m[\u001b[0m\u001b[0;34m'power'\u001b[0m\u001b[0;34m]\u001b[0m\u001b[0;34m)\u001b[0m\u001b[0;34m)\u001b[0m \u001b[0;32mfor\u001b[0m \u001b[0mi\u001b[0m\u001b[0;34m,\u001b[0m \u001b[0ms\u001b[0m \u001b[0;32min\u001b[0m \u001b[0menumerate\u001b[0m\u001b[0;34m(\u001b[0m\u001b[0mft_s\u001b[0m\u001b[0;34m)\u001b[0m\u001b[0;34m]\u001b[0m\u001b[0;34m;\u001b[0m\u001b[0;34m\u001b[0m\u001b[0m\n\u001b[0m\u001b[1;32m      2\u001b[0m \u001b[0mplt\u001b[0m\u001b[0;34m.\u001b[0m\u001b[0msemilogy\u001b[0m\u001b[0;34m(\u001b[0m\u001b[0;34m)\u001b[0m\u001b[0;34m\u001b[0m\u001b[0m\n\u001b[1;32m      3\u001b[0m \u001b[0mplt\u001b[0m\u001b[0;34m.\u001b[0m\u001b[0msemilogx\u001b[0m\u001b[0;34m(\u001b[0m\u001b[0;34m)\u001b[0m\u001b[0;34m\u001b[0m\u001b[0m\n",
      "\u001b[0;31mKeyError\u001b[0m: 'power'"
     ]
    }
   ],
   "source": [
    "[plt.plot(s['frequency_grid'], np.abs(ft['power'][i]-s['power'])) for i, s in enumerate(ft_s)];\n",
    "plt.semilogy()\n",
    "plt.semilogx()"
   ]
  },
  {
   "cell_type": "code",
   "execution_count": 5,
   "metadata": {},
   "outputs": [
    {
     "name": "stdout",
     "output_type": "stream",
     "text": [
      "(100, 100)\n"
     ]
    }
   ],
   "source": [
    "NT = 100\n",
    "test_times = np.sort(np.random.uniform(0.,1.,NT))\n",
    "freq = np.random.uniform(5.,10.,100)\n",
    "test_mag = np.cos(test_times[:,np.newaxis]*freq[np.newaxis,:]*2*np.pi)\n",
    "print(np.shape(test_mag))\n",
    "test_err = 0.1*np.ones_like(test_mag)\n",
    "test_mag += np.random.normal(loc=0., scale=test_err)"
   ]
  },
  {
   "cell_type": "code",
   "execution_count": 351,
   "metadata": {},
   "outputs": [
    {
     "ename": "KeyboardInterrupt",
     "evalue": "",
     "output_type": "error",
     "traceback": [
      "\u001b[0;31m---------------------------------------------------------------------------\u001b[0m",
      "\u001b[0;31mKeyboardInterrupt\u001b[0m                         Traceback (most recent call last)",
      "\u001b[0;32m<ipython-input-351-c7beede727d2>\u001b[0m in \u001b[0;36m<module>\u001b[0;34m\u001b[0m\n\u001b[0;32m----> 1\u001b[0;31m \u001b[0mget_ipython\u001b[0m\u001b[0;34m(\u001b[0m\u001b[0;34m)\u001b[0m\u001b[0;34m.\u001b[0m\u001b[0mrun_cell_magic\u001b[0m\u001b[0;34m(\u001b[0m\u001b[0;34m'timeit'\u001b[0m\u001b[0;34m,\u001b[0m \u001b[0;34m'-n 5 -r 1'\u001b[0m\u001b[0;34m,\u001b[0m \u001b[0;34m'ft_s=\\\\\\n    [single_comp(test_times, test_mag.T[ii], test_err.T[ii], 0.01, 100., 2**12, 4, use_nfft=False)\\n     for ii in range(np.shape(test_mag)[1])]\\n'\u001b[0m\u001b[0;34m)\u001b[0m\u001b[0;34m\u001b[0m\u001b[0m\n\u001b[0m",
      "\u001b[0;32m/data/jls/python3.5/site-packages/IPython/core/interactiveshell.py\u001b[0m in \u001b[0;36mrun_cell_magic\u001b[0;34m(self, magic_name, line, cell)\u001b[0m\n\u001b[1;32m   2357\u001b[0m             \u001b[0;32mwith\u001b[0m \u001b[0mself\u001b[0m\u001b[0;34m.\u001b[0m\u001b[0mbuiltin_trap\u001b[0m\u001b[0;34m:\u001b[0m\u001b[0;34m\u001b[0m\u001b[0m\n\u001b[1;32m   2358\u001b[0m                 \u001b[0margs\u001b[0m \u001b[0;34m=\u001b[0m \u001b[0;34m(\u001b[0m\u001b[0mmagic_arg_s\u001b[0m\u001b[0;34m,\u001b[0m \u001b[0mcell\u001b[0m\u001b[0;34m)\u001b[0m\u001b[0;34m\u001b[0m\u001b[0m\n\u001b[0;32m-> 2359\u001b[0;31m                 \u001b[0mresult\u001b[0m \u001b[0;34m=\u001b[0m \u001b[0mfn\u001b[0m\u001b[0;34m(\u001b[0m\u001b[0;34m*\u001b[0m\u001b[0margs\u001b[0m\u001b[0;34m,\u001b[0m \u001b[0;34m**\u001b[0m\u001b[0mkwargs\u001b[0m\u001b[0;34m)\u001b[0m\u001b[0;34m\u001b[0m\u001b[0m\n\u001b[0m\u001b[1;32m   2360\u001b[0m             \u001b[0;32mreturn\u001b[0m \u001b[0mresult\u001b[0m\u001b[0;34m\u001b[0m\u001b[0m\n\u001b[1;32m   2361\u001b[0m \u001b[0;34m\u001b[0m\u001b[0m\n",
      "\u001b[0;32m<decorator-gen-60>\u001b[0m in \u001b[0;36mtimeit\u001b[0;34m(self, line, cell, local_ns)\u001b[0m\n",
      "\u001b[0;32m/data/jls/python3.5/site-packages/IPython/core/magic.py\u001b[0m in \u001b[0;36m<lambda>\u001b[0;34m(f, *a, **k)\u001b[0m\n\u001b[1;32m    185\u001b[0m     \u001b[0;31m# but it's overkill for just that one bit of state.\u001b[0m\u001b[0;34m\u001b[0m\u001b[0;34m\u001b[0m\u001b[0m\n\u001b[1;32m    186\u001b[0m     \u001b[0;32mdef\u001b[0m \u001b[0mmagic_deco\u001b[0m\u001b[0;34m(\u001b[0m\u001b[0marg\u001b[0m\u001b[0;34m)\u001b[0m\u001b[0;34m:\u001b[0m\u001b[0;34m\u001b[0m\u001b[0m\n\u001b[0;32m--> 187\u001b[0;31m         \u001b[0mcall\u001b[0m \u001b[0;34m=\u001b[0m \u001b[0;32mlambda\u001b[0m \u001b[0mf\u001b[0m\u001b[0;34m,\u001b[0m \u001b[0;34m*\u001b[0m\u001b[0ma\u001b[0m\u001b[0;34m,\u001b[0m \u001b[0;34m**\u001b[0m\u001b[0mk\u001b[0m\u001b[0;34m:\u001b[0m \u001b[0mf\u001b[0m\u001b[0;34m(\u001b[0m\u001b[0;34m*\u001b[0m\u001b[0ma\u001b[0m\u001b[0;34m,\u001b[0m \u001b[0;34m**\u001b[0m\u001b[0mk\u001b[0m\u001b[0;34m)\u001b[0m\u001b[0;34m\u001b[0m\u001b[0m\n\u001b[0m\u001b[1;32m    188\u001b[0m \u001b[0;34m\u001b[0m\u001b[0m\n\u001b[1;32m    189\u001b[0m         \u001b[0;32mif\u001b[0m \u001b[0mcallable\u001b[0m\u001b[0;34m(\u001b[0m\u001b[0marg\u001b[0m\u001b[0;34m)\u001b[0m\u001b[0;34m:\u001b[0m\u001b[0;34m\u001b[0m\u001b[0m\n",
      "\u001b[0;32m/data/jls/python3.5/site-packages/IPython/core/magics/execution.py\u001b[0m in \u001b[0;36mtimeit\u001b[0;34m(self, line, cell, local_ns)\u001b[0m\n\u001b[1;32m   1160\u001b[0m                     \u001b[0;32mbreak\u001b[0m\u001b[0;34m\u001b[0m\u001b[0m\n\u001b[1;32m   1161\u001b[0m \u001b[0;34m\u001b[0m\u001b[0m\n\u001b[0;32m-> 1162\u001b[0;31m         \u001b[0mall_runs\u001b[0m \u001b[0;34m=\u001b[0m \u001b[0mtimer\u001b[0m\u001b[0;34m.\u001b[0m\u001b[0mrepeat\u001b[0m\u001b[0;34m(\u001b[0m\u001b[0mrepeat\u001b[0m\u001b[0;34m,\u001b[0m \u001b[0mnumber\u001b[0m\u001b[0;34m)\u001b[0m\u001b[0;34m\u001b[0m\u001b[0m\n\u001b[0m\u001b[1;32m   1163\u001b[0m         \u001b[0mbest\u001b[0m \u001b[0;34m=\u001b[0m \u001b[0mmin\u001b[0m\u001b[0;34m(\u001b[0m\u001b[0mall_runs\u001b[0m\u001b[0;34m)\u001b[0m \u001b[0;34m/\u001b[0m \u001b[0mnumber\u001b[0m\u001b[0;34m\u001b[0m\u001b[0m\n\u001b[1;32m   1164\u001b[0m         \u001b[0mworst\u001b[0m \u001b[0;34m=\u001b[0m \u001b[0mmax\u001b[0m\u001b[0;34m(\u001b[0m\u001b[0mall_runs\u001b[0m\u001b[0;34m)\u001b[0m \u001b[0;34m/\u001b[0m \u001b[0mnumber\u001b[0m\u001b[0;34m\u001b[0m\u001b[0m\n",
      "\u001b[0;32m/opt/ioa/software/python/3.5.2/lib/python3.5/timeit.py\u001b[0m in \u001b[0;36mrepeat\u001b[0;34m(self, repeat, number)\u001b[0m\n\u001b[1;32m    204\u001b[0m         \u001b[0mr\u001b[0m \u001b[0;34m=\u001b[0m \u001b[0;34m[\u001b[0m\u001b[0;34m]\u001b[0m\u001b[0;34m\u001b[0m\u001b[0m\n\u001b[1;32m    205\u001b[0m         \u001b[0;32mfor\u001b[0m \u001b[0mi\u001b[0m \u001b[0;32min\u001b[0m \u001b[0mrange\u001b[0m\u001b[0;34m(\u001b[0m\u001b[0mrepeat\u001b[0m\u001b[0;34m)\u001b[0m\u001b[0;34m:\u001b[0m\u001b[0;34m\u001b[0m\u001b[0m\n\u001b[0;32m--> 206\u001b[0;31m             \u001b[0mt\u001b[0m \u001b[0;34m=\u001b[0m \u001b[0mself\u001b[0m\u001b[0;34m.\u001b[0m\u001b[0mtimeit\u001b[0m\u001b[0;34m(\u001b[0m\u001b[0mnumber\u001b[0m\u001b[0;34m)\u001b[0m\u001b[0;34m\u001b[0m\u001b[0m\n\u001b[0m\u001b[1;32m    207\u001b[0m             \u001b[0mr\u001b[0m\u001b[0;34m.\u001b[0m\u001b[0mappend\u001b[0m\u001b[0;34m(\u001b[0m\u001b[0mt\u001b[0m\u001b[0;34m)\u001b[0m\u001b[0;34m\u001b[0m\u001b[0m\n\u001b[1;32m    208\u001b[0m         \u001b[0;32mreturn\u001b[0m \u001b[0mr\u001b[0m\u001b[0;34m\u001b[0m\u001b[0m\n",
      "\u001b[0;32m/data/jls/python3.5/site-packages/IPython/core/magics/execution.py\u001b[0m in \u001b[0;36mtimeit\u001b[0;34m(self, number)\u001b[0m\n\u001b[1;32m    167\u001b[0m         \u001b[0mgc\u001b[0m\u001b[0;34m.\u001b[0m\u001b[0mdisable\u001b[0m\u001b[0;34m(\u001b[0m\u001b[0;34m)\u001b[0m\u001b[0;34m\u001b[0m\u001b[0m\n\u001b[1;32m    168\u001b[0m         \u001b[0;32mtry\u001b[0m\u001b[0;34m:\u001b[0m\u001b[0;34m\u001b[0m\u001b[0m\n\u001b[0;32m--> 169\u001b[0;31m             \u001b[0mtiming\u001b[0m \u001b[0;34m=\u001b[0m \u001b[0mself\u001b[0m\u001b[0;34m.\u001b[0m\u001b[0minner\u001b[0m\u001b[0;34m(\u001b[0m\u001b[0mit\u001b[0m\u001b[0;34m,\u001b[0m \u001b[0mself\u001b[0m\u001b[0;34m.\u001b[0m\u001b[0mtimer\u001b[0m\u001b[0;34m)\u001b[0m\u001b[0;34m\u001b[0m\u001b[0m\n\u001b[0m\u001b[1;32m    170\u001b[0m         \u001b[0;32mfinally\u001b[0m\u001b[0;34m:\u001b[0m\u001b[0;34m\u001b[0m\u001b[0m\n\u001b[1;32m    171\u001b[0m             \u001b[0;32mif\u001b[0m \u001b[0mgcold\u001b[0m\u001b[0;34m:\u001b[0m\u001b[0;34m\u001b[0m\u001b[0m\n",
      "\u001b[0;32m<magic-timeit>\u001b[0m in \u001b[0;36minner\u001b[0;34m(_it, _timer)\u001b[0m\n",
      "\u001b[0;32m<magic-timeit>\u001b[0m in \u001b[0;36m<listcomp>\u001b[0;34m(.0)\u001b[0m\n",
      "\u001b[0;32m~/work/data/gaiadr2/virac/variability/thomas/virac_classifier/fine_classif/feat_extract/lc_utils.py\u001b[0m in \u001b[0;36mfourier_poly_chi2_fit_transpose\u001b[0;34m(times, mag, err, f0, f1, Nf, nterms, normalization, npoly, use_nfft, regularization, regularization_power, time_zeropoint_poly, regularize_by_trace)\u001b[0m\n\u001b[1;32m    506\u001b[0m                                              (Q[abs(m - n)] + Q[m + n]))\n\u001b[1;32m    507\u001b[0m             alpha[2 * n, 2 * m - 1] = np.imag(\n\u001b[0;32m--> 508\u001b[0;31m                 .5 * (np.sign(m - n) * Q[abs(m - n)] + Q[m + n]))\n\u001b[0m\u001b[1;32m    509\u001b[0m             alpha[2 * n - 1, 2 * m] = np.imag(\n\u001b[1;32m    510\u001b[0m                 .5 * (np.sign(n - m) * Q[abs(m - n)] + Q[m + n]))\n",
      "\u001b[0;31mKeyboardInterrupt\u001b[0m: "
     ]
    }
   ],
   "source": [
    "%%timeit -n 5 -r 1\n",
    "ft_s=\\\n",
    "    [single_comp(test_times, test_mag.T[ii], test_err.T[ii], 0.01, 100., 2**12, 4, use_nfft=False)\n",
    "     for ii in range(np.shape(test_mag)[1])]"
   ]
  },
  {
   "cell_type": "code",
   "execution_count": 9,
   "metadata": {},
   "outputs": [
    {
     "name": "stdout",
     "output_type": "stream",
     "text": [
      "4.291534423828125e-06\n",
      "3.337860107421875e-06\n",
      "5.4836273193359375e-06\n",
      "3.814697265625e-06\n",
      "3.0994415283203125e-06\n",
      "2.14 s ± 0 ns per loop (mean ± std. dev. of 1 run, 5 loops each)\n"
     ]
    }
   ],
   "source": [
    "%%timeit -n 5 -r 1\n",
    "ft=fourier_poly_chi2_fit_transpose(test_times, test_mag, test_err, 0.01, 100., 2**12, 4, use_nfft=False)\n"
   ]
  },
  {
   "cell_type": "code",
   "execution_count": null,
   "metadata": {},
   "outputs": [],
   "source": []
  },
  {
   "cell_type": "code",
   "execution_count": null,
   "metadata": {},
   "outputs": [],
   "source": []
  },
  {
   "cell_type": "code",
   "execution_count": 10,
   "metadata": {},
   "outputs": [],
   "source": [
    "import sys\n",
    "sys.path.append('../../../leigh_indices/VVVSearch/')\n",
    "from make_indices import read_archive"
   ]
  },
  {
   "cell_type": "code",
   "execution_count": 11,
   "metadata": {},
   "outputs": [],
   "source": [
    "mjdobs, mags, emags, sourceids = read_archive('/data/jls/virac/n512_2318830.hdf5')"
   ]
  },
  {
   "cell_type": "code",
   "execution_count": 12,
   "metadata": {},
   "outputs": [],
   "source": [
    "mmean = np.nanmean(mags, axis=0)\n",
    "inds = np.where(np.isnan(mags))\n",
    "mags[inds] = np.take(mmean, inds[1])\n",
    "inverr2 = 1./emags**2\n",
    "inverr2[np.isnan(inverr2)]=0."
   ]
  },
  {
   "cell_type": "code",
   "execution_count": 147,
   "metadata": {},
   "outputs": [],
   "source": [
    "ft=fourier_poly_chi2_fit_transpose(mjdobs, mags[:,:1000], emags[:,:1000], 0.01, 100., 2**14, 4, use_nfft=False)\n"
   ]
  },
  {
   "cell_type": "code",
   "execution_count": 144,
   "metadata": {},
   "outputs": [],
   "source": [
    "from fine_classif.feat_extract.lc_utils import autofrequency\n",
    "Nf = autofrequency(mjdobs)"
   ]
  },
  {
   "cell_type": "code",
   "execution_count": 79,
   "metadata": {},
   "outputs": [
    {
     "data": {
      "text/plain": [
       "32768"
      ]
     },
     "execution_count": 79,
     "metadata": {},
     "output_type": "execute_result"
    }
   ],
   "source": [
    "2**15"
   ]
  },
  {
   "cell_type": "code",
   "execution_count": 90,
   "metadata": {},
   "outputs": [
    {
     "name": "stdout",
     "output_type": "stream",
     "text": [
      "0.1 20.133495330810547\n",
      "376.97672843933105\n",
      "360.09716987609863\n",
      "363.28577995300293\n",
      "362.4861240386963\n",
      "367.8104877471924\n",
      "369.59362030029297\n",
      "369.65346336364746\n",
      "365.0515079498291\n",
      "0.2 3495.7385063171387\n",
      "357.7880859375\n",
      "363.5401725769043\n",
      "369.9383735656738\n",
      "365.28897285461426\n",
      "0.3 1730.835199356079\n",
      "0.4 0.04267692565917969\n",
      "0.5 0.0035762786865234375\n",
      "0.6 0.0026226043701171875\n",
      "1 38.994789123535156\n",
      "2 1057.8563213348389\n",
      "3 0.00476837158203125\n",
      "4 447.07536697387695\n",
      "5 1726.837396621704\n",
      "84.53154563903809\n",
      "8.61 s ± 0 ns per loop (mean ± std. dev. of 1 run, 1 loop each)\n"
     ]
    }
   ],
   "source": [
    "%%timeit -n 1 -r 1\n",
    "fourier_poly_chi2_fit_transpose(mjdobs, mags[:,:10], inverr2[:,:10], 0.01, 100., 2**17, 4, use_nfft=False)"
   ]
  },
  {
   "cell_type": "code",
   "execution_count": 179,
   "metadata": {},
   "outputs": [
    {
     "data": {
      "text/plain": [
       "(816,)"
      ]
     },
     "execution_count": 179,
     "metadata": {},
     "output_type": "execute_result"
    }
   ],
   "source": [
    "np.shape(mjdobs)"
   ]
  },
  {
   "cell_type": "code",
   "execution_count": 162,
   "metadata": {},
   "outputs": [
    {
     "data": {
      "image/png": "[encoded data removed]",
      "text/plain": [
       "<Figure size 432x288 with 1 Axes>"
      ]
     },
     "metadata": {
      "needs_background": "light"
     },
     "output_type": "display_data"
    }
   ],
   "source": [
    "plt.hist(np.log10(ft['period']),bins=50);"
   ]
  },
  {
   "cell_type": "code",
   "execution_count": null,
   "metadata": {},
   "outputs": [],
   "source": []
  }
 ],
 "metadata": {
  "kernelspec": {
   "display_name": "Python 3",
   "language": "python",
   "name": "python3"
  },
  "language_info": {
   "codemirror_mode": {
    "name": "ipython",
    "version": 3
   },
   "file_extension": ".py",
   "mimetype": "text/x-python",
   "name": "python",
   "nbconvert_exporter": "python",
   "pygments_lexer": "ipython3",
   "version": "3.5.2"
  }
 },
 "nbformat": 4,
 "nbformat_minor": 4
}
