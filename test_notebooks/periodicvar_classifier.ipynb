{
 "cells": [
  {
   "cell_type": "code",
   "execution_count": 2,
   "metadata": {},
   "outputs": [],
   "source": [
    "import pandas as pd\n",
    "import matplotlib.pyplot as plt\n",
    "import numpy as np\n",
    "import matplotlib"
   ]
  },
  {
   "cell_type": "code",
   "execution_count": 3,
   "metadata": {},
   "outputs": [],
   "source": [
    "import matplotlib\n",
    "from sklearn.preprocessing import StandardScaler\n",
    "from sklearn.ensemble import RandomForestClassifier\n",
    "from sklearn.model_selection import GridSearchCV\n",
    "from sklearn.model_selection import train_test_split\n",
    "from sklearn.model_selection import cross_val_score\n",
    "import sklearn.metrics as metric"
   ]
  },
  {
   "cell_type": "markdown",
   "metadata": {},
   "source": [
    "# Construct the secondary (fine-grain) classifier from OGLE/Const training set\n",
    "## Import training/testing data"
   ]
  },
  {
   "cell_type": "code",
   "execution_count": 4,
   "metadata": {},
   "outputs": [
    {
     "name": "stdout",
     "output_type": "stream",
     "text": [
      "{'CONST', 'Ell', 'EW', 'LYR_AB', 'LYR_CD', 'EA/EB'}\n",
      "146293\n"
     ]
    }
   ],
   "source": [
    "train_tot = pd.read_pickle('final_trainset.pkl')\n",
    "print(set(list(np.array(train_tot['class']))))\n",
    "print(len(train_tot))"
   ]
  },
  {
   "cell_type": "code",
   "execution_count": 14,
   "metadata": {},
   "outputs": [
    {
     "name": "stderr",
     "output_type": "stream",
     "text": [
      "/home/tam68/.local/lib/python3.6/site-packages/pandas/core/frame.py:3997: SettingWithCopyWarning: \n",
      "A value is trying to be set on a copy of a slice from a DataFrame\n",
      "\n",
      "See the caveats in the documentation: https://pandas.pydata.org/pandas-docs/stable/user_guide/indexing.html#returning-a-view-versus-a-copy\n",
      "  errors=errors,\n"
     ]
    },
    {
     "data": {
      "text/plain": [
       "array([[<matplotlib.axes._subplots.AxesSubplot object at 0x7f31a334ad68>]],\n",
       "      dtype=object)"
      ]
     },
     "execution_count": 14,
     "metadata": {},
     "output_type": "execute_result"
    },
    {
     "data": {
      "image/png": "[encoded data removed]",
      "text/plain": [
       "<Figure size 432x288 with 1 Axes>"
      ]
     },
     "metadata": {
      "needs_background": "light"
     },
     "output_type": "display_data"
    }
   ],
   "source": [
    "ew = train_tot.loc[train_tot['class']=='EW']\n",
    "ew.drop(ew[ew['ls_period']>2.].index, inplace=True)\n",
    "ew[['log_lik']].hist(bins=30)"
   ]
  },
  {
   "cell_type": "code",
   "execution_count": 17,
   "metadata": {},
   "outputs": [
    {
     "name": "stdout",
     "output_type": "stream",
     "text": [
      "146293 total clipd set\n",
      "0 dropped clipd\n"
     ]
    }
   ],
   "source": [
    "train = train_tot.replace([np.inf, -np.inf], np.nan)\n",
    "train = train.dropna(axis=0, how='any') \n",
    "print(\"{} total clipd set\".format(len(train_tot)))\n",
    "print(\"{} dropped clipd\".format(len(train_tot)-len(train)))"
   ]
  },
  {
   "cell_type": "code",
   "execution_count": 18,
   "metadata": {},
   "outputs": [],
   "source": [
    "def dist_classes(df):\n",
    "    numb = []\n",
    "    classes = set(list(np.array(df['class'])))\n",
    "    class_ = np.array(df['class'])\n",
    "    for i in classes:\n",
    "        count=0\n",
    "        for j in class_:\n",
    "            if j == i:\n",
    "                count+=1\n",
    "            else:\n",
    "                pass\n",
    "        numb.append([i, count])\n",
    "    for i in numb:\n",
    "        print(\"{} {} in training set\".format(i[1], i[0]))"
   ]
  },
  {
   "cell_type": "code",
   "execution_count": 19,
   "metadata": {},
   "outputs": [
    {
     "name": "stdout",
     "output_type": "stream",
     "text": [
      "-----\n",
      "54311 EW in training set\n",
      "18305 LYR_AB in training set\n",
      "28670 EA/EB in training set\n",
      "8612 LYR_CD in training set\n",
      "12749 Ell in training set\n",
      "23646 CONST in training set\n"
     ]
    }
   ],
   "source": [
    "print(\"-----\")\n",
    "dist_classes(train)"
   ]
  },
  {
   "cell_type": "code",
   "execution_count": 24,
   "metadata": {},
   "outputs": [],
   "source": [
    "data_cols = ['a0_a1', 'a0_a2', 'a0_a3', 'a1_a2', 'a1_a3', 'a2_a3', 'phi0_phi1',\n",
    "             'phi0_phi2','phi0_phi3', 'phi1_phi2', 'phi1_phi3', 'phi2_phi3','sd',\n",
    "             'skew', 'kurtosis', 'amplitude', 'beyondfrac', 'med_magdev', 'log_lik',\n",
    "             'ls_period','stetson_i', 'mags_q100mq0', 'mags_q99mq1', 'mags_q95mq5',\n",
    "             'mags_q90mq10','mags_q75mq25','JK_col', 'HK_col']\n",
    "\n",
    "target_cols = ['class']\n",
    "\n",
    "X = train[data_cols]\n",
    "y = train[target_cols]"
   ]
  },
  {
   "cell_type": "markdown",
   "metadata": {},
   "source": [
    "### Pre-process data (random split/normalise)"
   ]
  },
  {
   "cell_type": "code",
   "execution_count": 8,
   "metadata": {},
   "outputs": [],
   "source": [
    "X_train, X_test, y_train, y_test = train_test_split(X, y, test_size=0.25, random_state=42)"
   ]
  },
  {
   "cell_type": "code",
   "execution_count": 9,
   "metadata": {},
   "outputs": [],
   "source": [
    "sc = StandardScaler()\n",
    "X_train = sc.fit_transform(X_train)\n",
    "X_test = sc.transform(X_test)"
   ]
  },
  {
   "cell_type": "markdown",
   "metadata": {},
   "source": [
    "## Construct/Test Multilabel Classifier through crossvalidation"
   ]
  },
  {
   "cell_type": "code",
   "execution_count": 10,
   "metadata": {},
   "outputs": [],
   "source": [
    "model = RandomForestClassifier(n_estimators=1000, min_samples_split=10, min_samples_leaf=10, max_features='log2',\n",
    "                                    max_depth=18, class_weight='balanced_subsample')\n",
    "model.fit(X_train, y_train.values.ravel())\n",
    "y_pred = model.predict(X_test)"
   ]
  },
  {
   "cell_type": "code",
   "execution_count": 12,
   "metadata": {},
   "outputs": [],
   "source": [
    "def classif_report(model, y_test, y_pred, X_test):\n",
    "    print(metric.confusion_matrix(y_test,y_pred))\n",
    "    print(metric.classification_report(y_test,y_pred))\n",
    "    disp = metric.plot_confusion_matrix(model, X_test, y_test,\n",
    "           cmap=plt.cm.Blues, normalize='true')\n",
    "    fig = disp.figure_\n",
    "    ax = disp.ax_\n",
    "    im = disp.im_\n",
    "    fig.set_size_inches(15,15)\n",
    "    #fig.colorbar(im, ax=ax,fraction=0.046, pad=0.04)\n",
    "    font = {'family' : 'serif',\n",
    "        'weight' : 'normal',\n",
    "        'size'   : 20}\n",
    "    matplotlib.rc('font', **font)\n",
    "    ax.set_xlabel('Predicted label',family='serif', fontsize=17.5, labelpad=10)\n",
    "    ax.set_ylabel('True label',family='serif', fontsize=17.5, labelpad=2)\n",
    "    #ax.tick_params(labelsize=15)\n",
    "    ticks_font = matplotlib.font_manager.FontProperties(family='serif',\n",
    "                                                        style='normal', size=15,\n",
    "                                                        weight='normal', stretch='normal')\n",
    "    for label in ax.get_xticklabels():\n",
    "        label.set_fontproperties(ticks_font)\n",
    "    for label in ax.get_yticklabels():\n",
    "        label.set_fontproperties(ticks_font)\n",
    "    \n",
    "    return fig"
   ]
  },
  {
   "cell_type": "code",
   "execution_count": 13,
   "metadata": {},
   "outputs": [
    {
     "name": "stdout",
     "output_type": "stream",
     "text": [
      "[[ 5941     8     1     9     1     5]\n",
      " [   16  3665  2737   519   136    79]\n",
      " [   25  1076 11766   396   221   206]\n",
      " [   15   184   191  2608     9   109]\n",
      " [    0   139   219    80  4081     2]\n",
      " [    1    11    81    43     8  1986]]\n",
      "              precision    recall  f1-score   support\n",
      "\n",
      "       CONST       0.99      1.00      0.99      5965\n",
      "       EA/EB       0.72      0.51      0.60      7152\n",
      "          EW       0.78      0.86      0.82     13690\n",
      "         Ell       0.71      0.84      0.77      3116\n",
      "      LYR_AB       0.92      0.90      0.91      4521\n",
      "      LYR_CD       0.83      0.93      0.88      2130\n",
      "\n",
      "    accuracy                           0.82     36574\n",
      "   macro avg       0.83      0.84      0.83     36574\n",
      "weighted avg       0.82      0.82      0.82     36574\n",
      "\n"
     ]
    },
    {
     "data": {
      "image/png": "[encoded data removed]",
      "text/plain": [
       "<Figure size 1080x1080 with 2 Axes>"
      ]
     },
     "metadata": {
      "needs_background": "light"
     },
     "output_type": "display_data"
    }
   ],
   "source": [
    "fig1 = classif_report(model, y_test, y_pred, X_test)"
   ]
  },
  {
   "cell_type": "code",
   "execution_count": 24,
   "metadata": {},
   "outputs": [
    {
     "name": "stdout",
     "output_type": "stream",
     "text": [
      "0.8201582150732707 +/- 0.007251850638324696 mean accuracy for clipd model\n"
     ]
    }
   ],
   "source": [
    "scores = cross_val_score(model, X, y.values.ravel(),\n",
    "                               cv=10, scoring='accuracy', n_jobs=10)\n",
    "\n",
    "mean, sd = np.mean(scores), np.std(scores)\n",
    "\n",
    "print(\"{} +/- {} mean accuracy for clipd model\".format(mean, sd))\n"
   ]
  },
  {
   "cell_type": "markdown",
   "metadata": {},
   "source": [
    "### Check Feature Importance (for sanity)"
   ]
  },
  {
   "cell_type": "code",
   "execution_count": 26,
   "metadata": {},
   "outputs": [],
   "source": [
    "features_dict = {}\n",
    "for i in range(len(model.feature_importances_)):\n",
    "    features_dict[data_cols[i]] = model.feature_importances_[i]"
   ]
  },
  {
   "cell_type": "code",
   "execution_count": 29,
   "metadata": {},
   "outputs": [],
   "source": [
    "features_dict[r'LS period'] = features_dict.pop('ls_period')\n",
    "features_dict[r'S.D.'] = features_dict.pop('sd')\n",
    "features_dict[r'Stetson $I$'] = features_dict.pop('stetson_i')\n",
    "features_dict[r'JK colour'] = features_dict.pop('JK_col')\n",
    "features_dict[r'HK colour'] = features_dict.pop('HK_col')\n",
    "features_dict[r'$R_{01}$'] = features_dict.pop('a0_a1')\n",
    "features_dict[r'$R_{02}$'] = features_dict.pop('a0_a2')\n",
    "features_dict[r'$R_{03}$'] = features_dict.pop('a0_a3')\n",
    "features_dict[r'$R_{12}$'] = features_dict.pop('a1_a2')\n",
    "features_dict[r'$R_{13}$'] = features_dict.pop('a1_a3')\n",
    "features_dict[r'$R_{23}$'] = features_dict.pop('a2_a3')\n",
    "features_dict[r'$\\Phi_{01}$'] = features_dict.pop('phi0_phi1')\n",
    "features_dict[r'$\\Phi_{02}$'] = features_dict.pop('phi0_phi2')\n",
    "features_dict[r'$\\Phi_{03}$'] = features_dict.pop('phi0_phi3')\n",
    "features_dict[r'$\\Phi_{12}$'] = features_dict.pop('phi1_phi2')\n",
    "features_dict[r'$\\Phi_{13}$'] = features_dict.pop('phi1_phi3')\n",
    "features_dict[r'$\\Phi_{23}$'] = features_dict.pop('phi2_phi3')\n",
    "features_dict[r'Amplitude'] = features_dict.pop('amplitude')\n",
    "features_dict[r'$\\Delta$ Log Likelihood'] = features_dict.pop('log_lik')\n",
    "features_dict[r'Beyondfrac'] = features_dict.pop('beyondfrac')\n",
    "features_dict[r'Skew'] = features_dict.pop('skew')\n",
    "features_dict[r'Kurtosis'] = features_dict.pop('kurtosis')\n",
    "features_dict[r'M.A.D'] = features_dict.pop('med_magdev')\n"
   ]
  },
  {
   "cell_type": "code",
   "execution_count": 31,
   "metadata": {},
   "outputs": [
    {
     "data": {
      "image/png": "[encoded data removed]",
      "text/plain": [
       "<Figure size 720x720 with 1 Axes>"
      ]
     },
     "metadata": {
      "needs_background": "light"
     },
     "output_type": "display_data"
    },
    {
     "data": {
      "text/plain": [
       "<module 'matplotlib.pyplot' from '/opt/ioa/software/anaconda/anaconda36/envs/20200218/lib/python3.6/site-packages/matplotlib/pyplot.py'>"
      ]
     },
     "execution_count": 31,
     "metadata": {},
     "output_type": "execute_result"
    }
   ],
   "source": [
    "def plot_imp(imp_dict):\n",
    "    sort_dict = {k: v for k, v in sorted(imp_dict.items(), key=lambda item: item[1], reverse=True)}\n",
    "    feat_names = list(sort_dict.keys())\n",
    "    feat_imp = np.array(list(sort_dict.values()))\n",
    "    y_pos = np.arange(len(feat_names))\n",
    "#     ax_ = plt.barh(y_pos, feat_imp, align='center', color='k',alpha=0.5)\n",
    "#     ax_ = plt.xticks(y_pos, feat_names)\n",
    "#     ax_ = plt.ylabel('score')\n",
    "#     ax_ = plt.title('Feature Importance')\n",
    "    \n",
    "    fig = plt.figure( figsize=(10,10))\n",
    "    plt.barh(np.arange(0, len(feat_imp)), feat_imp, color='grey', align='center')\n",
    "    plt.yticks(np.arange(0, len(feat_imp)), feat_names, rotation=22.5, family='serif', fontsize=13)\n",
    "    plt.xlabel('Relative Feature Importance', family='serif', fontsize=15)\n",
    "    plt.gca().invert_yaxis()\n",
    "    plt.tight_layout()\n",
    "    plt.show()\n",
    "    \n",
    "    fig.savefig('featureimportance.png')\n",
    "    return plt\n",
    "\n",
    "font = {'family' : 'serif',\n",
    "        'weight' : 'normal',\n",
    "        'size'   : 12.5}\n",
    "\n",
    "matplotlib.rc('font', **font)\n",
    "plot_imp(features_dict)"
   ]
  },
  {
   "cell_type": "markdown",
   "metadata": {},
   "source": [
    "### Accuracy vs. Training set size"
   ]
  },
  {
   "cell_type": "code",
   "execution_count": 127,
   "metadata": {},
   "outputs": [],
   "source": [
    "scores_full = pd.read_pickle('clipd_scores.pkl')"
   ]
  },
  {
   "cell_type": "code",
   "execution_count": 165,
   "metadata": {},
   "outputs": [],
   "source": [
    "def plot_scores(df_f):\n",
    "    sizes_f = df_f['size']\n",
    "    acc_f, acc_err_f = df_f['acc'], df_f['acc_err']\n",
    "    f1_f, f1_err_f = df_f['f1'], df_f['f1_err']\n",
    "    \n",
    "    fig = plt.figure(figsize=(7.5,7.5))\n",
    "\n",
    "    ax1 = fig.add_subplot(111)\n",
    "    ax1.errorbar(x=np.array(sizes_f), y=np.array(acc_f), yerr=np.array(acc_err_f), c='r',alpha=0.5, label='accuracy score')\n",
    "    ax1.errorbar(x=np.array(sizes_f), y=np.array(f1_f), yerr=np.array(f1_err_f), c='b',alpha=0.5, label='weighted F1 score')\n",
    "    ax1.set_xlabel('Size of Training set', family='serif', fontsize=15)\n",
    "    ax1.set_ylabel('Performance Metric', family='serif', fontsize=15)\n",
    "    ax1.set_xlim(left=0)\n",
    "    ax1.legend(loc='upper right', prop={'family': 'serif','size': 15})\n",
    "#     ax2 = fig.add_subplot(122)\n",
    "#     ax2 = plt.errorbar(x=np.array(sizes_f), y=np.array(f1_f), yerr=np.array(f1_err_f), c='b')\n",
    "#     ax2 = plt.errorbar(x=np.array(sizes_t), y=np.array(f1_t), yerr=np.array(f1_err_t), c='r')\n",
    "#     ax2 = plt.xlabel('Size of Training set')\n",
    "#     ax2 = plt.ylabel('F1 metric (blue: clipd, red: trim)')\n",
    "#     ax2 = plt.title('F1 score vs. Size full/trum training set')\n",
    "    \n",
    "    #fig.savefig('learningcurve.png')\n",
    "    return fig"
   ]
  },
  {
   "cell_type": "code",
   "execution_count": 166,
   "metadata": {},
   "outputs": [
    {
     "data": {
      "image/png": "[encoded data removed]",
      "text/plain": [
       "<Figure size 540x540 with 1 Axes>"
      ]
     },
     "metadata": {
      "needs_background": "light"
     },
     "output_type": "display_data"
    }
   ],
   "source": [
    "fig = plot_scores(scores_full)"
   ]
  },
  {
   "cell_type": "markdown",
   "metadata": {},
   "source": [
    "### Probability tester"
   ]
  },
  {
   "cell_type": "code",
   "execution_count": null,
   "metadata": {},
   "outputs": [],
   "source": [
    "prob_clipd = model_clipd.predict_proba(X_test_clipd)\n",
    "prob_trim = model_trim.predict_proba(X_test_trim)\n",
    "\n",
    "print(model_clipd.classes_)\n",
    "print(model_trim.classes_)"
   ]
  },
  {
   "cell_type": "markdown",
   "metadata": {},
   "source": [
    "# b307 Test Tile "
   ]
  },
  {
   "cell_type": "code",
   "execution_count": 14,
   "metadata": {},
   "outputs": [
    {
     "name": "stdout",
     "output_type": "stream",
     "text": [
      "14862 37841\n",
      "['vvv_id' 'class' 'features' 'a0' 'a1' 'a2' 'a3' 'phi0_phi1' 'phi0_phi2'\n",
      " 'phi0_phi3' 'phi1_phi2' 'phi1_phi3' 'phi2_phi3' 'a0_a1' 'a0_a2' 'a0_a3'\n",
      " 'a1_a2' 'a1_a3' 'a2_a3' 'mean' 'sd' 'skew' 'kurtosis' 'amplitude'\n",
      " 'beyondfrac' 'med_magdev' 'log_lik' 'ls_period' 'lomb_period'\n",
      " 'lomb_power' 'kepochs' 'stetson_i' 'mags_q100mq0' 'mags_q99mq1'\n",
      " 'mags_q95mq5' 'mags_q90mq10' 'mags_q75mq25' 'vvv_sd' 'kmag' 'JK_col'\n",
      " 'HK_col']\n"
     ]
    }
   ],
   "source": [
    "b334 = pd.read_pickle('b334_cand_feats.pkl')\n",
    "b305 = pd.read_pickle('b305_cand_feats.pkl')\n",
    "\n",
    "print(len(b334), len(b305))\n",
    "print(b334.columns.values)"
   ]
  },
  {
   "cell_type": "code",
   "execution_count": 15,
   "metadata": {},
   "outputs": [
    {
     "name": "stdout",
     "output_type": "stream",
     "text": [
      "37841 test1 14862 test2 sources\n"
     ]
    }
   ],
   "source": [
    "use305 = b305.replace([np.inf, -np.inf], np.nan)\n",
    "use305 = use305.dropna(axis=0, how='any') \n",
    "use334 = b334.replace([np.inf, -np.inf], np.nan)\n",
    "use334 = use334.dropna(axis=0, how='any') \n",
    "print(\"{} test1 {} test2 sources\".format(len(use305), len(use334)))"
   ]
  },
  {
   "cell_type": "code",
   "execution_count": 21,
   "metadata": {},
   "outputs": [],
   "source": [
    "# Normalise test features to model specifications\n",
    "sc_clipd = StandardScaler()\n",
    "\n",
    "X_full_clipd = sc_clipd.fit_transform(X_clipd)\n",
    "\n",
    "b305_norm = sc_clipd.transform(use305[data_cols])\n",
    "b334_norm = sc_clipd.transform(use334[data_cols])"
   ]
  },
  {
   "cell_type": "code",
   "execution_count": 19,
   "metadata": {},
   "outputs": [
    {
     "data": {
      "text/plain": [
       "RandomForestClassifier(bootstrap=True, ccp_alpha=0.0,\n",
       "                       class_weight='balanced_subsample', criterion='gini',\n",
       "                       max_depth=18, max_features='sqrt', max_leaf_nodes=None,\n",
       "                       max_samples=None, min_impurity_decrease=0.0,\n",
       "                       min_impurity_split=None, min_samples_leaf=5,\n",
       "                       min_samples_split=5, min_weight_fraction_leaf=0.0,\n",
       "                       n_estimators=1000, n_jobs=None, oob_score=False,\n",
       "                       random_state=None, verbose=0, warm_start=False)"
      ]
     },
     "execution_count": 19,
     "metadata": {},
     "output_type": "execute_result"
    }
   ],
   "source": [
    "# Train full models\n",
    "model_full_clipd = RandomForestClassifier(n_estimators=1000, min_samples_split=5,\n",
    "                                          min_samples_leaf=5, max_features='sqrt',\n",
    "                                    max_depth=18, class_weight='balanced_subsample')\n",
    "model_full_clipd.fit(X_full_clipd, y_clipd.values.ravel())"
   ]
  },
  {
   "cell_type": "code",
   "execution_count": 25,
   "metadata": {},
   "outputs": [
    {
     "name": "stdout",
     "output_type": "stream",
     "text": [
      "['EA/EB' 'ELL' 'EW' 'RR Lyr ab' 'RR Lyr c/d']\n"
     ]
    }
   ],
   "source": [
    "predict_b305 = model_full_clipd.predict(b305_norm)\n",
    "predict_b334 = model_full_clipd.predict(b334_norm)\n",
    "\n",
    "proba_b305 = model_full_clipd.predict_proba(b305_norm)\n",
    "proba_b334 = model_full_clipd.predict_proba(b334_norm)\n",
    "\n",
    "classes = model_full_clipd.classes_\n",
    "print(classes)"
   ]
  },
  {
   "cell_type": "code",
   "execution_count": 26,
   "metadata": {},
   "outputs": [
    {
     "name": "stdout",
     "output_type": "stream",
     "text": [
      "{'RR Lyr c/d', 'ELL', 'EW', 'EA/EB', 'RR Lyr ab'}\n",
      "{'RR Lyr c/d', 'ELL', 'EW', 'EA/EB', 'RR Lyr ab'}\n"
     ]
    }
   ],
   "source": [
    "print(set(list(predict_b334)))\n",
    "print(set(list(predict_b305)))"
   ]
  },
  {
   "cell_type": "code",
   "execution_count": 63,
   "metadata": {},
   "outputs": [
    {
     "data": {
      "text/plain": [
       "array(['vvv_id', 'class', 'features', 'a0', 'a1', 'a2', 'a3', 'phi0_phi1',\n",
       "       'phi0_phi2', 'phi0_phi3', 'phi1_phi2', 'phi1_phi3', 'phi2_phi3',\n",
       "       'a0_a1', 'a0_a2', 'a0_a3', 'a1_a2', 'a1_a3', 'a2_a3', 'mean', 'sd',\n",
       "       'skew', 'kurtosis', 'amplitude', 'beyondfrac', 'med_magdev',\n",
       "       'log_lik', 'ls_period', 'lomb_period', 'lomb_power', 'kepochs',\n",
       "       'stetson_i', 'mags_q100mq0', 'mags_q99mq1', 'mags_q95mq5',\n",
       "       'mags_q90mq10', 'mags_q75mq25', 'vvv_sd', 'kmag', 'JK_col',\n",
       "       'HK_col'], dtype=object)"
      ]
     },
     "execution_count": 63,
     "metadata": {},
     "output_type": "execute_result"
    }
   ],
   "source": [
    "use305.columns.values"
   ]
  },
  {
   "cell_type": "code",
   "execution_count": 58,
   "metadata": {},
   "outputs": [],
   "source": [
    "def save_results(predict, df):\n",
    "    source_ids = np.array(df.vvv_id.values, dtype='unicode_')\n",
    "    ls_periods = np.array(df.ls_period.values)\n",
    "    amplitude = np.array(df.amplitude.values)\n",
    "    hk_col = np.array(df.HK_col.values)\n",
    "    jk_col = np.array(df.JK_col.values)\n",
    "    log_liks = np.array(df.log_lik.values)\n",
    "    kmags = np.array(df.kmag.values)\n",
    "    inp = {'prediction': predict, 'vvv_id':source_ids, 'period':ls_periods,\n",
    "           'amplitude':amplitude, 'HK_col':hk_col, 'JK_col':jk_col,\n",
    "           'log_lik':log_liks, 'kmag':kmags}\n",
    "    df_predict = pd.DataFrame(data=inp)\n",
    "    return df_predict\n",
    "\n",
    "def count_predict(df, probs, name):\n",
    "    classes = set(list(df.prediction.values))\n",
    "    count = {}\n",
    "    for i in classes:\n",
    "        class_df = df.loc[df['prediction'] == i]\n",
    "        count.update({'{}'.format(i):len(class_df)})\n",
    "    \n",
    "    prob_ew, prob_ea, prob_ell, prob_ab, prob_c_d = [],[],[],[],[]\n",
    "    for i in probs:\n",
    "        prob_ea.append(i[0])\n",
    "        prob_ell.append(i[1])\n",
    "        prob_ew.append(i[2])\n",
    "        prob_ab.append(i[3])\n",
    "        prob_c_d.append(i[4])\n",
    "    \n",
    "    df['prob_EW'] = pd.Series(prob_ew)\n",
    "    df['prob_EA/EB'] = pd.Series(prob_ea)\n",
    "    df['prob_ELL'] = pd.Series(prob_ell)\n",
    "    df['prob_Lyr_AB'] = pd.Series(prob_ab)\n",
    "    df['prob_Lyr_C/D'] = pd.Series(prob_c_d)\n",
    "    \n",
    "    df.to_pickle('{}_prediction.pkl'.format(name))\n",
    "    return count"
   ]
  },
  {
   "cell_type": "code",
   "execution_count": 59,
   "metadata": {},
   "outputs": [],
   "source": [
    "pred_b305 = save_results(predict_b305, use305)\n",
    "pred_b334 = save_results(predict_b334, use334)"
   ]
  },
  {
   "cell_type": "code",
   "execution_count": 60,
   "metadata": {},
   "outputs": [
    {
     "name": "stdout",
     "output_type": "stream",
     "text": [
      "37841 14862\n"
     ]
    }
   ],
   "source": [
    "print(len(predict_b305), len(predict_b334))"
   ]
  },
  {
   "cell_type": "code",
   "execution_count": 61,
   "metadata": {},
   "outputs": [],
   "source": [
    "count_b305 = count_predict(pred_b305, proba_b305, 'b305')\n",
    "count_b334 = count_predict(pred_b334, proba_b334, 'b334')"
   ]
  },
  {
   "cell_type": "code",
   "execution_count": 62,
   "metadata": {},
   "outputs": [
    {
     "name": "stdout",
     "output_type": "stream",
     "text": [
      "{'RR Lyr c/d': 6, 'ELL': 284, 'EW': 24341, 'EA/EB': 13082, 'RR Lyr ab': 128}\n",
      "{'RR Lyr c/d': 7, 'ELL': 480, 'EW': 6876, 'EA/EB': 7412, 'RR Lyr ab': 87}\n"
     ]
    }
   ],
   "source": [
    "print(count_b305)\n",
    "print(count_b334)"
   ]
  },
  {
   "cell_type": "code",
   "execution_count": 32,
   "metadata": {},
   "outputs": [],
   "source": [
    "result305 = pd.read_pickle('b305_prediction.pkl')\n",
    "result334 = pd.read_pickle('b334_prediction.pkl')"
   ]
  },
  {
   "cell_type": "markdown",
   "metadata": {},
   "source": [
    "## b334 candidate classification -- updated pipeline"
   ]
  },
  {
   "cell_type": "code",
   "execution_count": 25,
   "metadata": {},
   "outputs": [],
   "source": [
    "cand = pd.read_pickle('b334cand_feats.pkl')"
   ]
  },
  {
   "cell_type": "code",
   "execution_count": 32,
   "metadata": {},
   "outputs": [
    {
     "name": "stdout",
     "output_type": "stream",
     "text": [
      "100% sources left\n",
      "237843\n"
     ]
    }
   ],
   "source": [
    "cand_use = cand.replace([np.inf, -np.inf], np.nan)\n",
    "cand_use = cand_use.dropna(axis=0, how='any')\n",
    "print(\"{}% sources left\".format(100*round(len(cand_use)/len(cand))))\n",
    "print(len(cand_use))"
   ]
  },
  {
   "cell_type": "code",
   "execution_count": 29,
   "metadata": {},
   "outputs": [
    {
     "name": "stdout",
     "output_type": "stream",
     "text": [
      "['a0_a1', 'a0_a2', 'a0_a3', 'a1_a2', 'a1_a3', 'a2_a3', 'phi0_phi1', 'phi0_phi2', 'phi0_phi3', 'phi1_phi2', 'phi1_phi3', 'phi2_phi3', 'sd', 'skew', 'kurtosis', 'amplitude', 'beyondfrac', 'med_magdev', 'log_lik', 'ls_period', 'stetson_i', 'mags_q100mq0', 'mags_q99mq1', 'mags_q95mq5', 'mags_q90mq10', 'mags_q75mq25', 'JK_col', 'HK_col']\n"
     ]
    }
   ],
   "source": [
    "print(data_cols)"
   ]
  },
  {
   "cell_type": "code",
   "execution_count": 30,
   "metadata": {},
   "outputs": [
    {
     "name": "stdout",
     "output_type": "stream",
     "text": [
      "['class' 'a0_a1' 'a0_a2' 'a0_a3' 'a1_a2' 'a1_a3' 'a2_a3' 'phi0_phi1'\n",
      " 'phi0_phi2' 'phi0_phi3' 'phi1_phi2' 'phi1_phi3' 'phi2_phi3' 'sd' 'skew'\n",
      " 'kurtosis' 'amplitude' 'beyondfrac' 'med_magdev' 'log_lik' 'ls_period'\n",
      " 'stetson_i' 'mags_q100mq0' 'mags_q99mq1' 'mags_q95mq5' 'mags_q90mq10'\n",
      " 'mags_q75mq25' 'JK_col' 'HK_col'] ['period' 'amp_0' 'amp_1' 'amp_2' 'amp_3' 'phi_0' 'phi_1' 'phi_2' 'phi_3'\n",
      " 'mean' 'sd' 'skew' 'kurt' 'amp' 'beyondfrac' 'med_magdev' 'delta_loglik'\n",
      " 'sourceid' 'classname' 'skewness' 'kurtosis' 'stetson_i' 'eta'\n",
      " 'mags_stdev' 'mags_mad' 'mags_min' 'mags_max' 'mags_q1' 'mags_q2'\n",
      " 'mags_q4' 'mags_q8' 'mags_q16' 'mags_q32' 'mags_q50' 'mags_q68'\n",
      " 'mags_q84' 'mags_q92' 'mags_q96' 'mags_q98' 'mags_q99' 'mags_q100mq0'\n",
      " 'mags_q99mq1' 'mags_q95mq5' 'mags_q90mq10' 'mags_q75mq25' 'l' 'b' 'kmag'\n",
      " 'jmag' 'hmag' 'JK_col' 'HK_col' 'phi0_phi1' 'phi0_phi2' 'phi0_phi3'\n",
      " 'phi1_phi2' 'phi1_phi3' 'phi2_phi3' 'a0_a1' 'a0_a2' 'a0_a3' 'a1_a2'\n",
      " 'a1_a3' 'a2_a3']\n"
     ]
    }
   ],
   "source": [
    "print(train.columns.values, cand_use.columns.values)"
   ]
  },
  {
   "cell_type": "code",
   "execution_count": 34,
   "metadata": {},
   "outputs": [],
   "source": [
    "# Have to change columns names to match with training set (to be corrected)\n",
    "cand_use['ls_period'] = np.array(cand_use['period'])\n",
    "cand_use['amplitude'] = np.array(cand_use['amp'])\n",
    "cand_use['log_lik'] = np.array(cand_use['delta_loglik'])"
   ]
  },
  {
   "cell_type": "code",
   "execution_count": 35,
   "metadata": {},
   "outputs": [],
   "source": [
    "sc_full = StandardScaler()\n",
    "\n",
    "X_full = sc_full.fit_transform(X)\n",
    "\n",
    "b334_norm = sc_full.transform(cand_use[data_cols])"
   ]
  },
  {
   "cell_type": "code",
   "execution_count": 36,
   "metadata": {},
   "outputs": [
    {
     "data": {
      "text/plain": [
       "RandomForestClassifier(bootstrap=True, ccp_alpha=0.0,\n",
       "                       class_weight='balanced_subsample', criterion='gini',\n",
       "                       max_depth=18, max_features='sqrt', max_leaf_nodes=None,\n",
       "                       max_samples=None, min_impurity_decrease=0.0,\n",
       "                       min_impurity_split=None, min_samples_leaf=5,\n",
       "                       min_samples_split=5, min_weight_fraction_leaf=0.0,\n",
       "                       n_estimators=1000, n_jobs=None, oob_score=False,\n",
       "                       random_state=None, verbose=0, warm_start=False)"
      ]
     },
     "execution_count": 36,
     "metadata": {},
     "output_type": "execute_result"
    }
   ],
   "source": [
    "# Train full model\n",
    "model_full_clipd = RandomForestClassifier(n_estimators=1000, min_samples_split=5,\n",
    "                                          min_samples_leaf=5, max_features='sqrt',\n",
    "                                    max_depth=18, class_weight='balanced_subsample')\n",
    "model_full_clipd.fit(X_full, y.values.ravel())"
   ]
  },
  {
   "cell_type": "code",
   "execution_count": 37,
   "metadata": {},
   "outputs": [],
   "source": [
    "predict_b334 = model_full_clipd.predict(b334_norm)\n",
    "proba_b334 = model_full_clipd.predict_proba(b334_norm)"
   ]
  },
  {
   "cell_type": "code",
   "execution_count": 44,
   "metadata": {},
   "outputs": [
    {
     "name": "stdout",
     "output_type": "stream",
     "text": [
      "['CONST' 'EA/EB' 'EW' 'Ell' 'LYR_AB' 'LYR_CD']\n"
     ]
    }
   ],
   "source": [
    "print(model_full_clipd.classes_)"
   ]
  },
  {
   "cell_type": "code",
   "execution_count": 47,
   "metadata": {},
   "outputs": [],
   "source": [
    "def save_results(predict, predict_probs, df):\n",
    "    \n",
    "    # Divide probability outputs into the relevant classes, following the order in the _classes attribute\n",
    "    prob_const = [i[0] for i in predict_probs]\n",
    "    prob_ea_eb = [i[1] for i in predict_probs]\n",
    "    prob_ew = [i[2] for i in predict_probs]\n",
    "    prob_ell = [i[3] for i in predict_probs]\n",
    "    prob_lyr_ab = [i[4] for i in predict_probs]\n",
    "    prob_lyr_cd = [i[5] for i in predict_probs]\n",
    "    \n",
    "    inp = {'sourceid':df.sourceid.values,'prediction':predict, 'prob_const':prob_const, 'prob_ea_eb':prob_ea_eb,\n",
    "           'prob_ew':prob_ew, 'prob_ell':prob_ell, 'prob_lyr_ab':prob_lyr_ab, 'prob_lyr_cd':prob_lyr_cd,\n",
    "           'period':df.ls_period.values, 'amplitude':df.amplitude.values, 'HK_col':df.HK_col.values,\n",
    "           'JK_col':df.JK_col.values,'log_lik':df.log_lik.values, 'kmag':df.kmag.values}\n",
    "    \n",
    "    df_predict = pd.DataFrame(data=inp)\n",
    "    \n",
    "    classes = set(list(df_predict.prediction.values))\n",
    "    count = {}\n",
    "    for i in classes:\n",
    "        class_df = df.loc[df_predict['prediction'] == i]\n",
    "        count.update({'{}'.format(i):len(class_df)})\n",
    "        \n",
    "    print(count)\n",
    "    \n",
    "    return df_predict"
   ]
  },
  {
   "cell_type": "code",
   "execution_count": 48,
   "metadata": {},
   "outputs": [
    {
     "name": "stdout",
     "output_type": "stream",
     "text": [
      "{'EW': 57582, 'LYR_AB': 274, 'LYR_CD': 8714, 'Ell': 5149, 'EA/EB': 21125, 'CONST': 144999}\n"
     ]
    }
   ],
   "source": [
    "df_predict = save_results(predict_b334, proba_b334, cand_use)"
   ]
  },
  {
   "cell_type": "code",
   "execution_count": 59,
   "metadata": {},
   "outputs": [],
   "source": [
    "df_predict.to_pickle('b334_class_predict.pkl')"
   ]
  },
  {
   "cell_type": "code",
   "execution_count": 50,
   "metadata": {},
   "outputs": [
    {
     "data": {
      "text/plain": [
       "array([[<matplotlib.axes._subplots.AxesSubplot object at 0x7fa702453198>]],\n",
       "      dtype=object)"
      ]
     },
     "execution_count": 50,
     "metadata": {},
     "output_type": "execute_result"
    },
    {
     "data": {
      "image/png": "[encoded data removed]",
      "text/plain": [
       "<Figure size 432x288 with 1 Axes>"
      ]
     },
     "metadata": {
      "needs_background": "light"
     },
     "output_type": "display_data"
    }
   ],
   "source": [
    "df_ew = df_predict.loc[df_predict['prediction']=='EW']\n",
    "df_ew_probs = df_ew[['prob_ew']]\n",
    "df_ew_probs.hist(bins=20)"
   ]
  },
  {
   "cell_type": "code",
   "execution_count": 58,
   "metadata": {},
   "outputs": [
    {
     "data": {
      "text/plain": [
       "array([[<matplotlib.axes._subplots.AxesSubplot object at 0x7fa6808afbe0>]],\n",
       "      dtype=object)"
      ]
     },
     "execution_count": 58,
     "metadata": {},
     "output_type": "execute_result"
    },
    {
     "data": {
      "image/png": "[encoded data removed]",
      "text/plain": [
       "<Figure size 432x288 with 1 Axes>"
      ]
     },
     "metadata": {
      "needs_background": "light"
     },
     "output_type": "display_data"
    }
   ],
   "source": [
    "mags = cand_use[['kmag']]\n",
    "mags.hist(bins=30)"
   ]
  },
  {
   "cell_type": "code",
   "execution_count": 57,
   "metadata": {},
   "outputs": [
    {
     "data": {
      "text/plain": [
       "<matplotlib.collections.PathCollection at 0x7fa68090b7f0>"
      ]
     },
     "execution_count": 57,
     "metadata": {},
     "output_type": "execute_result"
    },
    {
     "data": {
      "image/png": "[encoded data removed]",
      "text/plain": [
       "<Figure size 432x288 with 1 Axes>"
      ]
     },
     "metadata": {
      "needs_background": "light"
     },
     "output_type": "display_data"
    }
   ],
   "source": [
    "plt.scatter(df_ew.kmag.values, df_ew.prob_ew.values, s=0.5)"
   ]
  },
  {
   "cell_type": "code",
   "execution_count": 52,
   "metadata": {},
   "outputs": [
    {
     "data": {
      "text/plain": [
       "array([[<matplotlib.axes._subplots.AxesSubplot object at 0x7fa680a5f5f8>]],\n",
       "      dtype=object)"
      ]
     },
     "execution_count": 52,
     "metadata": {},
     "output_type": "execute_result"
    },
    {
     "data": {
      "image/png": "[encoded data removed]",
      "text/plain": [
       "<Figure size 432x288 with 1 Axes>"
      ]
     },
     "metadata": {
      "needs_background": "light"
     },
     "output_type": "display_data"
    }
   ],
   "source": [
    "df_const = df_predict.loc[df_predict['prediction']=='CONST']\n",
    "df_const_probs = df_const[['prob_const']]\n",
    "df_const_probs.hist(bins=20)"
   ]
  },
  {
   "cell_type": "code",
   "execution_count": 55,
   "metadata": {},
   "outputs": [
    {
     "data": {
      "text/plain": [
       "array([[<matplotlib.axes._subplots.AxesSubplot object at 0x7fa68095b518>]],\n",
       "      dtype=object)"
      ]
     },
     "execution_count": 55,
     "metadata": {},
     "output_type": "execute_result"
    },
    {
     "data": {
      "image/png": "[encoded data removed]",
      "text/plain": [
       "<Figure size 432x288 with 1 Axes>"
      ]
     },
     "metadata": {
      "needs_background": "light"
     },
     "output_type": "display_data"
    }
   ],
   "source": [
    "df_ab = df_predict.loc[df_predict['prediction']=='LYR_AB']\n",
    "df_ab_probs = df_ab[['prob_lyr_ab']]\n",
    "df_ab_probs.hist(bins=20)"
   ]
  },
  {
   "cell_type": "markdown",
   "metadata": {},
   "source": [
    "## Test classification on VVV variable star catalogue for results"
   ]
  },
  {
   "cell_type": "code",
   "execution_count": 20,
   "metadata": {},
   "outputs": [],
   "source": [
    "from astropy.utils.data import get_pkg_data_filename\n",
    "from astropy.table import Table\n",
    "from sqlutilpy import *\n"
   ]
  },
  {
   "cell_type": "code",
   "execution_count": 17,
   "metadata": {},
   "outputs": [],
   "source": [
    "ident = get_pkg_data_filename('vvvCat.fits')\n",
    "entries = Table.read(ident)"
   ]
  },
  {
   "cell_type": "code",
   "execution_count": 18,
   "metadata": {},
   "outputs": [
    {
     "name": "stdout",
     "output_type": "stream",
     "text": [
      "   VIVAID            RA                 DEC           BESTPERIOD \n",
      "                  RADIANS             RADIANS                    \n",
      "------------ ------------------ -------------------- ------------\n",
      "515519330028  4.652940997200828  -0.5018708635517275 345.35276058\n",
      "515519280696  4.663925969503304  -0.4803465022570459   0.09454535\n",
      "515518798181  4.645760395653971  -0.4956805594208793   0.99224149\n",
      "515518570314  4.646229567558576 -0.49053969842896716   2.48802563\n",
      "515518188095  4.647251330548757  -0.4910518190537211     0.125164\n",
      "515518092560  4.650547369220451  -0.5001789787161636   0.14102232\n",
      "515518088306  4.654207705161113  -0.5024883037523957   3.61016565\n",
      "515497501558  4.666458686611496 -0.47958863792447165  414.1009661\n",
      "515518164765  4.658270638451808  -0.4987089470399077   0.36389253\n",
      "515519990393  4.667106260661719  -0.4856305811695401   0.03333976\n",
      "         ...                ...                  ...          ...\n",
      "515518420551  4.668325617734679  -0.4854104381658636  13.09416921\n",
      "515518194044  4.649513207376358 -0.49174259717274404   0.06211083\n",
      "515518124152   4.65296074410033  -0.4988935858106846   0.03613698\n",
      "515518119477  4.651724581705789 -0.49859327093328476   0.07796871\n",
      "515518105728 4.6587711088222905  -0.5034568616491834   0.13928847\n",
      "515497889974  4.670524753728129  -0.4818771807388697 232.04332713\n",
      "515496732953  4.661149738594992  -0.4768119490155849   0.59285534\n",
      "515519219464  4.670232432022371  -0.4869659534631055 189.09024899\n",
      "515518927306  4.658029244598412  -0.4958706273053299   3.08196897\n",
      "515518921156 4.6542159972727495 -0.49416730068285647   3.09904117\n",
      "Length = 1483 rows\n"
     ]
    }
   ],
   "source": [
    "print(entries)"
   ]
  },
  {
   "cell_type": "code",
   "execution_count": 28,
   "metadata": {},
   "outputs": [],
   "source": [
    "import math"
   ]
  },
  {
   "cell_type": "code",
   "execution_count": 27,
   "metadata": {},
   "outputs": [],
   "source": [
    "ra_rad = np.array(entries['RA'])\n",
    "dec_rad = np.array(entries['DEC'])"
   ]
  },
  {
   "cell_type": "code",
   "execution_count": 31,
   "metadata": {},
   "outputs": [],
   "source": [
    "ra_deg = np.degrees(ra_rad)\n",
    "dec_deg = np.degrees(dec_rad)"
   ]
  },
  {
   "cell_type": "code",
   "execution_count": 22,
   "metadata": {},
   "outputs": [],
   "source": [
    "wsdb_kwargs = {'host':'cappc127',\n",
    "               'user':'thomas_molnar',\n",
    "               'password':'00NOuNZ12!',\n",
    "               'asDict':True,\n",
    "               'preamb':\n",
    "                'set enable_seqscan to off; set enable_mergejoin to off; set enable_hashjoin to off;',\n",
    "               'db':'wsdb'}"
   ]
  },
  {
   "cell_type": "code",
   "execution_count": 32,
   "metadata": {},
   "outputs": [],
   "source": [
    "def cm_virac(data, cm_radius=1.):\n",
    "    print(\"Loading cross-match... \")\n",
    "    ra = data[0]\n",
    "    dec = data[1]\n",
    "    star = data[2]\n",
    "    decaps = sqlutil.local_join(\"\"\"\n",
    "                select * from mytable as m\n",
    "                left join lateral (select *, q3c_dist(m.ra_, m.dec_, s.ra, s.dec) from leigh_smith.virac_pm2_jhk as s\n",
    "                where q3c_join(m.ra_, m.dec_, s.ra, s.dec,{0}/3600) \n",
    "                order by q3c_dist(m.ra_, m.dec_, s.ra, s.dec) asc limit 1)\n",
    "                as tt on  true  order by xid \"\"\".format(cm_radius),\n",
    "                'mytable',(ra,dec,np.arange(len(dec)), star),('RA_','DEC_', 'xid', 'VIVAID'),**wsdb_kwargs)\n",
    "    decaps = pd.DataFrame(decaps)\n",
    "    print(\"Cross match complete.\")\n",
    "    return decaps"
   ]
  },
  {
   "cell_type": "code",
   "execution_count": 25,
   "metadata": {},
   "outputs": [],
   "source": [
    "test = pd.DataFrame(sqlutil.get(\"\"\"\n",
    "                    select * from leigh_smith.virac_pm2_jhk\n",
    "                    where sourceid in {}\n",
    "                    \"\"\".format(tuple(entries['VIVAID'])), **wsdb_kwargs))"
   ]
  },
  {
   "cell_type": "code",
   "execution_count": 33,
   "metadata": {},
   "outputs": [
    {
     "name": "stdout",
     "output_type": "stream",
     "text": [
      "Loading cross-match... \n",
      "Cross match complete.\n"
     ]
    }
   ],
   "source": [
    "cm = cm_virac([ra_deg, dec_deg, entries['VIVAID']])"
   ]
  },
  {
   "cell_type": "code",
   "execution_count": 35,
   "metadata": {},
   "outputs": [
    {
     "name": "stdout",
     "output_type": "stream",
     "text": [
      "             ra_       dec_   xid        vivaid      sourceid          ra  \\\n",
      "5     266.456737 -28.658144     5  515518092560  582902231110  266.456784   \n",
      "6     266.666458 -28.790459     6  515518088306  581878002571  266.666473   \n",
      "8     266.899247 -28.573918     8  515518164765  581879146386  266.899240   \n",
      "37    267.594497 -27.721879    37  515518462129  576761119549  267.594498   \n",
      "41    267.033014 -27.806850    41  515518356185  577783104958  267.032983   \n",
      "...          ...        ...   ...           ...           ...         ...   \n",
      "1471  266.834594 -28.782512  1471  515518521530  582903133074  266.834582   \n",
      "1472  267.090447 -27.446928  1472  515518464661  574712036958  267.090417   \n",
      "1474  266.397484 -28.174775  1474  515518194044  578806341071  266.397498   \n",
      "1476  266.524186 -28.567290  1476  515518119477  580854316717  266.524199   \n",
      "1477  266.927922 -28.845953  1477  515518105728  582903076135  266.927896   \n",
      "\n",
      "            dec        era       edec         l  ...  mags_q96  mags_q98  \\\n",
      "5    -28.658242   4.240140   7.090390  0.260893  ...   15.1595   15.1631   \n",
      "6    -28.790514   1.050570   1.784160  0.243506  ...   12.4302   12.4994   \n",
      "8    -28.573931   0.949227   1.179780  0.534569  ...   13.6737   13.7487   \n",
      "37   -27.721899   1.588950   2.674390  1.580642  ...   15.5615   15.6388   \n",
      "41   -27.806877   0.976156   0.979435  1.252090  ...   14.1791   14.1870   \n",
      "...         ...        ...        ...       ...  ...       ...       ...   \n",
      "1471 -28.782556   0.902366   1.226390  0.326711  ...   14.0725   14.1126   \n",
      "1472 -27.446949   0.643809   0.928217  1.586601  ...   13.1394   13.1478   \n",
      "1474 -28.174787  12.883400  11.131100  0.646438  ...   11.7090   11.9971   \n",
      "1476 -28.567295   8.355310  16.104601  0.369354  ...   11.0522   11.2491   \n",
      "1477 -28.846003   5.288470   4.263030  0.314744  ...   14.8013   14.8478   \n",
      "\n",
      "      mags_q99  mags_q100mq0  mags_q99mq1  mags_q95mq5  mags_q90mq10  \\\n",
      "5      15.2051      1.931100     1.090750     0.330402      0.285099   \n",
      "6      12.5133      0.548061     0.413367     0.297087      0.179849   \n",
      "8      13.7738      0.352643     0.262919     0.130521      0.081570   \n",
      "37     15.7328      1.185320     0.896359     0.597651      0.506997   \n",
      "41     14.2040      0.362062     0.339196     0.291714      0.240082   \n",
      "...        ...           ...          ...          ...           ...   \n",
      "1471   14.1276      0.581226     0.499559     0.339264      0.257505   \n",
      "1472   13.1565      0.367126     0.347159     0.310084      0.278913   \n",
      "1474   12.0457      1.390320     1.338040     0.763097      0.361248   \n",
      "1476   11.3287      1.511580     1.476600     1.118490      0.911191   \n",
      "1477   14.8881      1.111750     0.719754     0.510990      0.400199   \n",
      "\n",
      "      mags_q75mq25  rand_flt  q3c_dist  \n",
      "5         0.110813  0.219974  0.000106  \n",
      "6         0.049205  0.807227  0.000057  \n",
      "8         0.039096  0.067134  0.000015  \n",
      "37        0.287015  0.753430  0.000020  \n",
      "41        0.171043  0.308965  0.000038  \n",
      "...            ...       ...       ...  \n",
      "1471      0.142300  0.673553  0.000045  \n",
      "1472      0.192482  0.466754  0.000034  \n",
      "1474      0.066656  0.948985  0.000017  \n",
      "1476      0.540572  0.849870  0.000012  \n",
      "1477      0.223782  0.842118  0.000055  \n",
      "\n",
      "[250 rows x 72 columns]\n"
     ]
    }
   ],
   "source": [
    "print(cm.dropna())"
   ]
  },
  {
   "cell_type": "code",
   "execution_count": null,
   "metadata": {},
   "outputs": [],
   "source": []
  }
 ],
 "metadata": {
  "kernelspec": {
   "display_name": "Python 3",
   "language": "python",
   "name": "python3"
  },
  "language_info": {
   "codemirror_mode": {
    "name": "ipython",
    "version": 3
   },
   "file_extension": ".py",
   "mimetype": "text/x-python",
   "name": "python",
   "nbconvert_exporter": "python",
   "pygments_lexer": "ipython3",
   "version": "3.5.2"
  }
 },
 "nbformat": 4,
 "nbformat_minor": 4
}
