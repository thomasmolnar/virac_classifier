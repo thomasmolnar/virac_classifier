{
 "cells": [
  {
   "cell_type": "code",
   "execution_count": 1,
   "metadata": {},
   "outputs": [],
   "source": [
    "output = pd.read_csv('/local/scratch_2/jls/virac_classifier/results/edr3_SJ_noalias/results_7380776_test.csv.tar.gz')"
   ]
  },
  {
   "cell_type": "code",
   "execution_count": 132,
   "metadata": {},
   "outputs": [
    {
     "data": {
      "text/plain": [
       "<matplotlib.lines.Line2D at 0x7efd18d15da0>"
      ]
     },
     "execution_count": 132,
     "metadata": {},
     "output_type": "execute_result"
    },
    {
     "data": {
      "image/png": "[encoded data removed]",
      "text/plain": [
       "<Figure size 432x288 with 1 Axes>"
      ]
     },
     "metadata": {
      "needs_background": "light"
     },
     "output_type": "display_data"
    }
   ],
   "source": [
    "plt.hist(output['lsq_period'][(output['class']!='CONST')&(output['prob']>0.9)],bins=150,range=[0.9,1.1]);\n",
    "\n",
    "plt.axvline(1.-0.005)\n",
    "plt.axvline(1.+0.005)"
   ]
  },
  {
   "cell_type": "code",
   "execution_count": 29,
   "metadata": {},
   "outputs": [
    {
     "name": "stdin",
     "output_type": "stream",
     "text": [
      " ·············\n"
     ]
    }
   ],
   "source": [
    "import sqlutilpy\n",
    "sys.path.append('../')\n",
    "import sys\n",
    "sys.path.append('../')\n",
    "from fine_classif.feat_extract.compute_feats import correct_to_HJD, fourier_poly_chi2_fit_full, \\\n",
    "    retrieve_fourier_poly, LombScargle\n",
    "from fine_classif.feat_extract.compute_feats import sigclipper, \\\n",
    "optimum_regularization, check_significant_second_minimum, find_phase_of_minimum, source_feat_extract\n",
    "\n",
    "from config import configuration\n",
    "config = configuration()\n",
    "config.request_password()\n",
    "\n",
    "def get_lightcurve(sourceid):\n",
    "\n",
    "    lcs = pd.DataFrame(sqlutilpy.get('''\n",
    "                                select sourceid, \n",
    "                                unnest(mjdobs) as mjdobs,\n",
    "                                unnest(mag) as mag,\n",
    "                                unnest(emag) as emag,\n",
    "                                unnest(filterid) as filterid,\n",
    "                                unnest(chi) as chi,\n",
    "                                unnest(ast_res_chisq) as ast_res_chisq,\n",
    "                                unnest(ambiguous_match) as ambiguous_match  \n",
    "                                from leigh_smith.virac2_ts_tmolnar_train_zyjhk where sourceid={0}'''.format(sourceid),\n",
    "                     **config.wsdb_kwargs))\n",
    "    \n",
    "    if len(lcs)==0:\n",
    "\n",
    "        lcs = pd.DataFrame(sqlutilpy.get('''\n",
    "                                    select sourceid, \n",
    "                                    unnest(mjdobs) as mjdobs,\n",
    "                                    unnest(mag) as mag,\n",
    "                                    unnest(emag) as emag,\n",
    "                                    unnest(filterid) as filterid,\n",
    "                                    unnest(chi) as chi,\n",
    "                                    unnest(ast_res_chisq) as ast_res_chisq,\n",
    "                                    unnest(ambiguous_match) as ambiguous_match  \n",
    "                                    from leigh_smith.virac2_ts_tmolnar_variables where sourceid={0}'''.format(sourceid),\n",
    "                         **config.wsdb_kwargs))\n",
    "    \n",
    "    return lcs\n"
   ]
  },
  {
   "cell_type": "code",
   "execution_count": 143,
   "metadata": {},
   "outputs": [
    {
     "data": {
      "text/plain": [
       "115     9270237007197\n",
       "294     9270237016107\n",
       "778     9270237033143\n",
       "1839    9274332026737\n",
       "2010    9274332032439\n",
       "2044    9274332033387\n",
       "2181    9274332038650\n",
       "3497    9274333037996\n",
       "4388    9278429028239\n",
       "4440    9278429030247\n",
       "4465    9278429031450\n",
       "Name: sourceid, dtype: int64"
      ]
     },
     "execution_count": 143,
     "metadata": {},
     "output_type": "execute_result"
    }
   ],
   "source": [
    "output['sourceid'][(output['class']!='CONST')&(output['prob']>0.8)&(output['lsq_period']>0.9)&(output['lsq_period']<1.1)]"
   ]
  },
  {
   "cell_type": "code",
   "execution_count": 126,
   "metadata": {},
   "outputs": [
    {
     "data": {
      "text/plain": [
       "11      9270237000677\n",
       "2177    9274332038425\n",
       "2808    9274333016771\n",
       "3015    9274333023265\n",
       "3250    9274333030775\n",
       "4477    9278429031807\n",
       "Name: sourceid, dtype: int64"
      ]
     },
     "execution_count": 126,
     "metadata": {},
     "output_type": "execute_result"
    }
   ],
   "source": [
    "output['sourceid'][(output['class']=='RRab')&(output['prob_nofap']>0.)]"
   ]
  },
  {
   "cell_type": "code",
   "execution_count": 145,
   "metadata": {},
   "outputs": [],
   "source": [
    "output_old = pd.read_csv('../results_7380776_test.csv.tar.gz')"
   ]
  },
  {
   "cell_type": "code",
   "execution_count": 161,
   "metadata": {},
   "outputs": [],
   "source": [
    "out_joint = pd.merge(output, output_old, on='sourceid', how='inner')"
   ]
  },
  {
   "cell_type": "code",
   "execution_count": 184,
   "metadata": {},
   "outputs": [
    {
     "data": {
      "text/plain": [
       "<matplotlib.lines.Line2D at 0x7efd1a1f2ef0>"
      ]
     },
     "execution_count": 184,
     "metadata": {},
     "output_type": "execute_result"
    },
    {
     "data": {
      "image/png": "[encoded data removed]",
      "text/plain": [
       "<Figure size 432x288 with 1 Axes>"
      ]
     },
     "metadata": {
      "needs_background": "light"
     },
     "output_type": "display_data"
    }
   ],
   "source": [
    "out_joint_fl = (out_joint['prob_x']>0.)&(out_joint['class_nofap']=='RRab')\n",
    "plt.plot(out_joint['lsq_period_x'][out_joint_fl],out_joint['lsq_period_y'][out_joint_fl],'.')\n",
    "plt.semilogy()\n",
    "plt.semilogx()\n",
    "plt.xlim(0.9,1.1)\n",
    "plt.axvline(1-5e-3)\n",
    "plt.axvline(1+5e-3)"
   ]
  },
  {
   "cell_type": "code",
   "execution_count": 334,
   "metadata": {},
   "outputs": [
    {
     "data": {
      "text/plain": [
       "1787    9274332024934\n",
       "1917    9274332029190\n",
       "2177    9274332038425\n",
       "2361    9274332046109\n",
       "3074    9274333025407\n",
       "3102    9274333026472\n",
       "Name: sourceid, dtype: int64"
      ]
     },
     "execution_count": 334,
     "metadata": {},
     "output_type": "execute_result"
    }
   ],
   "source": [
    "output['sourceid'][(output['class']!='CONST')&(output['prob']>0.)&(output['lsq_period']>0.33)&(output['lsq_period']<0.335)]"
   ]
  },
  {
   "cell_type": "code",
   "execution_count": 252,
   "metadata": {},
   "outputs": [
    {
     "data": {
      "text/plain": [
       "11      9270237000677\n",
       "2177    9274332038425\n",
       "Name: sourceid, dtype: int64"
      ]
     },
     "execution_count": 252,
     "metadata": {},
     "output_type": "execute_result"
    }
   ],
   "source": [
    "output['sourceid'][(output['class']=='RRab')&(output['prob']<0.5)]"
   ]
  },
  {
   "cell_type": "code",
   "execution_count": 218,
   "metadata": {},
   "outputs": [],
   "source": [
    "var = pd.read_pickle('/local/scratch_2/jls/virac_classifier/variable/edr3_SJ_noalias_updated/variable_features_total.pkl')"
   ]
  },
  {
   "cell_type": "code",
   "execution_count": 274,
   "metadata": {},
   "outputs": [
    {
     "data": {
      "image/png": "[encoded data removed]",
      "text/plain": [
       "<Figure size 432x288 with 1 Axes>"
      ]
     },
     "metadata": {
      "needs_background": "light"
     },
     "output_type": "display_data"
    }
   ],
   "source": [
    "plt.hist(output['lsq_period'][output['class']!='CONST'],range=[0.,2.],bins=150);\n"
   ]
  },
  {
   "cell_type": "code",
   "execution_count": 285,
   "metadata": {},
   "outputs": [
    {
     "data": {
      "text/plain": [
       "<matplotlib.lines.Line2D at 0x7efd1a097fd0>"
      ]
     },
     "execution_count": 285,
     "metadata": {},
     "output_type": "execute_result"
    },
    {
     "data": {
      "image/png": "[encoded data removed]",
      "text/plain": [
       "<Figure size 432x288 with 1 Axes>"
      ]
     },
     "metadata": {
      "needs_background": "light"
     },
     "output_type": "display_data"
    }
   ],
   "source": [
    "plt.hist(output['lsq_period'][output['class']!='CONST'],range=[0.98,1.02],bins=150);\n",
    "# plt.axvline(1-0.005,color='k')\n",
    "plt.axvline(1+0.005,color='k')\n",
    "plt.axvline(0.9972-0.005,color='g')\n",
    "# plt.axvline(0.9972+0.005,color='g')\n",
    "\n",
    "# plt.axvline(1-1./365.,color='r')\n",
    "plt.axvline(1+1./365.,color='r')\n",
    "\n",
    "plt.axvline(0.9972-1./365.,color='b')\n",
    "# plt.axvline(0.9972+1./365.,color='b')"
   ]
  },
  {
   "cell_type": "code",
   "execution_count": 244,
   "metadata": {},
   "outputs": [
    {
     "data": {
      "text/html": [
       "<div>\n",
       "<style scoped>\n",
       "    .dataframe tbody tr th:only-of-type {\n",
       "        vertical-align: middle;\n",
       "    }\n",
       "\n",
       "    .dataframe tbody tr th {\n",
       "        vertical-align: top;\n",
       "    }\n",
       "\n",
       "    .dataframe thead th {\n",
       "        text-align: right;\n",
       "    }\n",
       "</style>\n",
       "<table border=\"1\" class=\"dataframe\">\n",
       "  <thead>\n",
       "    <tr style=\"text-align: right;\">\n",
       "      <th></th>\n",
       "      <th>sourceid</th>\n",
       "      <th>cat_period</th>\n",
       "    </tr>\n",
       "  </thead>\n",
       "  <tbody>\n",
       "    <tr>\n",
       "      <th>1468</th>\n",
       "      <td>8377307009375</td>\n",
       "      <td>0.496429</td>\n",
       "    </tr>\n",
       "    <tr>\n",
       "      <th>1628</th>\n",
       "      <td>8389596001929</td>\n",
       "      <td>0.498653</td>\n",
       "    </tr>\n",
       "    <tr>\n",
       "      <th>1786</th>\n",
       "      <td>8397790009416</td>\n",
       "      <td>0.501311</td>\n",
       "    </tr>\n",
       "    <tr>\n",
       "      <th>2166</th>\n",
       "      <td>8418266015082</td>\n",
       "      <td>0.495082</td>\n",
       "    </tr>\n",
       "    <tr>\n",
       "      <th>3206</th>\n",
       "      <td>8446935009067</td>\n",
       "      <td>0.497503</td>\n",
       "    </tr>\n",
       "  </tbody>\n",
       "</table>\n",
       "</div>"
      ],
      "text/plain": [
       "           sourceid  cat_period\n",
       "1468  8377307009375    0.496429\n",
       "1628  8389596001929    0.498653\n",
       "1786  8397790009416    0.501311\n",
       "2166  8418266015082    0.495082\n",
       "3206  8446935009067    0.497503"
      ]
     },
     "execution_count": 244,
     "metadata": {},
     "output_type": "execute_result"
    }
   ],
   "source": [
    "var[['sourceid','cat_period']][(var['var_class']=='RRab')&(var['cat_period']>0.49)&(var['cat_period']<0.51)][:5]"
   ]
  },
  {
   "cell_type": "code",
   "execution_count": 347,
   "metadata": {},
   "outputs": [
    {
     "data": {
      "text/html": [
       "<div>\n",
       "<style scoped>\n",
       "    .dataframe tbody tr th:only-of-type {\n",
       "        vertical-align: middle;\n",
       "    }\n",
       "\n",
       "    .dataframe tbody tr th {\n",
       "        vertical-align: top;\n",
       "    }\n",
       "\n",
       "    .dataframe thead th {\n",
       "        text-align: right;\n",
       "    }\n",
       "</style>\n",
       "<table border=\"1\" class=\"dataframe\">\n",
       "  <thead>\n",
       "    <tr style=\"text-align: right;\">\n",
       "      <th></th>\n",
       "      <th>sourceid</th>\n",
       "      <th>lsq_period</th>\n",
       "    </tr>\n",
       "  </thead>\n",
       "  <tbody>\n",
       "    <tr>\n",
       "      <th>1787</th>\n",
       "      <td>9274332024934</td>\n",
       "      <td>0.332424</td>\n",
       "    </tr>\n",
       "    <tr>\n",
       "      <th>1917</th>\n",
       "      <td>9274332029190</td>\n",
       "      <td>0.332421</td>\n",
       "    </tr>\n",
       "    <tr>\n",
       "      <th>2177</th>\n",
       "      <td>9274332038425</td>\n",
       "      <td>0.332429</td>\n",
       "    </tr>\n",
       "    <tr>\n",
       "      <th>2361</th>\n",
       "      <td>9274332046109</td>\n",
       "      <td>0.332417</td>\n",
       "    </tr>\n",
       "    <tr>\n",
       "      <th>3074</th>\n",
       "      <td>9274333025407</td>\n",
       "      <td>0.332429</td>\n",
       "    </tr>\n",
       "    <tr>\n",
       "      <th>3102</th>\n",
       "      <td>9274333026472</td>\n",
       "      <td>0.332424</td>\n",
       "    </tr>\n",
       "  </tbody>\n",
       "</table>\n",
       "</div>"
      ],
      "text/plain": [
       "           sourceid  lsq_period\n",
       "1787  9274332024934    0.332424\n",
       "1917  9274332029190    0.332421\n",
       "2177  9274332038425    0.332429\n",
       "2361  9274332046109    0.332417\n",
       "3074  9274333025407    0.332429\n",
       "3102  9274333026472    0.332424"
      ]
     },
     "execution_count": 347,
     "metadata": {},
     "output_type": "execute_result"
    }
   ],
   "source": [
    "output[['sourceid','lsq_period']][(output['class']!='CONST')&(output['lsq_period']>0.33)&(output['lsq_period']<0.335)]"
   ]
  },
  {
   "cell_type": "code",
   "execution_count": 488,
   "metadata": {},
   "outputs": [
    {
     "name": "stdout",
     "output_type": "stream",
     "text": [
      "[ 0.5103238   1.04518443 23.11933715  1.04214628  0.23883845  0.33757422\n",
      "  0.31319144  0.51105124  0.33789238  0.16419026  0.1926893   0.06441796\n",
      "  0.27021303  0.06909341  0.23834275  0.28844258  0.23849743  0.21260514\n",
      "  0.40595835  0.20214677  0.25518316  0.05258192  0.22373378  0.31123519\n",
      "  0.18272258  0.05097879  0.49796281  0.08015487]\n",
      "[ 0.5103238   1.04518443 23.11933715  1.04214628  0.23883845  0.33757422\n",
      "  0.31319144  0.51105124  0.33789238  0.16419026  0.1926893   0.06441796\n",
      "  0.27021303  0.06909341  0.23834275  0.28844258  0.23849743  0.21260514\n",
      "  0.40595835  0.20214677  0.25518316  0.05258192  0.22373378  0.31123519\n",
      "  0.18272258  0.05097879  0.49796281  0.08015487]\n",
      "0.5103237968679057\n",
      "-11.6097975401127\n",
      "[ 0.5103238   1.04518443 23.11933715  1.04214628  0.23883845  0.33757422\n",
      "  0.31319144  0.51105124  0.33789238  0.16419026  0.1926893   0.06441796\n",
      "  0.27021303  0.06909341  0.23834275  0.28844258  0.23849743  0.21260514\n",
      "  0.40595835  0.20214677  0.25518316  0.05258192  0.22373378  0.31123519\n",
      "  0.18272258  0.05097879  0.49796281  0.08015487]\n",
      "[ 0.5103238   1.04518443 23.11933715  1.04214628  0.23883845  0.31319144\n",
      "  0.51105124  0.16419026  0.1926893   0.06441796  0.27021303  0.06909341\n",
      "  0.23834275  0.28844258  0.23849743  0.21260514  0.40595835  0.20214677\n",
      "  0.25518316  0.05258192  0.22373378  0.31123519  0.18272258  0.05097879\n",
      "  0.08015487]\n",
      "0.5103237968679057\n",
      "-11.6097975401127\n",
      "[ 0.5103238   1.04518443  1.04214628 23.11933715  0.31319144  0.23883845\n",
      "  0.33757422  0.23834275  0.33789238  0.51105124  0.06441796  0.16419026\n",
      "  0.23849743  0.1926893   0.27021303  0.31123519  0.06909341  0.40595835\n",
      "  0.18284077  0.05666251  0.0541735   0.28844258  0.06886617  0.08015487\n",
      "  0.21260514  0.51183422  0.06391601  0.05258192  0.20214677]\n",
      "[ 0.5103238   1.04518443  1.04214628 23.11933715  0.31319144  0.23883845\n",
      "  0.33757422  0.23834275  0.33789238  0.51105124  0.06441796  0.16419026\n",
      "  0.23849743  0.1926893   0.27021303  0.31123519  0.06909341  0.40595835\n",
      "  0.18284077  0.05666251  0.0541735   0.28844258  0.06886617  0.08015487\n",
      "  0.21260514  0.51183422  0.06391601  0.05258192  0.20214677]\n",
      "0.5103237968679057\n",
      "-10.815666249089546\n",
      "[]\n"
     ]
    },
    {
     "data": {
      "text/plain": [
       "[]"
      ]
     },
     "execution_count": 488,
     "metadata": {},
     "output_type": "execute_result"
    },
    {
     "data": {
      "image/png": "[encoded data removed]",
      "text/plain": [
       "<Figure size 432x288 with 1 Axes>"
      ]
     },
     "metadata": {
      "needs_background": "light"
     },
     "output_type": "display_data"
    },
    {
     "data": {
      "image/png": "[encoded data removed]",
      "text/plain": [
       "<Figure size 432x288 with 1 Axes>"
      ]
     },
     "metadata": {
      "needs_background": "light"
     },
     "output_type": "display_data"
    },
    {
     "data": {
      "image/png": "[encoded data removed]",
      "text/plain": [
       "<Figure size 432x288 with 1 Axes>"
      ]
     },
     "metadata": {
      "needs_background": "light"
     },
     "output_type": "display_data"
    },
    {
     "data": {
      "image/png": "[encoded data removed]",
      "text/plain": [
       "<Figure size 432x288 with 1 Axes>"
      ]
     },
     "metadata": {
      "needs_background": "light"
     },
     "output_type": "display_data"
    },
    {
     "data": {
      "image/png": "[encoded data removed]",
      "text/plain": [
       "<Figure size 1080x216 with 1 Axes>"
      ]
     },
     "metadata": {
      "needs_background": "light"
     },
     "output_type": "display_data"
    }
   ],
   "source": [
    "lcO=get_lightcurve(9274333030775)\n",
    "lcO['mag'] = lcO['mag'].astype(np.float64)\n",
    "lcO['emag'] = lcO['emag'].astype(np.float64)\n",
    "lc = lcO.copy()\n",
    "clean = (lc['filterid']==5)&(lc['ambiguous_match']==0)&(lc['ast_res_chisq']<11.829)&~((lc['chi']>5.)&(lc['mag']<13.2))&(lc['emag']>0.)\n",
    "lc = sigclipper(lc[clean],float(config['sig_thresh']))\n",
    "\n",
    "plt.figure()\n",
    "pl=np.polyfit(lc['mjdobs'],lc['mag'],3,w=1./lc['emag'])\n",
    "plt.plot(lc['mjdobs'],lc['mag']-0.*np.poly1d(pl)(lc['mjdobs']),'.')\n",
    "plt.figure()\n",
    "pl=np.polyfit(lc['mjdobs'],lc['mag'],3,w=1./lc['emag'])\n",
    "plt.plot(lc['mjdobs'],lc['mag']-np.poly1d(pl)(lc['mjdobs']),'.')\n",
    "# print(np.max(lc['mjdobs'])-np.min(lc['mjdobs']))\n",
    "# plt.plot(lc['mjdobs'],lc['mag']-np.poly1d(pl)(lc['mjdobs']),'.')\n",
    "freq,npower = LombScargle(lc['mjdobs'],lc['mag']-0.*np.poly1d(pl)(lc['mjdobs']),lc['emag']).autopower(maximum_frequency=20.,\n",
    "                                                                                                  minimum_frequency=0.000066667)\n",
    "freq,power = LombScargle(lc['mjdobs'],lc['mag']-np.poly1d(pl)(lc['mjdobs']),lc['emag']).autopower(maximum_frequency=20.,\n",
    "                                                                                                  minimum_frequency=0.000066667)\n",
    "freq,wpower = LombScargle(lc['mjdobs'],np.ones_like(lc['mag']),lc['emag'],center_data=False, fit_mean=False).autopower(\n",
    "                          maximum_frequency=20.,minimum_frequency=0.000066667)\n",
    "ss=source_feat_extract([0.,0.,lcO],config,ls_kwargs={'minimum_frequency':0.00066667,'maximum_frequency':20.},\n",
    "                   method_kwargs={'irreg':True}, lomb_kwargs={'period_tol':0.,'freq_max':0., 'poly_detrend':False});\n",
    "print(ss['lsq_period'])\n",
    "print(ss['log10_fap_ls'])\n",
    "\n",
    "# ss=source_feat_extract([0.,0.,lcO],config,ls_kwargs={'minimum_frequency':0.00066667,'maximum_frequency':20.},\n",
    "#                    method_kwargs={'irreg':True}, lomb_kwargs={'period_tol':5e-3,'freq_max':0., 'poly_detrend':True});\n",
    "# print(ss['lsq_period'])\n",
    "# print(ss['log10_fap_ls'])\n",
    "\n",
    "ss=source_feat_extract([0.,0.,lcO],config,ls_kwargs={'minimum_frequency':0.00066667,'maximum_frequency':20.},\n",
    "                   method_kwargs={'irreg':True}, lomb_kwargs={'period_tol':5e-3,'freq_max':0., 'poly_detrend':False});\n",
    "print(ss['lsq_period'])\n",
    "print(ss['log10_fap_ls'])\n",
    "plt.figure()\n",
    "plt.plot(lc['mjdobs']%ss['lsq_period'],lc['mag'],'.')\n",
    "\n",
    "# ss=source_feat_extract([0.,0.,lcO],config,ls_kwargs={'minimum_frequency':0.00066667,'maximum_frequency':20.},\n",
    "#                    method_kwargs={'irreg':True}, lomb_kwargs={'period_tol':0.,'freq_max':1e-2, 'poly_detrend':False});\n",
    "# print(ss['lsq_period'])\n",
    "# print(ss['log10_fap_ls'])\n",
    "\n",
    "ss=source_feat_extract([0.,0.,lcO],config,ls_kwargs={'minimum_frequency':0.00066667,'maximum_frequency':20.},\n",
    "                   method_kwargs={'irreg':True}, lomb_kwargs={'period_tol':0.,'freq_max':1./200., 'poly_detrend':True});\n",
    "print(ss['lsq_period'])\n",
    "print(ss['log10_fap_ls'])\n",
    "\n",
    "# ss=source_feat_extract([0.,0.,lcO],config,ls_kwargs={'minimum_frequency':0.00066667,'maximum_frequency':20.},\n",
    "#                    method_kwargs={'irreg':True}, lomb_kwargs={'period_tol':0.,'freq_max':1./200., 'poly_detrend':False});\n",
    "# print(ss['lsq_period'])\n",
    "# print(ss['log10_fap_ls'])\n",
    "\n",
    "from scipy.signal import find_peaks\n",
    "fp = find_peaks(power)[0]\n",
    "bf=1./freq[fp][np.argsort(power[fp])[::-1][:50]]\n",
    "bfp=power[fp][np.argsort(power[fp])[::-1][:50]]\n",
    "# print(1./bf)\n",
    "#\n",
    "from fine_classif.feat_extract.lc_utils import is_window_function_peak, is_window_function_peak_v2\n",
    "# print(is_window_function_peak(lc['mjdobs'],lc['mag']-np.poly1d(pl)(lc['mjdobs']),lc['emag'],\n",
    "#                               bf,bfp))\n",
    "# print(is_window_function_peak_v2(lc['mjdobs'],lc['mag']-np.poly1d(pl)(lc['mjdobs']),lc['emag'],\n",
    "#                               bf,bfp))\n",
    "\n",
    "bfL = bf[bf>200.]\n",
    "print(bfL)\n",
    "# print(bfL)\n",
    "plt.figure()\n",
    "plt.plot(lc['mjdobs']%ss['lsq_period'],lc['mag'],'.')\n",
    "plt.figure(figsize=[15.,3.])\n",
    "\n",
    "plt.plot(1./freq, wpower, color='r')\n",
    "for ii in range(len(bfL))[:0]:\n",
    "#     print(is_window_function_peak_v2(lc['mjdobs'],lc['mag']-np.poly1d(pl)(lc['mjdobs']),lc['emag'],\n",
    "#                                   bf-bfL[ii],bfp))\n",
    "#     print(is_window_function_peak_v2(lc['mjdobs'],lc['mag']-np.poly1d(pl)(lc['mjdobs']),lc['emag'],\n",
    "#                                   bf+bfL[ii],bfp))\n",
    "    plt.plot(1./(freq+1./bfL[ii]), wpower)\n",
    "    plt.plot(1./(freq-1./bfL[ii]), wpower)\n",
    "\n",
    "plt.axvline(ss['lsq_period'])\n",
    "plt.axvline(ss['lsq_period'])\n",
    "# plt.plot(1./(freq-1./2939.), wpower)\n",
    "# plt.plot(1./(freq+1./2939.), wpower)\n",
    "\n",
    "plt.plot(1./freq, power, color='k')\n",
    "plt.plot(1./freq, npower, color='gray')\n",
    "plt.axvline(0.16621208)\n",
    "\n",
    "# plt.plot(1./(freq-1./365.), wpower)\n",
    "# plt.xlim(-100.,4000.)\n",
    "\n",
    "# plt.xlim(ss['lsq_period']*0.99,ss['lsq_period']*1.01)\n",
    "\n",
    "# plt.xlim(0.165,0.167)\n",
    "# plt.xlim(1.1,1.2)\n",
    "# plt.axvline(0.9999/3.)\n",
    "# plt.xlim(0.1,1500.)\n",
    "# plt.xlim(0.1,2.)\n",
    "plt.semilogx()"
   ]
  },
  {
   "cell_type": "code",
   "execution_count": 435,
   "metadata": {},
   "outputs": [],
   "source": [
    "tt_l = pd.DataFrame(sqlutilpy.get('''select * from jason_sanders.virac2_variables where class='EW' ''', **config.wsdb_kwargs))"
   ]
  },
  {
   "cell_type": "code",
   "execution_count": 462,
   "metadata": {},
   "outputs": [
    {
     "data": {
      "image/png": "[encoded data removed]",
      "text/plain": [
       "<Figure size 432x288 with 1 Axes>"
      ]
     },
     "metadata": {
      "needs_background": "light"
     },
     "output_type": "display_data"
    }
   ],
   "source": [
    "plt.hist(tt_l['period'][(tt_l['prob']>0.5)&(tt_l['b']<-6.)],range=[0.45,0.55],bins=200);\n",
    "# plt.axvline(0.9972*(2/5),color='k',ymin=0.9)"
   ]
  },
  {
   "cell_type": "code",
   "execution_count": 318,
   "metadata": {},
   "outputs": [],
   "source": [
    "import pickle\n",
    "with open('/local/scratch_2/jls/virac_classifier/variable/edr3_SJ_noalias/variable_features_batch0.pkl', 'rb') as v:\n",
    "    ttt = pickle.load(v)"
   ]
  },
  {
   "cell_type": "code",
   "execution_count": 324,
   "metadata": {},
   "outputs": [
    {
     "data": {
      "image/png": "[encoded data removed]",
      "text/plain": [
       "<Figure size 432x288 with 1 Axes>"
      ]
     },
     "metadata": {
      "needs_background": "light"
     },
     "output_type": "display_data"
    }
   ],
   "source": [
    "plt.hist(ttt['lsq_period'][ttt['var_class']=='EA/EB'],range=[0.,1.1],bins=150);"
   ]
  },
  {
   "cell_type": "code",
   "execution_count": null,
   "metadata": {},
   "outputs": [],
   "source": [
    "output['log']"
   ]
  },
  {
   "cell_type": "code",
   "execution_count": 291,
   "metadata": {},
   "outputs": [
    {
     "data": {
      "text/html": [
       "<div>\n",
       "<style scoped>\n",
       "    .dataframe tbody tr th:only-of-type {\n",
       "        vertical-align: middle;\n",
       "    }\n",
       "\n",
       "    .dataframe tbody tr th {\n",
       "        vertical-align: top;\n",
       "    }\n",
       "\n",
       "    .dataframe thead th {\n",
       "        text-align: right;\n",
       "    }\n",
       "</style>\n",
       "<table border=\"1\" class=\"dataframe\">\n",
       "  <thead>\n",
       "    <tr style=\"text-align: right;\">\n",
       "      <th></th>\n",
       "      <th>prob</th>\n",
       "      <th>prob_nofap</th>\n",
       "      <th>log10_fap</th>\n",
       "    </tr>\n",
       "  </thead>\n",
       "  <tbody>\n",
       "    <tr>\n",
       "      <th>0</th>\n",
       "      <td>0.999800</td>\n",
       "      <td>0.479127</td>\n",
       "      <td>-1.559219</td>\n",
       "    </tr>\n",
       "    <tr>\n",
       "      <th>1</th>\n",
       "      <td>0.999862</td>\n",
       "      <td>0.528559</td>\n",
       "      <td>-3.114171</td>\n",
       "    </tr>\n",
       "    <tr>\n",
       "      <th>2</th>\n",
       "      <td>0.996397</td>\n",
       "      <td>0.928287</td>\n",
       "      <td>-28.569105</td>\n",
       "    </tr>\n",
       "    <tr>\n",
       "      <th>3</th>\n",
       "      <td>0.999898</td>\n",
       "      <td>0.459687</td>\n",
       "      <td>-1.123116</td>\n",
       "    </tr>\n",
       "    <tr>\n",
       "      <th>4</th>\n",
       "      <td>0.999884</td>\n",
       "      <td>0.480374</td>\n",
       "      <td>-0.000025</td>\n",
       "    </tr>\n",
       "    <tr>\n",
       "      <th>5</th>\n",
       "      <td>0.995808</td>\n",
       "      <td>0.442928</td>\n",
       "      <td>-4.998211</td>\n",
       "    </tr>\n",
       "    <tr>\n",
       "      <th>6</th>\n",
       "      <td>0.992890</td>\n",
       "      <td>0.693309</td>\n",
       "      <td>-3.899173</td>\n",
       "    </tr>\n",
       "    <tr>\n",
       "      <th>7</th>\n",
       "      <td>0.999794</td>\n",
       "      <td>0.469553</td>\n",
       "      <td>-0.463559</td>\n",
       "    </tr>\n",
       "    <tr>\n",
       "      <th>8</th>\n",
       "      <td>0.998257</td>\n",
       "      <td>0.547589</td>\n",
       "      <td>-2.392219</td>\n",
       "    </tr>\n",
       "    <tr>\n",
       "      <th>9</th>\n",
       "      <td>0.998501</td>\n",
       "      <td>0.347970</td>\n",
       "      <td>-3.214284</td>\n",
       "    </tr>\n",
       "    <tr>\n",
       "      <th>...</th>\n",
       "      <td>...</td>\n",
       "      <td>...</td>\n",
       "      <td>...</td>\n",
       "    </tr>\n",
       "    <tr>\n",
       "      <th>4980</th>\n",
       "      <td>0.999066</td>\n",
       "      <td>0.452521</td>\n",
       "      <td>-4.009905</td>\n",
       "    </tr>\n",
       "    <tr>\n",
       "      <th>4981</th>\n",
       "      <td>0.987878</td>\n",
       "      <td>0.384242</td>\n",
       "      <td>-1.187864</td>\n",
       "    </tr>\n",
       "    <tr>\n",
       "      <th>4982</th>\n",
       "      <td>0.999718</td>\n",
       "      <td>0.513753</td>\n",
       "      <td>-3.386176</td>\n",
       "    </tr>\n",
       "    <tr>\n",
       "      <th>4983</th>\n",
       "      <td>0.999919</td>\n",
       "      <td>0.672160</td>\n",
       "      <td>-1.539504</td>\n",
       "    </tr>\n",
       "    <tr>\n",
       "      <th>4984</th>\n",
       "      <td>0.999910</td>\n",
       "      <td>0.452889</td>\n",
       "      <td>-1.685148</td>\n",
       "    </tr>\n",
       "    <tr>\n",
       "      <th>4985</th>\n",
       "      <td>0.968128</td>\n",
       "      <td>0.334705</td>\n",
       "      <td>-8.925524</td>\n",
       "    </tr>\n",
       "    <tr>\n",
       "      <th>4986</th>\n",
       "      <td>0.999920</td>\n",
       "      <td>0.453092</td>\n",
       "      <td>-3.939541</td>\n",
       "    </tr>\n",
       "    <tr>\n",
       "      <th>4987</th>\n",
       "      <td>0.998470</td>\n",
       "      <td>0.456401</td>\n",
       "      <td>-2.154304</td>\n",
       "    </tr>\n",
       "    <tr>\n",
       "      <th>4988</th>\n",
       "      <td>0.999931</td>\n",
       "      <td>0.602642</td>\n",
       "      <td>-1.766107</td>\n",
       "    </tr>\n",
       "    <tr>\n",
       "      <th>4989</th>\n",
       "      <td>0.999593</td>\n",
       "      <td>0.710256</td>\n",
       "      <td>-4.710405</td>\n",
       "    </tr>\n",
       "  </tbody>\n",
       "</table>\n",
       "<p>4990 rows × 3 columns</p>\n",
       "</div>"
      ],
      "text/plain": [
       "          prob  prob_nofap  log10_fap\n",
       "0     0.999800    0.479127  -1.559219\n",
       "1     0.999862    0.528559  -3.114171\n",
       "2     0.996397    0.928287 -28.569105\n",
       "3     0.999898    0.459687  -1.123116\n",
       "4     0.999884    0.480374  -0.000025\n",
       "5     0.995808    0.442928  -4.998211\n",
       "6     0.992890    0.693309  -3.899173\n",
       "7     0.999794    0.469553  -0.463559\n",
       "8     0.998257    0.547589  -2.392219\n",
       "9     0.998501    0.347970  -3.214284\n",
       "...        ...         ...        ...\n",
       "4980  0.999066    0.452521  -4.009905\n",
       "4981  0.987878    0.384242  -1.187864\n",
       "4982  0.999718    0.513753  -3.386176\n",
       "4983  0.999919    0.672160  -1.539504\n",
       "4984  0.999910    0.452889  -1.685148\n",
       "4985  0.968128    0.334705  -8.925524\n",
       "4986  0.999920    0.453092  -3.939541\n",
       "4987  0.998470    0.456401  -2.154304\n",
       "4988  0.999931    0.602642  -1.766107\n",
       "4989  0.999593    0.710256  -4.710405\n",
       "\n",
       "[4990 rows x 3 columns]"
      ]
     },
     "execution_count": 291,
     "metadata": {},
     "output_type": "execute_result"
    }
   ],
   "source": [
    "output[['prob','prob_nofap','log10_fap']]"
   ]
  },
  {
   "cell_type": "code",
   "execution_count": 298,
   "metadata": {},
   "outputs": [],
   "source": [
    "output2 = pd.read_csv('/local/scratch_2/jls/virac_classifier/results/edr3_SJ_noalias_test2/results_7380776_test.csv.tar.gz')"
   ]
  },
  {
   "cell_type": "code",
   "execution_count": 305,
   "metadata": {},
   "outputs": [
    {
     "data": {
      "image/png": "[encoded data removed]",
      "text/plain": [
       "<Figure size 432x288 with 1 Axes>"
      ]
     },
     "metadata": {
      "needs_background": "light"
     },
     "output_type": "display_data"
    }
   ],
   "source": [
    "plt.hist(output2['lsq_period'][output2['class']!='CONST'],range=[0.,500.],bins=150,);"
   ]
  },
  {
   "cell_type": "code",
   "execution_count": 366,
   "metadata": {},
   "outputs": [],
   "source": [
    "out_old = pd.read_csv('../results_7380776_test.csv.tar.gz')"
   ]
  },
  {
   "cell_type": "code",
   "execution_count": 413,
   "metadata": {},
   "outputs": [
    {
     "data": {
      "image/png": "[encoded data removed]",
      "text/plain": [
       "<Figure size 432x288 with 1 Axes>"
      ]
     },
     "metadata": {
      "needs_background": "light"
     },
     "output_type": "display_data"
    }
   ],
   "source": [
    "plt.hist(out_old['lsq_period'][out_old['class']!='CONST'],range=[0.,2.2],bins=150);"
   ]
  },
  {
   "cell_type": "code",
   "execution_count": 374,
   "metadata": {},
   "outputs": [
    {
     "data": {
      "text/plain": [
       "83      9270237012816\n",
       "160     9270237019892\n",
       "288     9270237031672\n",
       "350     9270237038619\n",
       "858     9274332041048\n",
       "1093    9274333016771\n",
       "1532    9278429004242\n",
       "1653    9278429022527\n",
       "1659    9278429023328\n",
       "1836    9278429044513\n",
       "1855    9278429046092\n",
       "Name: sourceid, dtype: int64"
      ]
     },
     "execution_count": 374,
     "metadata": {},
     "output_type": "execute_result"
    }
   ],
   "source": [
    "out_old['sourceid'][out_old['class']=='RRab']"
   ]
  },
  {
   "cell_type": "code",
   "execution_count": null,
   "metadata": {},
   "outputs": [],
   "source": []
  }
 ],
 "metadata": {
  "kernelspec": {
   "display_name": "Python 3",
   "language": "python",
   "name": "python3"
  },
  "language_info": {
   "codemirror_mode": {
    "name": "ipython",
    "version": 3
   },
   "file_extension": ".py",
   "mimetype": "text/x-python",
   "name": "python",
   "nbconvert_exporter": "python",
   "pygments_lexer": "ipython3",
   "version": "3.5.2"
  }
 },
 "nbformat": 4,
 "nbformat_minor": 4
}
