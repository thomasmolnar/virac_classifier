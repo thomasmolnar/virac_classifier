{
 "cells": [
  {
   "cell_type": "code",
   "execution_count": 24,
   "metadata": {},
   "outputs": [],
   "source": [
    "import sys\n",
    "sys.path.append('../')\n",
    "\n",
    "import pickle\n",
    "\n",
    "with open('/local/scratch_2/jls/virac_classifier/results/edr3/results_7380776_test.pkl', 'rb') as f:\n",
    "    res = pickle.load(f)"
   ]
  },
  {
   "cell_type": "code",
   "execution_count": 25,
   "metadata": {},
   "outputs": [
    {
     "data": {
      "text/plain": [
       "Index(['sourceid', 'class', 'prob', 'n_epochs', 'amp_0', 'amp_1', 'amp_2',\n",
       "       'amp_3', 'amp_double_0', 'amp_double_1', 'amp_double_2', 'amp_double_3',\n",
       "       'amplitude', 'beyondfrac', 'delta_loglik', 'log10_fap', 'lsq_period',\n",
       "       'lsq_period_error', 'lsq_nterms', 'max_pow', 'max_phase_lag',\n",
       "       'pow_mean_disp', 'time_lag_mean', 'significant_second_minimum', 'phi_0',\n",
       "       'phi_1', 'phi_2', 'phi_3', 'phi_double_0', 'phi_double_1',\n",
       "       'phi_double_2', 'phi_double_3', 'peak_ratio_model', 'peak_ratio_data',\n",
       "       'JK_col', 'HK_col', 'prob_1st_stage'],\n",
       "      dtype='object')"
      ]
     },
     "execution_count": 25,
     "metadata": {},
     "output_type": "execute_result"
    }
   ],
   "source": [
    "res.columns"
   ]
  },
  {
   "cell_type": "code",
   "execution_count": 26,
   "metadata": {},
   "outputs": [
    {
     "name": "stdout",
     "output_type": "stream",
     "text": [
      "-rw-r--r-- 1 jls jls 4.4K Jan 27 10:02 /local/scratch_2/jls/virac_classifier/results/edr3/results_7380776_test.pkl\n"
     ]
    }
   ],
   "source": [
    "!ls -lth /local/scratch_2/jls/virac_classifier/results/edr3/results_7380776_test.pkl"
   ]
  },
  {
   "cell_type": "code",
   "execution_count": 31,
   "metadata": {},
   "outputs": [
    {
     "data": {
      "text/html": [
       "<div>\n",
       "<style scoped>\n",
       "    .dataframe tbody tr th:only-of-type {\n",
       "        vertical-align: middle;\n",
       "    }\n",
       "\n",
       "    .dataframe tbody tr th {\n",
       "        vertical-align: top;\n",
       "    }\n",
       "\n",
       "    .dataframe thead th {\n",
       "        text-align: right;\n",
       "    }\n",
       "</style>\n",
       "<table border=\"1\" class=\"dataframe\">\n",
       "  <thead>\n",
       "    <tr style=\"text-align: right;\">\n",
       "      <th></th>\n",
       "      <th>log10_fap</th>\n",
       "      <th>class</th>\n",
       "      <th>sourceid</th>\n",
       "      <th>lsq_period</th>\n",
       "    </tr>\n",
       "  </thead>\n",
       "  <tbody>\n",
       "    <tr>\n",
       "      <th>0</th>\n",
       "      <td>-6.503828</td>\n",
       "      <td>CONST</td>\n",
       "      <td>9270237001653</td>\n",
       "      <td>0.347856</td>\n",
       "    </tr>\n",
       "    <tr>\n",
       "      <th>1</th>\n",
       "      <td>-2.115423</td>\n",
       "      <td>CONST</td>\n",
       "      <td>9270237006198</td>\n",
       "      <td>0.052907</td>\n",
       "    </tr>\n",
       "    <tr>\n",
       "      <th>2</th>\n",
       "      <td>-3.249448</td>\n",
       "      <td>CONST</td>\n",
       "      <td>9270237022714</td>\n",
       "      <td>0.054535</td>\n",
       "    </tr>\n",
       "    <tr>\n",
       "      <th>3</th>\n",
       "      <td>-36.666649</td>\n",
       "      <td>EW</td>\n",
       "      <td>9270237030131</td>\n",
       "      <td>2672.593169</td>\n",
       "    </tr>\n",
       "    <tr>\n",
       "      <th>4</th>\n",
       "      <td>-8.704591</td>\n",
       "      <td>CONST</td>\n",
       "      <td>9270237035389</td>\n",
       "      <td>877.567906</td>\n",
       "    </tr>\n",
       "    <tr>\n",
       "      <th>5</th>\n",
       "      <td>-2.335290</td>\n",
       "      <td>CONST</td>\n",
       "      <td>9270237041820</td>\n",
       "      <td>0.079943</td>\n",
       "    </tr>\n",
       "    <tr>\n",
       "      <th>6</th>\n",
       "      <td>-30.926102</td>\n",
       "      <td>EW</td>\n",
       "      <td>9270237046502</td>\n",
       "      <td>1729.324992</td>\n",
       "    </tr>\n",
       "    <tr>\n",
       "      <th>7</th>\n",
       "      <td>-0.282390</td>\n",
       "      <td>CONST</td>\n",
       "      <td>9274332015305</td>\n",
       "      <td>0.062285</td>\n",
       "    </tr>\n",
       "    <tr>\n",
       "      <th>8</th>\n",
       "      <td>-74.149948</td>\n",
       "      <td>LPV</td>\n",
       "      <td>9274332018002</td>\n",
       "      <td>1959.901657</td>\n",
       "    </tr>\n",
       "    <tr>\n",
       "      <th>9</th>\n",
       "      <td>-17.032042</td>\n",
       "      <td>Ell</td>\n",
       "      <td>9274332018604</td>\n",
       "      <td>0.436086</td>\n",
       "    </tr>\n",
       "    <tr>\n",
       "      <th>10</th>\n",
       "      <td>-29.692478</td>\n",
       "      <td>EW</td>\n",
       "      <td>9274333025622</td>\n",
       "      <td>1.000596</td>\n",
       "    </tr>\n",
       "    <tr>\n",
       "      <th>11</th>\n",
       "      <td>-148.292038</td>\n",
       "      <td>LPV</td>\n",
       "      <td>9278429003177</td>\n",
       "      <td>683.686778</td>\n",
       "    </tr>\n",
       "    <tr>\n",
       "      <th>12</th>\n",
       "      <td>-43.586632</td>\n",
       "      <td>LPV</td>\n",
       "      <td>9278429004242</td>\n",
       "      <td>1896.679447</td>\n",
       "    </tr>\n",
       "    <tr>\n",
       "      <th>13</th>\n",
       "      <td>-79.275780</td>\n",
       "      <td>EW</td>\n",
       "      <td>9278429017479</td>\n",
       "      <td>1729.326010</td>\n",
       "    </tr>\n",
       "    <tr>\n",
       "      <th>14</th>\n",
       "      <td>-137.135071</td>\n",
       "      <td>LPV</td>\n",
       "      <td>9278429046913</td>\n",
       "      <td>4522.850990</td>\n",
       "    </tr>\n",
       "  </tbody>\n",
       "</table>\n",
       "</div>"
      ],
      "text/plain": [
       "     log10_fap  class       sourceid   lsq_period\n",
       "0    -6.503828  CONST  9270237001653     0.347856\n",
       "1    -2.115423  CONST  9270237006198     0.052907\n",
       "2    -3.249448  CONST  9270237022714     0.054535\n",
       "3   -36.666649     EW  9270237030131  2672.593169\n",
       "4    -8.704591  CONST  9270237035389   877.567906\n",
       "5    -2.335290  CONST  9270237041820     0.079943\n",
       "6   -30.926102     EW  9270237046502  1729.324992\n",
       "7    -0.282390  CONST  9274332015305     0.062285\n",
       "8   -74.149948    LPV  9274332018002  1959.901657\n",
       "9   -17.032042    Ell  9274332018604     0.436086\n",
       "10  -29.692478     EW  9274333025622     1.000596\n",
       "11 -148.292038    LPV  9278429003177   683.686778\n",
       "12  -43.586632    LPV  9278429004242  1896.679447\n",
       "13  -79.275780     EW  9278429017479  1729.326010\n",
       "14 -137.135071    LPV  9278429046913  4522.850990"
      ]
     },
     "execution_count": 31,
     "metadata": {},
     "output_type": "execute_result"
    }
   ],
   "source": [
    "res[['log10_fap', 'class', 'sourceid', 'lsq_period']]"
   ]
  },
  {
   "cell_type": "code",
   "execution_count": null,
   "metadata": {},
   "outputs": [],
   "source": []
  }
 ],
 "metadata": {
  "kernelspec": {
   "display_name": "Python 3",
   "language": "python",
   "name": "python3"
  },
  "language_info": {
   "codemirror_mode": {
    "name": "ipython",
    "version": 3
   },
   "file_extension": ".py",
   "mimetype": "text/x-python",
   "name": "python",
   "nbconvert_exporter": "python",
   "pygments_lexer": "ipython3",
   "version": "3.5.2"
  }
 },
 "nbformat": 4,
 "nbformat_minor": 4
}
