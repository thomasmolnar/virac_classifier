{
 "cells": [
  {
   "cell_type": "code",
   "execution_count": 20,
   "metadata": {},
   "outputs": [],
   "source": [
    "import sys\n",
    "sys.path.append('../')\n",
    "\n",
    "import pickle\n",
    "\n",
    "with open('/local/scratch_2/jls/virac_classifier/results/edr3/results_7380776_test.pkl', 'rb') as f:\n",
    "    res = pickle.load(f)"
   ]
  },
  {
   "cell_type": "code",
   "execution_count": 16,
   "metadata": {},
   "outputs": [
    {
     "data": {
      "text/plain": [
       "Index(['sourceid', 'class', 'prob', 'n_epochs', 'amp_0', 'amp_1', 'amp_2',\n",
       "       'amp_3', 'amp_double_0', 'amp_double_1', 'amp_double_2', 'amp_double_3',\n",
       "       'amplitude', 'beyondfrac', 'delta_loglik', 'lsq_period',\n",
       "       'lsq_period_error', 'lsq_nterms', 'max_pow', 'max_phase_lag',\n",
       "       'pow_mean_disp', 'time_lag_mean', 'significant_second_minimum', 'phi_0',\n",
       "       'phi_1', 'phi_2', 'phi_3', 'phi_double_0', 'phi_double_1',\n",
       "       'phi_double_2', 'phi_double_3', 'peak_ratio_model', 'peak_ratio_data',\n",
       "       'JK_col', 'HK_col', 'prob_1st_stage'],\n",
       "      dtype='object')"
      ]
     },
     "execution_count": 16,
     "metadata": {},
     "output_type": "execute_result"
    }
   ],
   "source": [
    "res.columns"
   ]
  },
  {
   "cell_type": "code",
   "execution_count": 22,
   "metadata": {},
   "outputs": [
    {
     "name": "stdout",
     "output_type": "stream",
     "text": [
      "-rw-r--r-- 1 jls jls 4.3K Jan 27 09:57 /local/scratch_2/jls/virac_classifier/results/edr3/results_7380776_test.pkl\n"
     ]
    }
   ],
   "source": [
    "!ls -lth /local/scratch_2/jls/virac_classifier/results/edr3/results_7380776_test.pkl"
   ]
  },
  {
   "cell_type": "code",
   "execution_count": null,
   "metadata": {},
   "outputs": [],
   "source": []
  }
 ],
 "metadata": {
  "kernelspec": {
   "display_name": "Python 3",
   "language": "python",
   "name": "python3"
  },
  "language_info": {
   "codemirror_mode": {
    "name": "ipython",
    "version": 3
   },
   "file_extension": ".py",
   "mimetype": "text/x-python",
   "name": "python",
   "nbconvert_exporter": "python",
   "pygments_lexer": "ipython3",
   "version": "3.5.2"
  }
 },
 "nbformat": 4,
 "nbformat_minor": 4
}
