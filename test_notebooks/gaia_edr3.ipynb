{
 "cells": [
  {
   "cell_type": "code",
   "execution_count": 1,
   "metadata": {},
   "outputs": [
    {
     "name": "stdin",
     "output_type": "stream",
     "text": [
      " ·············\n"
     ]
    }
   ],
   "source": [
    "import sys\n",
    "sys.path.append('../')\n",
    "from initial_classif.trainset.variable_training_sets import *\n",
    "from initial_classif.trainset.gaia_extraction import *\n",
    "import sys\n",
    "from astropy.coordinates import SkyCoord\n",
    "import astropy.units as u\n",
    "sys.path.append('../../../../')\n",
    "from virac_utils import wrap, betw, wsdb_kwargs, cm_virac, wsdb_upload_kwargs\n",
    "\n",
    "from config import *\n",
    "config=configuration()\n",
    "config.request_password()"
   ]
  },
  {
   "cell_type": "code",
   "execution_count": 92,
   "metadata": {},
   "outputs": [
    {
     "data": {
      "text/plain": [
       "'1'"
      ]
     },
     "execution_count": 92,
     "metadata": {},
     "output_type": "execute_result"
    }
   ],
   "source": [
    "config['test']"
   ]
  },
  {
   "cell_type": "code",
   "execution_count": 93,
   "metadata": {},
   "outputs": [],
   "source": [
    "config['test']='0'"
   ]
  },
  {
   "cell_type": "code",
   "execution_count": 96,
   "metadata": {},
   "outputs": [],
   "source": [
    "gg=grab_virac_gaia_random_sample(5,config)"
   ]
  },
  {
   "cell_type": "code",
   "execution_count": 130,
   "metadata": {},
   "outputs": [
    {
     "data": {
      "text/html": [
       "<div>\n",
       "<style scoped>\n",
       "    .dataframe tbody tr th:only-of-type {\n",
       "        vertical-align: middle;\n",
       "    }\n",
       "\n",
       "    .dataframe tbody tr th {\n",
       "        vertical-align: top;\n",
       "    }\n",
       "\n",
       "    .dataframe thead th {\n",
       "        text-align: right;\n",
       "    }\n",
       "</style>\n",
       "<table border=\"1\" class=\"dataframe\">\n",
       "  <thead>\n",
       "    <tr style=\"text-align: right;\">\n",
       "      <th></th>\n",
       "      <th>ra_</th>\n",
       "      <th>dec_</th>\n",
       "      <th>xid</th>\n",
       "      <th>sourceid</th>\n",
       "      <th>astfit_epochs</th>\n",
       "      <th>astfit_params</th>\n",
       "      <th>duplicate</th>\n",
       "      <th>ref_epoch</th>\n",
       "      <th>ra</th>\n",
       "      <th>ra_error</th>\n",
       "      <th>dec</th>\n",
       "      <th>dec_error</th>\n",
       "      <th>parallax</th>\n",
       "      <th>parallax_error</th>\n",
       "      <th>pmra</th>\n",
       "      <th>...</th>\n",
       "      <th>j_n_b_phot</th>\n",
       "      <th>h_b_med_mag</th>\n",
       "      <th>h_b_mean_mag</th>\n",
       "      <th>h_b_ivw_mean_mag</th>\n",
       "      <th>h_b_std_mag</th>\n",
       "      <th>h_b_mad_mag</th>\n",
       "      <th>h_b_ivw_err_mag</th>\n",
       "      <th>h_n_b_phot</th>\n",
       "      <th>ks_b_med_mag</th>\n",
       "      <th>ks_b_mean_mag</th>\n",
       "      <th>ks_b_ivw_mean_mag</th>\n",
       "      <th>ks_b_std_mag</th>\n",
       "      <th>ks_b_mad_mag</th>\n",
       "      <th>ks_b_ivw_err_mag</th>\n",
       "      <th>ks_n_b_phot</th>\n",
       "    </tr>\n",
       "  </thead>\n",
       "  <tbody>\n",
       "    <tr>\n",
       "      <th>0</th>\n",
       "      <td>259.859874</td>\n",
       "      <td>-38.126188</td>\n",
       "      <td>0</td>\n",
       "      <td>10175372033449</td>\n",
       "      <td>122</td>\n",
       "      <td>5</td>\n",
       "      <td>0</td>\n",
       "      <td>2014.0</td>\n",
       "      <td>259.859874</td>\n",
       "      <td>3.589435</td>\n",
       "      <td>-38.126188</td>\n",
       "      <td>2.780768</td>\n",
       "      <td>5.034413</td>\n",
       "      <td>4.905113</td>\n",
       "      <td>-4.236668</td>\n",
       "      <td>...</td>\n",
       "      <td>6</td>\n",
       "      <td>NaN</td>\n",
       "      <td>NaN</td>\n",
       "      <td>NaN</td>\n",
       "      <td>NaN</td>\n",
       "      <td>NaN</td>\n",
       "      <td>NaN</td>\n",
       "      <td>0</td>\n",
       "      <td>15.464100</td>\n",
       "      <td>15.4770</td>\n",
       "      <td>15.465800</td>\n",
       "      <td>0.080470</td>\n",
       "      <td>0.053455</td>\n",
       "      <td>0.005496</td>\n",
       "      <td>123</td>\n",
       "    </tr>\n",
       "    <tr>\n",
       "      <th>1</th>\n",
       "      <td>268.673324</td>\n",
       "      <td>-22.517243</td>\n",
       "      <td>1</td>\n",
       "      <td>8705009021802</td>\n",
       "      <td>190</td>\n",
       "      <td>5</td>\n",
       "      <td>0</td>\n",
       "      <td>2014.0</td>\n",
       "      <td>268.673324</td>\n",
       "      <td>2.861358</td>\n",
       "      <td>-22.517243</td>\n",
       "      <td>2.345575</td>\n",
       "      <td>-6.000692</td>\n",
       "      <td>3.448394</td>\n",
       "      <td>-0.429328</td>\n",
       "      <td>...</td>\n",
       "      <td>12</td>\n",
       "      <td>16.385599</td>\n",
       "      <td>16.485201</td>\n",
       "      <td>16.419001</td>\n",
       "      <td>0.158598</td>\n",
       "      <td>0.01583</td>\n",
       "      <td>0.019956</td>\n",
       "      <td>6</td>\n",
       "      <td>16.154301</td>\n",
       "      <td>16.1534</td>\n",
       "      <td>16.143801</td>\n",
       "      <td>0.118135</td>\n",
       "      <td>0.063034</td>\n",
       "      <td>0.006820</td>\n",
       "      <td>190</td>\n",
       "    </tr>\n",
       "  </tbody>\n",
       "</table>\n",
       "<p>2 rows × 138 columns</p>\n",
       "</div>"
      ],
      "text/plain": [
       "          ra_       dec_  xid        sourceid  astfit_epochs  astfit_params  \\\n",
       "0  259.859874 -38.126188    0  10175372033449            122              5   \n",
       "1  268.673324 -22.517243    1   8705009021802            190              5   \n",
       "\n",
       "   duplicate  ref_epoch          ra  ra_error        dec  dec_error  parallax  \\\n",
       "0          0     2014.0  259.859874  3.589435 -38.126188   2.780768  5.034413   \n",
       "1          0     2014.0  268.673324  2.861358 -22.517243   2.345575 -6.000692   \n",
       "\n",
       "   parallax_error      pmra  ...  j_n_b_phot  h_b_med_mag  h_b_mean_mag  \\\n",
       "0        4.905113 -4.236668  ...           6          NaN           NaN   \n",
       "1        3.448394 -0.429328  ...          12    16.385599     16.485201   \n",
       "\n",
       "   h_b_ivw_mean_mag  h_b_std_mag  h_b_mad_mag  h_b_ivw_err_mag  h_n_b_phot  \\\n",
       "0               NaN          NaN          NaN              NaN           0   \n",
       "1         16.419001     0.158598      0.01583         0.019956           6   \n",
       "\n",
       "   ks_b_med_mag  ks_b_mean_mag  ks_b_ivw_mean_mag  ks_b_std_mag  ks_b_mad_mag  \\\n",
       "0     15.464100        15.4770          15.465800      0.080470      0.053455   \n",
       "1     16.154301        16.1534          16.143801      0.118135      0.063034   \n",
       "\n",
       "   ks_b_ivw_err_mag  ks_n_b_phot  \n",
       "0          0.005496          123  \n",
       "1          0.006820          190  \n",
       "\n",
       "[2 rows x 138 columns]"
      ]
     },
     "execution_count": 130,
     "metadata": {},
     "output_type": "execute_result"
    }
   ],
   "source": [
    "cm_virac(gg)"
   ]
  },
  {
   "cell_type": "code",
   "execution_count": 35,
   "metadata": {},
   "outputs": [],
   "source": [
    "g2 = grab_virac_gaia_region_with_stats(1.,1.,2.5,2.5,config)"
   ]
  },
  {
   "cell_type": "code",
   "execution_count": 53,
   "metadata": {},
   "outputs": [
    {
     "data": {
      "text/plain": [
       "[<matplotlib.lines.Line2D at 0x7f5ce50551d0>]"
      ]
     },
     "execution_count": 53,
     "metadata": {},
     "output_type": "execute_result"
    },
    {
     "data": {
      "image/png": "[encoded data removed]",
      "text/plain": [
       "<Figure size 432x288 with 1 Axes>"
      ]
     },
     "metadata": {
      "needs_background": "light"
     },
     "output_type": "display_data"
    }
   ],
   "source": [
    "plt.plot(gg['phot_g_mean_mag'],np.log10(np.sqrt(gg['phot_g_n_obs'])/gg['phot_g_mean_flux_over_error']),'.',ms=3)"
   ]
  },
  {
   "cell_type": "code",
   "execution_count": 140,
   "metadata": {},
   "outputs": [],
   "source": [
    "var_list = pd.read_csv('/local/scratch_2/jls/virac_classifier/variable/variable_training_set_edr3_sourceid.csv')"
   ]
  },
  {
   "cell_type": "code",
   "execution_count": 64,
   "metadata": {},
   "outputs": [],
   "source": [
    "var_list_dr2 = pd.DataFrame(sqlutil.get('''select * from jason_sanders.variable_training_set_virac2_stats_with_const_sourceid;''',**wsdb_kwargs))"
   ]
  },
  {
   "cell_type": "code",
   "execution_count": 81,
   "metadata": {},
   "outputs": [],
   "source": [
    "var_list_dr2_noconst = pd.DataFrame(sqlutil.get('''select sourceid as virac_id from jason_sanders.variable_training_set_virac2_stats;''',**wsdb_kwargs))"
   ]
  },
  {
   "cell_type": "code",
   "execution_count": 82,
   "metadata": {},
   "outputs": [],
   "source": [
    "pp=pd.merge(var_list_dr2_noconst, var_list, how='outer', left_on='virac_id', right_on='sourceid')"
   ]
  },
  {
   "cell_type": "code",
   "execution_count": 85,
   "metadata": {},
   "outputs": [
    {
     "data": {
      "text/plain": [
       "(440660, 405008, 440660)"
      ]
     },
     "execution_count": 85,
     "metadata": {},
     "output_type": "execute_result"
    }
   ],
   "source": [
    "len(pp), len(var_list_dr2_noconst), len(var_list)"
   ]
  },
  {
   "cell_type": "code",
   "execution_count": 88,
   "metadata": {},
   "outputs": [
    {
     "data": {
      "text/plain": [
       "35652"
      ]
     },
     "execution_count": 88,
     "metadata": {},
     "output_type": "execute_result"
    }
   ],
   "source": [
    "np.count_nonzero(pp['virac_id']!=pp['sourceid'])"
   ]
  },
  {
   "cell_type": "code",
   "execution_count": 147,
   "metadata": {},
   "outputs": [
    {
     "data": {
      "text/plain": [
       "array([9258035027359, 9778158023770, 8758205016488, 9294823035163])"
      ]
     },
     "execution_count": 147,
     "metadata": {},
     "output_type": "execute_result"
    }
   ],
   "source": [
    "var_list[var_list['sourceid'].duplicated()]['sourceid'].values"
   ]
  },
  {
   "cell_type": "code",
   "execution_count": 141,
   "metadata": {},
   "outputs": [
    {
     "data": {
      "text/plain": [
       "array([4052154034474256896, 4043185936557170560, 4116731483347876480,\n",
       "       4057431174762061824])"
      ]
     },
     "execution_count": 141,
     "metadata": {},
     "output_type": "execute_result"
    }
   ],
   "source": [
    "var_list[var_list['sourceid'].duplicated()]['gaia_sourceid'].values"
   ]
  },
  {
   "cell_type": "code",
   "execution_count": 245,
   "metadata": {},
   "outputs": [],
   "source": [
    "var_list_g=var_list[var_list['gaia_sourceid']>=0].reset_index(drop=True)"
   ]
  },
  {
   "cell_type": "code",
   "execution_count": 246,
   "metadata": {},
   "outputs": [
    {
     "data": {
      "text/plain": [
       "0"
      ]
     },
     "execution_count": 246,
     "metadata": {},
     "output_type": "execute_result"
    }
   ],
   "source": [
    "np.count_nonzero(var_list_g['gaia_sourceid'].duplicated())"
   ]
  },
  {
   "cell_type": "code",
   "execution_count": 109,
   "metadata": {},
   "outputs": [],
   "source": [
    "import sys\n",
    "sys.path.append('../../../')\n",
    "from virac_lc import *"
   ]
  },
  {
   "cell_type": "code",
   "execution_count": 121,
   "metadata": {},
   "outputs": [
    {
     "data": {
      "image/png": "[encoded data removed]",
      "text/plain": [
       "<Figure size 432x288 with 1 Axes>"
      ]
     },
     "metadata": {
      "needs_background": "light"
     },
     "output_type": "display_data"
    }
   ],
   "source": [
    "plot_lightcurve(load_virac_lc(9294823035163, table_version='v2_NEW'), period=161.)"
   ]
  },
  {
   "cell_type": "code",
   "execution_count": 146,
   "metadata": {},
   "outputs": [],
   "source": [
    "sqlutil.upload('variable_training_set_edr3_virac2_stats_with_const_sourceid',\n",
    "               [var_list['sourceid'].values, var_list['gaia_sourceid'].values,], ['virac2_id', 'gedr3_id',],**wsdb_upload_kwargs)"
   ]
  },
  {
   "cell_type": "code",
   "execution_count": 149,
   "metadata": {},
   "outputs": [],
   "source": [
    "with open('/local/scratch_2/jls/virac_classifier/binary/edr3/grid.pkl', 'rb') as f:\n",
    "    grid = pickle.load(f)"
   ]
  },
  {
   "cell_type": "code",
   "execution_count": 158,
   "metadata": {},
   "outputs": [
    {
     "data": {
      "text/plain": [
       "[<matplotlib.lines.Line2D at 0x7f5cda1bff60>]"
      ]
     },
     "execution_count": 158,
     "metadata": {},
     "output_type": "execute_result"
    },
    {
     "data": {
      "image/png": "[encoded data removed]",
      "text/plain": [
       "<Figure size 432x288 with 1 Axes>"
      ]
     },
     "metadata": {
      "needs_background": "light"
     },
     "output_type": "display_data"
    }
   ],
   "source": [
    "plt.plot(grid['l'], grid['b'], '.')"
   ]
  },
  {
   "cell_type": "code",
   "execution_count": 157,
   "metadata": {},
   "outputs": [
    {
     "data": {
      "text/plain": [
       "array([  0,   1,   2,   3,   4,   5,   6,   7,   8,   9,  10,  11,  12,\n",
       "        13,  14,  15,  16,  17,  18,  19,  20,  21,  22,  23,  24,  25,\n",
       "        26,  27,  28,  29,  30,  31,  32,  33,  34,  35,  36,  37,  38,\n",
       "        39,  40,  41,  42,  43,  44,  45,  46,  47,  48,  49,  50,  51,\n",
       "        52,  53,  54,  55,  56,  57,  58,  59,  60,  61,  62,  63,  64,\n",
       "        65,  66,  67,  68,  69,  70,  71,  72,  73,  74,  75,  76,  77,\n",
       "        78,  79,  80,  81,  82,  83,  84,  85,  86,  87,  88,  89,  90,\n",
       "        91,  92,  93,  94,  95,  96,  97,  98,  99, 100, 101, 102, 103,\n",
       "       104, 105, 106, 107, 108, 109, 110, 111, 112, 113, 114, 115, 116,\n",
       "       117, 118, 119, 120, 121, 122, 123, 124, 125, 126, 127, 128, 129,\n",
       "       130, 131, 132, 133, 134, 135, 136, 137, 138, 139, 140, 141, 142,\n",
       "       143, 144, 145, 146, 147, 148, 149, 150, 151, 152, 153, 154, 155,\n",
       "       156, 157, 158, 159, 160, 161, 162, 163, 164, 165, 166, 167, 168,\n",
       "       169, 170, 171, 172, 173, 174, 175, 176, 177, 178, 179, 180, 181,\n",
       "       182, 183, 184, 185, 186, 187, 188, 189, 190, 191, 192, 193, 194,\n",
       "       195,   0,   1,   2,   3,   4,   5,   6,   7,   8,   9,  10,  11,\n",
       "        12,  13,  14,  15,  16,  17,  18,  19,  20,  21,  22,  23,  24,\n",
       "        25,  26,  27,  28,  29,  30,  31,  32,  33,  34,  35,  36,  37,\n",
       "        38,  39,  40,  41,  42,  43,  44,  45,  46,  47,  48,  49,  50,\n",
       "        51,  52,  53])"
      ]
     },
     "execution_count": 157,
     "metadata": {},
     "output_type": "execute_result"
    }
   ],
   "source": [
    "grid['index'].values[:250]"
   ]
  },
  {
   "cell_type": "code",
   "execution_count": 220,
   "metadata": {
    "scrolled": true
   },
   "outputs": [
    {
     "name": "stderr",
     "output_type": "stream",
     "text": [
      "/data/jls/python3.5/site-packages/sqlutilpy/sqlutil.py:398: UserWarning: Column name sourceid is repeated in the output, new name sourceid_1 assigned\n",
      "  'new name %s assigned') % (_n, curn))\n",
      "/data/jls/python3.5/site-packages/sqlutilpy/sqlutil.py:398: UserWarning: Column name l is repeated in the output, new name l_1 assigned\n",
      "  'new name %s assigned') % (_n, curn))\n",
      "/data/jls/python3.5/site-packages/sqlutilpy/sqlutil.py:398: UserWarning: Column name b is repeated in the output, new name b_1 assigned\n",
      "  'new name %s assigned') % (_n, curn))\n",
      "/data/jls/python3.5/site-packages/sqlutilpy/sqlutil.py:398: UserWarning: Column name sourceid is repeated in the output, new name sourceid_2 assigned\n",
      "  'new name %s assigned') % (_n, curn))\n",
      "/data/jls/python3.5/site-packages/sqlutilpy/sqlutil.py:398: UserWarning: Column name ks_stdev is repeated in the output, new name ks_stdev_1 assigned\n",
      "  'new name %s assigned') % (_n, curn))\n",
      "/data/jls/python3.5/site-packages/sqlutilpy/sqlutil.py:398: UserWarning: Column name ks_mad is repeated in the output, new name ks_mad_1 assigned\n",
      "  'new name %s assigned') % (_n, curn))\n",
      "/data/jls/python3.5/site-packages/sqlutilpy/sqlutil.py:398: UserWarning: Column name ks_kurtosis is repeated in the output, new name ks_kurtosis_1 assigned\n",
      "  'new name %s assigned') % (_n, curn))\n",
      "/data/jls/python3.5/site-packages/sqlutilpy/sqlutil.py:398: UserWarning: Column name ks_skew is repeated in the output, new name ks_skew_1 assigned\n",
      "  'new name %s assigned') % (_n, curn))\n",
      "/data/jls/python3.5/site-packages/sqlutilpy/sqlutil.py:398: UserWarning: Column name ks_eta is repeated in the output, new name ks_eta_1 assigned\n",
      "  'new name %s assigned') % (_n, curn))\n",
      "/data/jls/python3.5/site-packages/sqlutilpy/sqlutil.py:398: UserWarning: Column name ks_stetson_i is repeated in the output, new name ks_stetson_i_1 assigned\n",
      "  'new name %s assigned') % (_n, curn))\n",
      "/data/jls/python3.5/site-packages/sqlutilpy/sqlutil.py:398: UserWarning: Column name ks_stetson_j is repeated in the output, new name ks_stetson_j_1 assigned\n",
      "  'new name %s assigned') % (_n, curn))\n",
      "/data/jls/python3.5/site-packages/sqlutilpy/sqlutil.py:398: UserWarning: Column name ks_stetson_k is repeated in the output, new name ks_stetson_k_1 assigned\n",
      "  'new name %s assigned') % (_n, curn))\n",
      "/data/jls/python3.5/site-packages/sqlutilpy/sqlutil.py:398: UserWarning: Column name ks_p100 is repeated in the output, new name ks_p100_1 assigned\n",
      "  'new name %s assigned') % (_n, curn))\n",
      "/data/jls/python3.5/site-packages/sqlutilpy/sqlutil.py:398: UserWarning: Column name ks_p0 is repeated in the output, new name ks_p0_1 assigned\n",
      "  'new name %s assigned') % (_n, curn))\n",
      "/data/jls/python3.5/site-packages/sqlutilpy/sqlutil.py:398: UserWarning: Column name ks_p99 is repeated in the output, new name ks_p99_1 assigned\n",
      "  'new name %s assigned') % (_n, curn))\n",
      "/data/jls/python3.5/site-packages/sqlutilpy/sqlutil.py:398: UserWarning: Column name ks_p1 is repeated in the output, new name ks_p1_1 assigned\n",
      "  'new name %s assigned') % (_n, curn))\n",
      "/data/jls/python3.5/site-packages/sqlutilpy/sqlutil.py:398: UserWarning: Column name ks_p95 is repeated in the output, new name ks_p95_1 assigned\n",
      "  'new name %s assigned') % (_n, curn))\n",
      "/data/jls/python3.5/site-packages/sqlutilpy/sqlutil.py:398: UserWarning: Column name ks_p5 is repeated in the output, new name ks_p5_1 assigned\n",
      "  'new name %s assigned') % (_n, curn))\n",
      "/data/jls/python3.5/site-packages/sqlutilpy/sqlutil.py:398: UserWarning: Column name ks_p84 is repeated in the output, new name ks_p84_1 assigned\n",
      "  'new name %s assigned') % (_n, curn))\n",
      "/data/jls/python3.5/site-packages/sqlutilpy/sqlutil.py:398: UserWarning: Column name ks_p16 is repeated in the output, new name ks_p16_1 assigned\n",
      "  'new name %s assigned') % (_n, curn))\n",
      "/data/jls/python3.5/site-packages/sqlutilpy/sqlutil.py:398: UserWarning: Column name ks_p75 is repeated in the output, new name ks_p75_1 assigned\n",
      "  'new name %s assigned') % (_n, curn))\n",
      "/data/jls/python3.5/site-packages/sqlutilpy/sqlutil.py:398: UserWarning: Column name ks_p25 is repeated in the output, new name ks_p25_1 assigned\n",
      "  'new name %s assigned') % (_n, curn))\n",
      "/data/jls/python3.5/site-packages/sqlutilpy/sqlutil.py:398: UserWarning: Column name ks_b_ivw_err_mag is repeated in the output, new name ks_b_ivw_err_mag_1 assigned\n",
      "  'new name %s assigned') % (_n, curn))\n",
      "/data/jls/python3.5/site-packages/sqlutilpy/sqlutil.py:398: UserWarning: Column name j_b_ivw_mean_mag is repeated in the output, new name j_b_ivw_mean_mag_1 assigned\n",
      "  'new name %s assigned') % (_n, curn))\n",
      "/data/jls/python3.5/site-packages/sqlutilpy/sqlutil.py:398: UserWarning: Column name h_b_ivw_mean_mag is repeated in the output, new name h_b_ivw_mean_mag_1 assigned\n",
      "  'new name %s assigned') % (_n, curn))\n",
      "/data/jls/python3.5/site-packages/sqlutilpy/sqlutil.py:398: UserWarning: Column name ks_b_ivw_mean_mag is repeated in the output, new name ks_b_ivw_mean_mag_1 assigned\n",
      "  'new name %s assigned') % (_n, curn))\n",
      "/data/jls/python3.5/site-packages/sqlutilpy/sqlutil.py:398: UserWarning: Column name ks_n_b_phot is repeated in the output, new name ks_n_b_phot_1 assigned\n",
      "  'new name %s assigned') % (_n, curn))\n"
     ]
    }
   ],
   "source": [
    "dd=grab_virac_gaia_region_with_stats(1.,1.,10.,2.,config)"
   ]
  },
  {
   "cell_type": "code",
   "execution_count": 222,
   "metadata": {},
   "outputs": [
    {
     "data": {
      "text/plain": [
       "1"
      ]
     },
     "execution_count": 222,
     "metadata": {},
     "output_type": "execute_result"
    }
   ],
   "source": [
    "np.count_nonzero(dd['gaia_id'].duplicated())"
   ]
  },
  {
   "cell_type": "code",
   "execution_count": null,
   "metadata": {},
   "outputs": [],
   "source": [
    "xmatch=sqlutil.get('''with g as (\n",
    "                    select ra, dec,pmra,pmdec, source_id as gaia_id \n",
    "                            from gaia_edr3.gaia_source as t\n",
    "                            where \n",
    "                            ((t.l>350 or t.l<10.8) and t.b>-10.3 and t.b<5.2)\n",
    "                            or (t.l<350. and t.l>360-65.6428571434 and t.b>-1.1057142857*2 and t.b<1.1057142857*2)\n",
    "                    )\n",
    "                select sourceid, gaia_id, t.sep_arcsec from g\n",
    "                left join lateral (\n",
    "                                select sourceid, \n",
    "                                q3c_dist_pm(g.ra, g.dec, g.pmra, g.pmdec, 1, 2016., t.ra, t.dec, 2014.)*3600. as sep_arcsec\n",
    "                                from leigh_smith.virac2 as t\n",
    "                                where q3c_join(g.ra, g.dec, t.ra, t.dec, 2.0/3600.)\n",
    "                                order by q3c_dist_pm(g.ra, g.dec, g.pmra, g.pmdec, 1, 2016., t.ra, t.dec, 2014.) asc limit 1\n",
    "                                ) \n",
    "                as t on true where sourceid>0 and sep_arcsec<0.4;''',**wsdb_kwargs)"
   ]
  },
  {
   "cell_type": "code",
   "execution_count": 366,
   "metadata": {},
   "outputs": [
    {
     "ename": "KeyboardInterrupt",
     "evalue": "",
     "output_type": "error",
     "traceback": [
      "\u001b[0;31m---------------------------------------------------------------------------\u001b[0m",
      "\u001b[0;31mKeyboardInterrupt\u001b[0m                         Traceback (most recent call last)",
      "\u001b[0;32m<ipython-input-366-4d7e33ed0626>\u001b[0m in \u001b[0;36m<module>\u001b[0;34m\u001b[0m\n\u001b[1;32m      2\u001b[0m                \u001b[0;34m[\u001b[0m\u001b[0mxmatch\u001b[0m\u001b[0;34m[\u001b[0m\u001b[0;34m'sourceid'\u001b[0m\u001b[0;34m]\u001b[0m\u001b[0;34m,\u001b[0m\u001b[0;34m]\u001b[0m\u001b[0;34m,\u001b[0m\u001b[0;34m\u001b[0m\u001b[0m\n\u001b[1;32m      3\u001b[0m                \u001b[0;34m[\u001b[0m\u001b[0;34m'virac2_id'\u001b[0m\u001b[0;34m,\u001b[0m\u001b[0;34m]\u001b[0m\u001b[0;34m,\u001b[0m\u001b[0;34m\u001b[0m\u001b[0m\n\u001b[0;32m----> 4\u001b[0;31m               **wsdb_upload_kwargs)\n\u001b[0m",
      "\u001b[0;32m/data/jls/python3.5/site-packages/sqlutilpy/sqlutil.py\u001b[0m in \u001b[0;36mupload\u001b[0;34m(tableName, arrays, names, db, driver, user, password, host, conn, preamb, timeout, noCommit, temp, analyze, createTable)\u001b[0m\n\u001b[1;32m    539\u001b[0m             \u001b[0mcur\u001b[0m\u001b[0;34m.\u001b[0m\u001b[0mexecute\u001b[0m\u001b[0;34m(\u001b[0m\u001b[0mquery1\u001b[0m\u001b[0;34m)\u001b[0m\u001b[0;34m\u001b[0m\u001b[0m\n\u001b[1;32m    540\u001b[0m         \u001b[0mf\u001b[0m \u001b[0;34m=\u001b[0m \u001b[0mStringIO\u001b[0m\u001b[0;34m(\u001b[0m\u001b[0;34m)\u001b[0m\u001b[0;34m\u001b[0m\u001b[0m\n\u001b[0;32m--> 541\u001b[0;31m         \u001b[0m__print_arrays\u001b[0m\u001b[0;34m(\u001b[0m\u001b[0marrays\u001b[0m\u001b[0;34m,\u001b[0m \u001b[0mf\u001b[0m\u001b[0;34m,\u001b[0m \u001b[0msep\u001b[0m\u001b[0;34m=\u001b[0m\u001b[0msep\u001b[0m\u001b[0;34m)\u001b[0m\u001b[0;34m\u001b[0m\u001b[0m\n\u001b[0m\u001b[1;32m    542\u001b[0m         \u001b[0mf\u001b[0m\u001b[0;34m.\u001b[0m\u001b[0mseek\u001b[0m\u001b[0;34m(\u001b[0m\u001b[0;36m0\u001b[0m\u001b[0;34m)\u001b[0m\u001b[0;34m\u001b[0m\u001b[0m\n\u001b[1;32m    543\u001b[0m         \u001b[0;32mtry\u001b[0m\u001b[0;34m:\u001b[0m\u001b[0;34m\u001b[0m\u001b[0m\n",
      "\u001b[0;32m/data/jls/python3.5/site-packages/sqlutilpy/sqlutil.py\u001b[0m in \u001b[0;36m__print_arrays\u001b[0;34m(arrays, f, sep)\u001b[0m\n\u001b[1;32m    502\u001b[0m     \u001b[0mfmt\u001b[0m \u001b[0;34m=\u001b[0m \u001b[0;34m[\u001b[0m\u001b[0mhash\u001b[0m\u001b[0;34m[\u001b[0m\u001b[0mx\u001b[0m\u001b[0;34m.\u001b[0m\u001b[0mdtype\u001b[0m\u001b[0;34m.\u001b[0m\u001b[0mtype\u001b[0m\u001b[0;34m]\u001b[0m \u001b[0;32mfor\u001b[0m \u001b[0mx\u001b[0m \u001b[0;32min\u001b[0m \u001b[0marrays\u001b[0m\u001b[0;34m]\u001b[0m\u001b[0;34m\u001b[0m\u001b[0m\n\u001b[1;32m    503\u001b[0m     \u001b[0mrecarr\u001b[0m \u001b[0;34m=\u001b[0m \u001b[0mnp\u001b[0m\u001b[0;34m.\u001b[0m\u001b[0mrec\u001b[0m\u001b[0;34m.\u001b[0m\u001b[0mfromarrays\u001b[0m\u001b[0;34m(\u001b[0m\u001b[0marrays\u001b[0m\u001b[0;34m)\u001b[0m\u001b[0;34m\u001b[0m\u001b[0m\n\u001b[0;32m--> 504\u001b[0;31m     \u001b[0mnp\u001b[0m\u001b[0;34m.\u001b[0m\u001b[0msavetxt\u001b[0m\u001b[0;34m(\u001b[0m\u001b[0mf\u001b[0m\u001b[0;34m,\u001b[0m \u001b[0mrecarr\u001b[0m\u001b[0;34m,\u001b[0m \u001b[0mfmt\u001b[0m\u001b[0;34m=\u001b[0m\u001b[0mfmt\u001b[0m\u001b[0;34m,\u001b[0m\u001b[0mdelimiter\u001b[0m\u001b[0;34m=\u001b[0m\u001b[0msep\u001b[0m\u001b[0;34m)\u001b[0m\u001b[0;34m\u001b[0m\u001b[0m\n\u001b[0m\u001b[1;32m    505\u001b[0m \u001b[0;34m\u001b[0m\u001b[0m\n\u001b[1;32m    506\u001b[0m \u001b[0;34m\u001b[0m\u001b[0m\n",
      "\u001b[0;32m<__array_function__ internals>\u001b[0m in \u001b[0;36msavetxt\u001b[0;34m(*args, **kwargs)\u001b[0m\n",
      "\u001b[0;32m/data/jls/python3.5/site-packages/numpy/lib/npyio.py\u001b[0m in \u001b[0;36msavetxt\u001b[0;34m(fname, X, fmt, delimiter, newline, header, footer, comments, encoding)\u001b[0m\n\u001b[1;32m   1437\u001b[0m                                     \u001b[0;34m\"format specifier ('%s')\"\u001b[0m\u001b[0;34m\u001b[0m\u001b[0m\n\u001b[1;32m   1438\u001b[0m                                     % (str(X.dtype), format))\n\u001b[0;32m-> 1439\u001b[0;31m                 \u001b[0mfh\u001b[0m\u001b[0;34m.\u001b[0m\u001b[0mwrite\u001b[0m\u001b[0;34m(\u001b[0m\u001b[0mv\u001b[0m\u001b[0;34m)\u001b[0m\u001b[0;34m\u001b[0m\u001b[0m\n\u001b[0m\u001b[1;32m   1440\u001b[0m \u001b[0;34m\u001b[0m\u001b[0m\n\u001b[1;32m   1441\u001b[0m         \u001b[0;32mif\u001b[0m \u001b[0mlen\u001b[0m\u001b[0;34m(\u001b[0m\u001b[0mfooter\u001b[0m\u001b[0;34m)\u001b[0m \u001b[0;34m>\u001b[0m \u001b[0;36m0\u001b[0m\u001b[0;34m:\u001b[0m\u001b[0;34m\u001b[0m\u001b[0m\n",
      "\u001b[0;32m/data/jls/python3.5/site-packages/numpy/lib/npyio.py\u001b[0m in \u001b[0;36mwrite_bytes\u001b[0;34m(self, v)\u001b[0m\n\u001b[1;32m   1340\u001b[0m \u001b[0;34m\u001b[0m\u001b[0m\n\u001b[1;32m   1341\u001b[0m         \u001b[0;32mdef\u001b[0m \u001b[0mwrite_bytes\u001b[0m\u001b[0;34m(\u001b[0m\u001b[0mself\u001b[0m\u001b[0;34m,\u001b[0m \u001b[0mv\u001b[0m\u001b[0;34m)\u001b[0m\u001b[0;34m:\u001b[0m\u001b[0;34m\u001b[0m\u001b[0m\n\u001b[0;32m-> 1342\u001b[0;31m             \u001b[0;32mif\u001b[0m \u001b[0misinstance\u001b[0m\u001b[0;34m(\u001b[0m\u001b[0mv\u001b[0m\u001b[0;34m,\u001b[0m \u001b[0mbytes\u001b[0m\u001b[0;34m)\u001b[0m\u001b[0;34m:\u001b[0m\u001b[0;34m\u001b[0m\u001b[0m\n\u001b[0m\u001b[1;32m   1343\u001b[0m                 \u001b[0mself\u001b[0m\u001b[0;34m.\u001b[0m\u001b[0mfh\u001b[0m\u001b[0;34m.\u001b[0m\u001b[0mwrite\u001b[0m\u001b[0;34m(\u001b[0m\u001b[0mv\u001b[0m\u001b[0;34m)\u001b[0m\u001b[0;34m\u001b[0m\u001b[0m\n\u001b[1;32m   1344\u001b[0m             \u001b[0;32melse\u001b[0m\u001b[0;34m:\u001b[0m\u001b[0;34m\u001b[0m\u001b[0m\n",
      "\u001b[0;31mKeyboardInterrupt\u001b[0m: "
     ]
    }
   ],
   "source": [
    "sqlutil.upload('virac2_gedr3_xmatch', \n",
    "               [xmatch['sourceid'],], \n",
    "               ['virac2_id',],\n",
    "              **wsdb_upload_kwargs)"
   ]
  },
  {
   "cell_type": "code",
   "execution_count": 375,
   "metadata": {},
   "outputs": [
    {
     "data": {
      "text/plain": [
       "\u001b[0;31mSignature:\u001b[0m\n",
       "\u001b[0msqlutil\u001b[0m\u001b[0;34m.\u001b[0m\u001b[0mupload\u001b[0m\u001b[0;34m(\u001b[0m\u001b[0;34m\u001b[0m\n",
       "\u001b[0;34m\u001b[0m    \u001b[0mtableName\u001b[0m\u001b[0;34m,\u001b[0m\u001b[0;34m\u001b[0m\n",
       "\u001b[0;34m\u001b[0m    \u001b[0marrays\u001b[0m\u001b[0;34m,\u001b[0m\u001b[0;34m\u001b[0m\n",
       "\u001b[0;34m\u001b[0m    \u001b[0mnames\u001b[0m\u001b[0;34m,\u001b[0m\u001b[0;34m\u001b[0m\n",
       "\u001b[0;34m\u001b[0m    \u001b[0mdb\u001b[0m\u001b[0;34m=\u001b[0m\u001b[0;34m'wsdb'\u001b[0m\u001b[0;34m,\u001b[0m\u001b[0;34m\u001b[0m\n",
       "\u001b[0;34m\u001b[0m    \u001b[0mdriver\u001b[0m\u001b[0;34m=\u001b[0m\u001b[0;34m'psycopg2'\u001b[0m\u001b[0;34m,\u001b[0m\u001b[0;34m\u001b[0m\n",
       "\u001b[0;34m\u001b[0m    \u001b[0muser\u001b[0m\u001b[0;34m=\u001b[0m\u001b[0;32mNone\u001b[0m\u001b[0;34m,\u001b[0m\u001b[0;34m\u001b[0m\n",
       "\u001b[0;34m\u001b[0m    \u001b[0mpassword\u001b[0m\u001b[0;34m=\u001b[0m\u001b[0;32mNone\u001b[0m\u001b[0;34m,\u001b[0m\u001b[0;34m\u001b[0m\n",
       "\u001b[0;34m\u001b[0m    \u001b[0mhost\u001b[0m\u001b[0;34m=\u001b[0m\u001b[0;34m'locahost'\u001b[0m\u001b[0;34m,\u001b[0m\u001b[0;34m\u001b[0m\n",
       "\u001b[0;34m\u001b[0m    \u001b[0mconn\u001b[0m\u001b[0;34m=\u001b[0m\u001b[0;32mNone\u001b[0m\u001b[0;34m,\u001b[0m\u001b[0;34m\u001b[0m\n",
       "\u001b[0;34m\u001b[0m    \u001b[0mpreamb\u001b[0m\u001b[0;34m=\u001b[0m\u001b[0;32mNone\u001b[0m\u001b[0;34m,\u001b[0m\u001b[0;34m\u001b[0m\n",
       "\u001b[0;34m\u001b[0m    \u001b[0mtimeout\u001b[0m\u001b[0;34m=\u001b[0m\u001b[0;32mNone\u001b[0m\u001b[0;34m,\u001b[0m\u001b[0;34m\u001b[0m\n",
       "\u001b[0;34m\u001b[0m    \u001b[0mnoCommit\u001b[0m\u001b[0;34m=\u001b[0m\u001b[0;32mFalse\u001b[0m\u001b[0;34m,\u001b[0m\u001b[0;34m\u001b[0m\n",
       "\u001b[0;34m\u001b[0m    \u001b[0mtemp\u001b[0m\u001b[0;34m=\u001b[0m\u001b[0;32mFalse\u001b[0m\u001b[0;34m,\u001b[0m\u001b[0;34m\u001b[0m\n",
       "\u001b[0;34m\u001b[0m    \u001b[0manalyze\u001b[0m\u001b[0;34m=\u001b[0m\u001b[0;32mFalse\u001b[0m\u001b[0;34m,\u001b[0m\u001b[0;34m\u001b[0m\n",
       "\u001b[0;34m\u001b[0m    \u001b[0mcreateTable\u001b[0m\u001b[0;34m=\u001b[0m\u001b[0;32mTrue\u001b[0m\u001b[0;34m,\u001b[0m\u001b[0;34m\u001b[0m\n",
       "\u001b[0;34m\u001b[0m\u001b[0;34m)\u001b[0m\u001b[0;34m\u001b[0m\u001b[0m\n",
       "\u001b[0;31mDocstring:\u001b[0m\n",
       "Upload the data stored in the tuple of arrays in the DB\n",
       "\n",
       "Parameters\n",
       "----------\n",
       "tableName : string\n",
       "    The name of the table where the data will be uploaded\n",
       "arrays : tuple\n",
       "    Tuple of arrays thar will be columns of the new table\n",
       "names : tuple\n",
       "    Tuple of strings with column names\n",
       "\n",
       "Examples\n",
       "--------\n",
       ">>> x = np.arange(10)\n",
       ">>> y = x**.5\n",
       ">>> sqlutil.upload('mytable',(x,y),('xcol','ycol'))\n",
       "\u001b[0;31mFile:\u001b[0m      /data/jls/python3.5/site-packages/sqlutilpy/sqlutil.py\n",
       "\u001b[0;31mType:\u001b[0m      function\n"
      ]
     },
     "metadata": {},
     "output_type": "display_data"
    }
   ],
   "source": [
    "sqlutil.upload?"
   ]
  },
  {
   "cell_type": "code",
   "execution_count": 357,
   "metadata": {},
   "outputs": [
    {
     "ename": "DataError",
     "evalue": "invalid input syntax for integer: \"\"\nCONTEXT:  COPY virac2_gedr3_xmatch, line 35996695, column gaia_edr3_id: \"\"\n",
     "output_type": "error",
     "traceback": [
      "\u001b[0;31m---------------------------------------------------------------------------\u001b[0m",
      "\u001b[0;31mDataError\u001b[0m                                 Traceback (most recent call last)",
      "\u001b[0;32m<ipython-input-357-35f1afdcd38a>\u001b[0m in \u001b[0;36m<module>\u001b[0;34m\u001b[0m\n\u001b[1;32m      2\u001b[0m                \u001b[0;34m[\u001b[0m\u001b[0mxmatch\u001b[0m\u001b[0;34m[\u001b[0m\u001b[0;34m'sourceid'\u001b[0m\u001b[0;34m]\u001b[0m\u001b[0;34m,\u001b[0m \u001b[0mxmatch\u001b[0m\u001b[0;34m[\u001b[0m\u001b[0;34m'gaia_id'\u001b[0m\u001b[0;34m]\u001b[0m\u001b[0;34m,\u001b[0m \u001b[0mxmatch\u001b[0m\u001b[0;34m[\u001b[0m\u001b[0;34m'sep_arcsec'\u001b[0m\u001b[0;34m]\u001b[0m\u001b[0;34m,\u001b[0m\u001b[0;34m]\u001b[0m\u001b[0;34m,\u001b[0m\u001b[0;34m\u001b[0m\u001b[0m\n\u001b[1;32m      3\u001b[0m                \u001b[0;34m[\u001b[0m\u001b[0;34m'virac2_id'\u001b[0m\u001b[0;34m,\u001b[0m \u001b[0;34m'gaia_edr3_id'\u001b[0m\u001b[0;34m,\u001b[0m \u001b[0;34m'sep_arcsec'\u001b[0m\u001b[0;34m,\u001b[0m\u001b[0;34m]\u001b[0m\u001b[0;34m,\u001b[0m\u001b[0;34m\u001b[0m\u001b[0m\n\u001b[0;32m----> 4\u001b[0;31m               **wsdb_upload_kwargs)\n\u001b[0m",
      "\u001b[0;32m/data/jls/python3.5/site-packages/sqlutilpy/sqlutil.py\u001b[0m in \u001b[0;36mupload\u001b[0;34m(tableName, arrays, names, db, driver, user, password, host, conn, preamb, timeout, noCommit, temp, analyze, createTable)\u001b[0m\n\u001b[1;32m    544\u001b[0m             \u001b[0mthread\u001b[0m \u001b[0;34m=\u001b[0m \u001b[0mpsycopg2\u001b[0m\u001b[0;34m.\u001b[0m\u001b[0mextensions\u001b[0m\u001b[0;34m.\u001b[0m\u001b[0mget_wait_callback\u001b[0m\u001b[0;34m(\u001b[0m\u001b[0;34m)\u001b[0m\u001b[0;34m\u001b[0m\u001b[0m\n\u001b[1;32m    545\u001b[0m             \u001b[0mpsycopg2\u001b[0m\u001b[0;34m.\u001b[0m\u001b[0mextensions\u001b[0m\u001b[0;34m.\u001b[0m\u001b[0mset_wait_callback\u001b[0m\u001b[0;34m(\u001b[0m\u001b[0;32mNone\u001b[0m\u001b[0;34m)\u001b[0m\u001b[0;34m\u001b[0m\u001b[0m\n\u001b[0;32m--> 546\u001b[0;31m             \u001b[0mcur\u001b[0m\u001b[0;34m.\u001b[0m\u001b[0mcopy_from\u001b[0m\u001b[0;34m(\u001b[0m\u001b[0mf\u001b[0m\u001b[0;34m,\u001b[0m \u001b[0mtableName\u001b[0m\u001b[0;34m,\u001b[0m \u001b[0msep\u001b[0m\u001b[0;34m=\u001b[0m\u001b[0msep\u001b[0m\u001b[0;34m,\u001b[0m \u001b[0mcolumns\u001b[0m\u001b[0;34m=\u001b[0m\u001b[0mnames\u001b[0m\u001b[0;34m)\u001b[0m\u001b[0;34m\u001b[0m\u001b[0m\n\u001b[0m\u001b[1;32m    547\u001b[0m         \u001b[0;32mfinally\u001b[0m\u001b[0;34m:\u001b[0m\u001b[0;34m\u001b[0m\u001b[0m\n\u001b[1;32m    548\u001b[0m             \u001b[0mpsycopg2\u001b[0m\u001b[0;34m.\u001b[0m\u001b[0mextensions\u001b[0m\u001b[0;34m.\u001b[0m\u001b[0mset_wait_callback\u001b[0m\u001b[0;34m(\u001b[0m\u001b[0mthread\u001b[0m\u001b[0;34m)\u001b[0m\u001b[0;34m\u001b[0m\u001b[0m\n",
      "\u001b[0;31mDataError\u001b[0m: invalid input syntax for integer: \"\"\nCONTEXT:  COPY virac2_gedr3_xmatch, line 35996695, column gaia_edr3_id: \"\"\n"
     ]
    }
   ],
   "source": [
    "sqlutil.upload('virac2_gedr3_xmatch', \n",
    "               [xmatch['sourceid'], xmatch['gaia_id'], xmatch['sep_arcsec'],], \n",
    "               ['virac2_id', 'gaia_edr3_id', 'sep_arcsec',],\n",
    "              **wsdb_upload_kwargs)"
   ]
  },
  {
   "cell_type": "code",
   "execution_count": 359,
   "metadata": {},
   "outputs": [
    {
     "name": "stdout",
     "output_type": "stream",
     "text": [
      "1\n"
     ]
    }
   ],
   "source": [
    "print(1)"
   ]
  },
  {
   "cell_type": "code",
   "execution_count": 392,
   "metadata": {},
   "outputs": [
    {
     "data": {
      "text/plain": [
       "OrderedDict([('phot_g_mean_flux_over_error',\n",
       "              array([126.971 , 354.165 , 306.324 , ...,  87.7699, 158.851 , 100.563 ],\n",
       "                    dtype=float32)),\n",
       "             ('phot_g_mean_mag',\n",
       "              array([19.7907, 19.3637, 18.5722, ..., 20.7559, 17.5269, 20.7867],\n",
       "                    dtype=float32)),\n",
       "             ('phot_g_n_obs',\n",
       "              array([259, 336, 402, ..., 130, 351, 160], dtype=int16)),\n",
       "             ('sourceid',\n",
       "              array([9200590039471, 9204687006244, 9208783004941, ..., 9184211008859,\n",
       "                     9184210006660, 9180114018484])),\n",
       "             ('ra',\n",
       "              array([265.62672039, 265.67780416, 265.72966088, ..., 266.06019275,\n",
       "                     266.02751561, 265.94296746])),\n",
       "             ('dec',\n",
       "              array([-27.54627669, -27.57428423, -27.6026749 , ..., -27.3723405 ,\n",
       "                     -27.35452399, -27.30832679])),\n",
       "             ('l',\n",
       "              array([0.82499778, 0.82501065, 0.82502961, ..., 1.1749965 , 1.17498823,\n",
       "                     1.17499856])),\n",
       "             ('b',\n",
       "              array([1.31200373, 1.25875587, 1.20473372, ..., 1.07588277, 1.10993623,\n",
       "                     1.19811583])),\n",
       "             ('ks_n_detections',\n",
       "              array([185, 179, 135, ..., 182, 184, 143], dtype=int16)),\n",
       "             ('ks_stdev',\n",
       "              array([0.026734, 0.040143, 0.045873, ..., 0.025851, 0.035982, 0.172071],\n",
       "                    dtype=float32)),\n",
       "             ('ks_mad',\n",
       "              array([0.020239, 0.011157, 0.015465, ..., 0.01243 , 0.015832, 0.109913],\n",
       "                    dtype=float32)),\n",
       "             ('ks_kurtosis',\n",
       "              array([-0.672279, 68.5927  ,  6.48526 , ..., 25.3928  ,  6.73059 ,\n",
       "                      1.18491 ], dtype=float32)),\n",
       "             ('ks_skew',\n",
       "              array([-0.011611, -7.24147 ,  0.469685, ...,  2.89465 , -2.00213 ,\n",
       "                      0.779381], dtype=float32)),\n",
       "             ('ks_eta',\n",
       "              array([1.32545, 1.30964, 1.64217, ..., 2.09954, 1.63131, 1.29368],\n",
       "                    dtype=float32)),\n",
       "             ('ks_stetson_i',\n",
       "              array([0.444353, 0.052012, 0.703541, ..., 0.035924, 0.226414, 1.37402 ],\n",
       "                    dtype=float32)),\n",
       "             ('ks_stetson_j',\n",
       "              array([40.5855 , 13.2385 , 34.7502 , ..., -5.51221, 15.843  , 72.4268 ],\n",
       "                    dtype=float32)),\n",
       "             ('ks_stetson_k',\n",
       "              array([0.803809, 0.751193, 0.725405, ..., 0.736596, 0.799615, 0.788272],\n",
       "                    dtype=float32)),\n",
       "             ('ks_p100',\n",
       "              array([13.8172, 13.8624, 12.107 , ..., 13.8279, 13.8294, 15.9404],\n",
       "                    dtype=float32)),\n",
       "             ('ks_p0',\n",
       "              array([13.6924, 13.3799, 11.7072, ..., 13.5115, 13.5617, 14.9122],\n",
       "                    dtype=float32)),\n",
       "             ('ks_p99',\n",
       "              array([13.8113, 13.8604, 12.0095, ..., 13.6936, 13.7965, 15.7203],\n",
       "                    dtype=float32)),\n",
       "             ('ks_p1',\n",
       "              array([13.7059, 13.695 , 11.7463, ..., 13.5746, 13.5968, 14.9598],\n",
       "                    dtype=float32)),\n",
       "             ('ks_p95',\n",
       "              array([13.8008, 13.8194, 11.9451, ..., 13.6444, 13.7818, 15.5639],\n",
       "                    dtype=float32)),\n",
       "             ('ks_p5',\n",
       "              array([13.7122, 13.7669, 11.8082, ..., 13.5856, 13.6821, 15.0137],\n",
       "                    dtype=float32)),\n",
       "             ('ks_p84',\n",
       "              array([13.7906, 13.8099, 11.904 , ..., 13.6326, 13.7674, 15.4194],\n",
       "                    dtype=float32)),\n",
       "             ('ks_p16',\n",
       "              array([13.7325, 13.7778, 11.8546, ..., 13.5968, 13.7206, 15.1014],\n",
       "                    dtype=float32)),\n",
       "             ('ks_p75',\n",
       "              array([13.7802, 13.8059, 11.8935, ..., 13.6272, 13.7616, 15.3761],\n",
       "                    dtype=float32)),\n",
       "             ('ks_p25',\n",
       "              array([13.7393, 13.7836, 11.862 , ..., 13.6027, 13.7304, 15.1438],\n",
       "                    dtype=float32)),\n",
       "             ('ks_b_ivw_err_mag',\n",
       "              array([0.002255, 0.00195 , 0.001703, ..., 0.001688, 0.001947, 0.006417],\n",
       "                    dtype=float32)),\n",
       "             ('j_b_ivw_mean_mag',\n",
       "              array([15.3129, 15.2002, 13.6478, ..., 15.5105, 14.5682, 16.583 ],\n",
       "                    dtype=float32)),\n",
       "             ('h_b_ivw_mean_mag',\n",
       "              array([14.2018, 14.156 , 12.4546, ..., 14.2034, 14.003 , 15.7569],\n",
       "                    dtype=float32)),\n",
       "             ('ks_b_ivw_mean_mag',\n",
       "              array([13.7637, 13.7949, 11.877 , ..., 13.6129, 13.7466, 15.2291],\n",
       "                    dtype=float32)),\n",
       "             ('ks_n_b_phot',\n",
       "              array([185, 179, 135, ..., 182, 184, 142], dtype=int16))])"
      ]
     },
     "execution_count": 392,
     "metadata": {},
     "output_type": "execute_result"
    }
   ],
   "source": [
    "sqlutil.get('''\n",
    "                with g as (\n",
    "                    select phot_g_mean_flux_over_error, phot_g_mean_mag, phot_g_n_obs, source_id as gaia_id \n",
    "                            from gaia_edr3.gaia_source as t\n",
    "                            where t.l>0.825 and t.l<1.175 and t.b>1.050 and t.b<1.350\n",
    "                    )\n",
    "                select g.phot_g_mean_flux_over_error, g.phot_g_mean_mag, g.phot_g_n_obs, t.sourceid,t.ra,t.dec,t.l,t.b,t.ks_n_detections, s.ks_stdev,s.ks_mad,s.ks_kurtosis,s.ks_skew,s.ks_eta,s.ks_stetson_i,s.ks_stetson_j,s.ks_stetson_k,s.ks_p100,s.ks_p0,s.ks_p99,s.ks_p1,s.ks_p95,s.ks_p5,s.ks_p84,s.ks_p16,s.ks_p75,s.ks_p25, y.ks_b_ivw_err_mag,y.j_b_ivw_mean_mag,y.h_b_ivw_mean_mag,y.ks_b_ivw_mean_mag,y.ks_n_b_phot from g\n",
    "                inner join jason_sanders.virac2_gedr3_xmatch as x on g.gaia_id=x.gaia_id\n",
    "                inner join leigh_smith.virac2 as t on x.sourceid=t.sourceid\n",
    "                inner join leigh_smith.virac2_photstats as y on y.sourceid=t.sourceid\n",
    "                inner join leigh_smith.virac2_var_indices as s on s.sourceid=t.sourceid\n",
    "                where phot_g_mean_mag<30 and x.sep_arcsec<0.4 \n",
    "                and t.duplicate=0 and t.astfit_params=5 and t.ks_n_detections>20\n",
    "                and ks_ivw_mean_mag>11.5 and ks_ivw_mean_mag<17.0\n",
    "                ;\n",
    "''',**wsdb_kwargs)"
   ]
  },
  {
   "cell_type": "code",
   "execution_count": null,
   "metadata": {},
   "outputs": [],
   "source": [
    "print(\"\"\"\n",
    "            with g as (\n",
    "                    select phot_g_mean_flux_over_error, phot_g_mean_mag, phot_g_n_obs, source_id as gaia_id \n",
    "                            from gaia_edr3.gaia_source as t\n",
    "                            where t.l>0.825 and t.l<1.175 and t.b>1.050 and t.b<1.350\n",
    "                    )\n",
    "                select g.phot_g_mean_flux_over_error, g.phot_g_mean_mag, g.phot_g_n_obs, {0}, {1}, {6} from g\n",
    "                inner join jason_sanders.virac2_gedr3_xmatch as x on g.gaia_id=x.gaia_id\n",
    "                inner join leigh_smith.virac2 as t on x.sourceid=t.sourceid\n",
    "                inner join leigh_smith.virac2_photstats as y on y.sourceid=t.sourceid\n",
    "                inner join leigh_smith.virac2_var_indices as s on s.sourceid=t.sourceid\n",
    "                where phot_g_mean_mag<30 and x.sep_arcsec<0.4 \n",
    "                and t.duplicate=0 and t.astfit_params=5 and t.ks_n_detections>{2}\n",
    "                and ks_ivw_mean_mag>{3} and ks_ivw_mean_mag<{4}\n",
    "                ;\"\"\".format(\n",
    "            main_string,\n",
    "            var_string,\n",
    "            np.int64(config['n_detection_threshold']),\n",
    "            np.float64(config['lower_k']),\n",
    "            np.float64(config['upper_k']),\n",
    "            poly_string,\n",
    "            phot_string,\n",
    "            gaia_version,\n",
    "            max_cross_match_distance))"
   ]
  },
  {
   "cell_type": "code",
   "execution_count": 25,
   "metadata": {},
   "outputs": [],
   "source": [
    "dd4 = pd.DataFrame(sqlutil.get('''\n",
    "\n",
    "select x.*,g.phot_g_mean_flux_over_error, g.phot_g_mean_mag, g.phot_g_n_obs,\n",
    "                          t.ra,t.dec,t.l,t.b,t.ks_n_detections,\n",
    "                          s.ks_stdev,s.ks_mad,s.ks_kurtosis,s.ks_skew,s.ks_eta,s.ks_stetson_i,s.ks_stetson_j,\n",
    "                          s.ks_stetson_k,s.ks_p100,s.ks_p0,s.ks_p99,s.ks_p1,s.ks_p95,s.ks_p5,s.ks_p84,s.ks_p16,\n",
    "                          s.ks_p75,s.ks_p25, y.ks_b_ivw_err_mag,y.j_b_ivw_mean_mag,y.h_b_ivw_mean_mag,\n",
    "                          y.ks_b_ivw_mean_mag,y.ks_n_b_phot\n",
    "                from jason_sanders.virac2_gedr3_xmatch as x\n",
    "                inner join gaia_edr3.gaia_source as g on g.source_id=x.gaia_id\n",
    "                inner join leigh_smith.virac2 as t on t.sourceid=x.sourceid\n",
    "                inner join leigh_smith.virac2_photstats as y on y.sourceid=x.sourceid\n",
    "                inner join leigh_smith.virac2_var_indices as s on s.sourceid=x.sourceid\n",
    "                \n",
    "                where phot_g_mean_mag<30 and t.duplicate=0 and t.astfit_params=5 and t.ks_n_detections>20\n",
    "                and t.ks_ivw_mean_mag>11.5 and t.ks_ivw_mean_mag<17.0 limit 30\n",
    "''', **wsdb_kwargs))"
   ]
  },
  {
   "cell_type": "code",
   "execution_count": 26,
   "metadata": {},
   "outputs": [
    {
     "data": {
      "text/plain": [
       "34"
      ]
     },
     "execution_count": 26,
     "metadata": {},
     "output_type": "execute_result"
    }
   ],
   "source": [
    "len(dd4.columns)"
   ]
  },
  {
   "cell_type": "code",
   "execution_count": 27,
   "metadata": {},
   "outputs": [
    {
     "data": {
      "text/plain": [
       "Index(['sourceid', 'gaia_id', 'sep_arcsec', 'phot_g_mean_flux_over_error',\n",
       "       'phot_g_mean_mag', 'phot_g_n_obs', 'ra', 'dec', 'l', 'b',\n",
       "       'ks_n_detections', 'ks_stdev', 'ks_mad', 'ks_kurtosis', 'ks_skew',\n",
       "       'ks_eta', 'ks_stetson_i', 'ks_stetson_j', 'ks_stetson_k', 'ks_p100',\n",
       "       'ks_p0', 'ks_p99', 'ks_p1', 'ks_p95', 'ks_p5', 'ks_p84', 'ks_p16',\n",
       "       'ks_p75', 'ks_p25', 'ks_b_ivw_err_mag', 'j_b_ivw_mean_mag',\n",
       "       'h_b_ivw_mean_mag', 'ks_b_ivw_mean_mag', 'ks_n_b_phot'],\n",
       "      dtype='object')"
      ]
     },
     "execution_count": 27,
     "metadata": {},
     "output_type": "execute_result"
    }
   ],
   "source": [
    "dd4.columns"
   ]
  },
  {
   "cell_type": "code",
   "execution_count": 28,
   "metadata": {},
   "outputs": [
    {
     "data": {
      "text/plain": [
       "Index(['phot_g_mean_flux_over_error', 'phot_g_mean_mag', 'phot_g_n_obs',\n",
       "       'gaia_id', 'sep_arcsec', 'sourceid', 'ra', 'dec', 'l', 'b',\n",
       "       'ks_n_detections', 'ks_stdev', 'ks_mad', 'ks_kurtosis', 'ks_skew',\n",
       "       'ks_eta', 'ks_stetson_i', 'ks_stetson_j', 'ks_stetson_k', 'ks_p100',\n",
       "       'ks_p0', 'ks_p99', 'ks_p1', 'ks_p95', 'ks_p5', 'ks_p84', 'ks_p16',\n",
       "       'ks_p75', 'ks_p25', 'ks_b_ivw_err_mag', 'j_b_ivw_mean_mag',\n",
       "       'h_b_ivw_mean_mag', 'ks_b_ivw_mean_mag', 'ks_n_b_phot'],\n",
       "      dtype='object')"
      ]
     },
     "execution_count": 28,
     "metadata": {},
     "output_type": "execute_result"
    }
   ],
   "source": [
    "dd2.columns"
   ]
  },
  {
   "cell_type": "code",
   "execution_count": 22,
   "metadata": {},
   "outputs": [
    {
     "data": {
      "text/plain": [
       "34"
      ]
     },
     "execution_count": 22,
     "metadata": {},
     "output_type": "execute_result"
    }
   ],
   "source": [
    "len(dd2.columns)"
   ]
  },
  {
   "cell_type": "code",
   "execution_count": 36,
   "metadata": {},
   "outputs": [],
   "source": [
    "dd2=grab_virac_gaia_region_with_stats(330.,0.5,0.2*60,0.2*60,config)"
   ]
  },
  {
   "cell_type": "code",
   "execution_count": 37,
   "metadata": {},
   "outputs": [
    {
     "data": {
      "text/plain": [
       "5209"
      ]
     },
     "execution_count": 37,
     "metadata": {},
     "output_type": "execute_result"
    }
   ],
   "source": [
    "len(dd2)"
   ]
  },
  {
   "cell_type": "code",
   "execution_count": null,
   "metadata": {},
   "outputs": [],
   "source": [
    "with q as (\n",
    "            with g as (\n",
    "                with g as (\n",
    "                    select phot_g_mean_flux_over_error, phot_g_mean_mag, phot_g_n_obs, source_id as gaia_id \n",
    "                            from gaia_edr3.gaia_source as t\n",
    "                            where t.l>2.950 and t.l<3.050 and t.b>0.250 and t.b<0.350\n",
    "                    )\n",
    "                select g.phot_g_mean_flux_over_error, g.phot_g_mean_mag, g.phot_g_n_obs, x.sourceid, x.sep_arcsec from g\n",
    "                inner join jason_sanders.virac2_gedr3_xmatch as x on g.gaia_id=x.gaia_id\n",
    "                where phot_g_mean_mag<30 and x.sep_arcsec<0.4 \n",
    "                )\n",
    "                select g.phot_g_mean_flux_over_error, g.phot_g_mean_mag, g.phot_g_n_obs, g.sep_arcsec, t.sourceid,t.ra,t.dec,t.l,t.b,t.ks_n_detections from g\n",
    "                inner join leigh_smith.virac2 as t on g.sourceid=t.sourceid\n",
    "                and t.duplicate=0 and t.astfit_params=5 and t.ks_n_detections>20\n",
    "                and ks_ivw_mean_mag>11.5 and ks_ivw_mean_mag<17.0\n",
    "                )\n",
    "            select q.*, s.ks_stdev,s.ks_mad,s.ks_kurtosis,s.ks_skew,s.ks_eta,s.ks_stetson_i,s.ks_stetson_j,s.ks_stetson_k,s.ks_p100,s.ks_p0,s.ks_p99,s.ks_p1,s.ks_p95,s.ks_p5,s.ks_p84,s.ks_p16,s.ks_p75,s.ks_p25, y.ks_b_ivw_err_mag,y.j_b_ivw_mean_mag,y.h_b_ivw_mean_mag,y.ks_b_ivw_mean_mag,y.ks_n_b_phot from q\n",
    "                inner join leigh_smith.virac2_photstats as y on q.sourceid=y.sourceid\n",
    "                inner join leigh_smith.virac2_var_indices as s on q.sourceid=s.sourceid\n",
    "                ;"
   ]
  },
  {
   "cell_type": "code",
   "execution_count": null,
   "metadata": {},
   "outputs": [],
   "source": [
    "with q as (\n",
    "with t as (\n",
    "            with g as (\n",
    "                with g as (\n",
    "                    select phot_g_mean_flux_over_error, phot_g_mean_mag, phot_g_n_obs, source_id as gaia_id \n",
    "                            from gaia_edr3.gaia_source as t\n",
    "                            where t.l>3.950 and t.l<4.050 and t.b>2.450 and t.b<2.550\n",
    "                    )\n",
    "                select g.phot_g_mean_flux_over_error, g.phot_g_mean_mag, g.phot_g_n_obs, x.sourceid, x.sep_arcsec from g\n",
    "                inner join jason_sanders.virac2_gedr3_xmatch as x on g.gaia_id=x.gaia_id\n",
    "                where phot_g_mean_mag<30\n",
    "                )\n",
    "                select g.phot_g_mean_flux_over_error, g.phot_g_mean_mag, g.phot_g_n_obs, g.sep_arcsec, \n",
    "                        t.sourceid,t.ra,t.dec,t.l,t.b,t.ks_n_detections,t.duplicate,t.astfit_params,t.ks_ivw_mean_mag,\n",
    "                        s.ks_stdev,s.ks_mad,s.ks_kurtosis,s.ks_skew,s.ks_eta,s.ks_stetson_i,s.ks_stetson_j,s.ks_stetson_k,\n",
    "                        s.ks_p100,s.ks_p0,s.ks_p99,s.ks_p1,s.ks_p95,s.ks_p5,s.ks_p84,s.ks_p16,s.ks_p75,s.ks_p25, \n",
    "                        y.ks_b_ivw_err_mag,y.j_b_ivw_mean_mag,y.h_b_ivw_mean_mag,y.ks_b_ivw_mean_mag,y.ks_n_b_phot from g\n",
    "                inner join leigh_smith.virac2 as t on g.sourceid=t.sourceid\n",
    "                inner join leigh_smith.virac2_photstats as y on g.sourceid=y.sourceid\n",
    "                inner join leigh_smith.virac2_var_indices as s on g.sourceid=s.sourceid\n",
    "            )\n",
    "                select t.phot_g_mean_flux_over_error, t.phot_g_mean_mag, t.phot_g_n_obs, t.sep_arcsec, \n",
    "                        t.sourceid,t.ra,t.dec,t.l,t.b,t.ks_n_detections from t\n",
    "                where t.duplicate=0 and t.astfit_params=5 and t.ks_n_detections>20\n",
    "                and ks_ivw_mean_mag>11.5 and ks_ivw_mean_mag<17.0\n",
    "                )\n",
    "            select q.*, \n",
    "                ;"
   ]
  },
  {
   "cell_type": "code",
   "execution_count": 3,
   "metadata": {},
   "outputs": [
    {
     "data": {
      "text/plain": [
       "778"
      ]
     },
     "execution_count": 3,
     "metadata": {},
     "output_type": "execute_result"
    }
   ],
   "source": [
    "len(dd2)"
   ]
  },
  {
   "cell_type": "code",
   "execution_count": 253,
   "metadata": {},
   "outputs": [
    {
     "data": {
      "text/plain": [
       "[]"
      ]
     },
     "execution_count": 253,
     "metadata": {},
     "output_type": "execute_result"
    },
    {
     "data": {
      "image/png": "[encoded data removed]",
      "text/plain": [
       "<Figure size 432x288 with 1 Axes>"
      ]
     },
     "metadata": {
      "needs_background": "light"
     },
     "output_type": "display_data"
    }
   ],
   "source": [
    "plt.plot(dd2['phot_g_mean_mag'],np.sqrt(dd2['phot_g_n_obs'])/dd2['phot_g_mean_flux_over_error'],'.',ms=1)\n",
    "plt.semilogy()"
   ]
  },
  {
   "cell_type": "code",
   "execution_count": 241,
   "metadata": {},
   "outputs": [
    {
     "data": {
      "text/plain": [
       "0"
      ]
     },
     "execution_count": 241,
     "metadata": {},
     "output_type": "execute_result"
    }
   ],
   "source": [
    "np.count_nonzero(dd2['gaia_id'].duplicated())"
   ]
  },
  {
   "cell_type": "code",
   "execution_count": null,
   "metadata": {},
   "outputs": [],
   "source": []
  }
 ],
 "metadata": {
  "kernelspec": {
   "display_name": "Python 3",
   "language": "python",
   "name": "python3"
  },
  "language_info": {
   "codemirror_mode": {
    "name": "ipython",
    "version": 3
   },
   "file_extension": ".py",
   "mimetype": "text/x-python",
   "name": "python",
   "nbconvert_exporter": "python",
   "pygments_lexer": "ipython3",
   "version": "3.5.2"
  }
 },
 "nbformat": 4,
 "nbformat_minor": 4
}
