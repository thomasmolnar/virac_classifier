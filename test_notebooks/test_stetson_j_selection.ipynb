{
 "cells": [
  {
   "cell_type": "code",
   "execution_count": 1,
   "metadata": {},
   "outputs": [
    {
     "name": "stderr",
     "output_type": "stream",
     "text": [
      "/home/jls/.local/lib/python3.5/site-packages/xgboost/__init__.py:29: FutureWarning: Python 3.5 support is deprecated; XGBoost will require Python 3.6+ in the near future. Consider upgrading to Python 3.6+.\n",
      "  FutureWarning)\n"
     ]
    }
   ],
   "source": [
    "import sys\n",
    "sys.path.append('../')\n",
    "from initial_classif.classifier.classifier import binary_classification\n",
    "import pickle"
   ]
  },
  {
   "cell_type": "code",
   "execution_count": 5,
   "metadata": {},
   "outputs": [],
   "source": [
    "with open('/local/scratch_2/jls/virac_classifier/binary/edr3/binary_0_test.pkl', 'rb') as f:\n",
    "    binary = pickle.load(f)\n",
    "with open('/local/scratch_2/jls/virac_classifier/binary/edr3_SJ/binary_0_test.pkl', 'rb') as f:\n",
    "    binary_SJ = pickle.load(f)"
   ]
  },
  {
   "cell_type": "code",
   "execution_count": 13,
   "metadata": {},
   "outputs": [
    {
     "data": {
      "text/plain": [
       "array([[0.84026422, 0.16053108],\n",
       "       [0.12951008, 0.8698451 ]])"
      ]
     },
     "execution_count": 13,
     "metadata": {},
     "output_type": "execute_result"
    }
   ],
   "source": [
    "binary.cm/np.sum(binary.cm,axis=1)"
   ]
  },
  {
   "cell_type": "code",
   "execution_count": 14,
   "metadata": {},
   "outputs": [
    {
     "data": {
      "text/plain": [
       "array([[0.83947776, 0.16055436],\n",
       "       [0.13190936, 0.86806424]])"
      ]
     },
     "execution_count": 14,
     "metadata": {},
     "output_type": "execute_result"
    }
   ],
   "source": [
    "binary_SJ.cm/np.sum(binary_SJ.cm,axis=1)"
   ]
  },
  {
   "cell_type": "code",
   "execution_count": 15,
   "metadata": {},
   "outputs": [
    {
     "data": {
      "text/plain": [
       "{'ks_eta': 0.025265547941152083,\n",
       " 'ks_kurtosis': 0.07024863808604231,\n",
       " 'ks_mad': 0.05911362080799167,\n",
       " 'ks_mad_over_error': 0.178687480797543,\n",
       " 'ks_p100_p0': 0.007789561444614355,\n",
       " 'ks_p100_p0_over_error': 0.010814662180404992,\n",
       " 'ks_p75_p25': 0.0647531159501998,\n",
       " 'ks_p75_p25_over_error': 0.1543316998876986,\n",
       " 'ks_p84_p16': 0.05185341689254497,\n",
       " 'ks_p84_p16_over_error': 0.07808445170138227,\n",
       " 'ks_p95_p5': 0.020109824241293782,\n",
       " 'ks_p95_p5_over_error': 0.01631444365367672,\n",
       " 'ks_p99_p1': 0.009601424881741432,\n",
       " 'ks_p99_p1_over_error': 0.012422953103254426,\n",
       " 'ks_skew': 0.03374333977307327,\n",
       " 'ks_stdev': 0.018430409235358537,\n",
       " 'ks_stdev_over_error': 0.009846042340680598,\n",
       " 'ks_stetson_i': 0.1301010370270934,\n",
       " 'ks_stetson_j': 0.02309815560522124,\n",
       " 'ks_stetson_k': 0.025390174449032542}"
      ]
     },
     "execution_count": 15,
     "metadata": {},
     "output_type": "execute_result"
    }
   ],
   "source": [
    "binary.feature_importance"
   ]
  },
  {
   "cell_type": "code",
   "execution_count": 16,
   "metadata": {},
   "outputs": [
    {
     "data": {
      "text/plain": [
       "{'ks_eta': 0.019984920975220602,\n",
       " 'ks_kurtosis': 0.07926625081857495,\n",
       " 'ks_mad': 0.05534954198344636,\n",
       " 'ks_mad_over_error': 0.18843605836732807,\n",
       " 'ks_p100_p0': 0.0073816824305468435,\n",
       " 'ks_p100_p0_over_error': 0.010147935695176425,\n",
       " 'ks_p75_p25': 0.07099371401065639,\n",
       " 'ks_p75_p25_over_error': 0.11356410686957319,\n",
       " 'ks_p84_p16': 0.044902216855429625,\n",
       " 'ks_p84_p16_over_error': 0.08704624798792669,\n",
       " 'ks_p95_p5': 0.022585017558230995,\n",
       " 'ks_p95_p5_over_error': 0.019431807353879792,\n",
       " 'ks_p99_p1': 0.01128439394417699,\n",
       " 'ks_p99_p1_over_error': 0.012720000482449815,\n",
       " 'ks_skew': 0.03603502851702129,\n",
       " 'ks_stdev': 0.020201471892780713,\n",
       " 'ks_stdev_over_error': 0.012322880376281377,\n",
       " 'ks_stetson_i': 0.12670373736648946,\n",
       " 'ks_stetson_j': 0.03691210974648069,\n",
       " 'ks_stetson_k': 0.024730876768329656}"
      ]
     },
     "execution_count": 16,
     "metadata": {},
     "output_type": "execute_result"
    }
   ],
   "source": [
    "binary_SJ.feature_importance"
   ]
  },
  {
   "cell_type": "code",
   "execution_count": 26,
   "metadata": {},
   "outputs": [
    {
     "name": "stdout",
     "output_type": "stream",
     "text": [
      "0.040118067197748915\n"
     ]
    }
   ],
   "source": [
    "with open('/local/scratch_2/jls/virac_classifier/binary/edr3/binary_150.pkl', 'rb') as f:\n",
    "    binary0 = pickle.load(f)\n",
    "print(binary0.feature_importance['ks_stetson_j'])"
   ]
  },
  {
   "cell_type": "code",
   "execution_count": 4,
   "metadata": {},
   "outputs": [
    {
     "name": "stderr",
     "output_type": "stream",
     "text": [
      "/home/jls/.local/lib/python3.5/site-packages/xgboost/__init__.py:29: FutureWarning: Python 3.5 support is deprecated; XGBoost will require Python 3.6+ in the near future. Consider upgrading to Python 3.6+.\n",
      "  FutureWarning)\n"
     ]
    }
   ],
   "source": [
    "import pickle\n",
    "import sys\n",
    "sys.path.append('../')\n",
    "with open('/local/scratch_2/jls/virac_classifier/binary/edr3_SJ/binary_training_set_0_test.pkl', 'rb') as f:\n",
    "    bt = pickle.load(f)"
   ]
  },
  {
   "cell_type": "code",
   "execution_count": 17,
   "metadata": {},
   "outputs": [
    {
     "name": "stderr",
     "output_type": "stream",
     "text": [
      "/data/jls/python3.5/site-packages/ipykernel_launcher.py:1: RuntimeWarning: divide by zero encountered in double_scalars\n",
      "  \"\"\"Entry point for launching an IPython kernel.\n"
     ]
    },
    {
     "data": {
      "text/plain": [
       "inf"
      ]
     },
     "execution_count": 17,
     "metadata": {},
     "output_type": "execute_result"
    }
   ],
   "source": [
    "1./np.nansum(np.ones(0))"
   ]
  },
  {
   "cell_type": "code",
   "execution_count": 1,
   "metadata": {},
   "outputs": [],
   "source": [
    "vv = pd.read_csv('/local/scratch_2/jls/virac_classifier/variable/edr3_SJ/variable_training_set_edr3_sourceid.csv')"
   ]
  },
  {
   "cell_type": "code",
   "execution_count": 4,
   "metadata": {},
   "outputs": [
    {
     "name": "stderr",
     "output_type": "stream",
     "text": [
      "/home/jls/.local/lib/python3.5/site-packages/xgboost/__init__.py:29: FutureWarning: Python 3.5 support is deprecated; XGBoost will require Python 3.6+ in the near future. Consider upgrading to Python 3.6+.\n",
      "  FutureWarning)\n"
     ]
    },
    {
     "name": "stdin",
     "output_type": "stream",
     "text": [
      " ·············\n"
     ]
    }
   ],
   "source": [
    "import sys\n",
    "sys.path.append('../')\n",
    "from initial_classif.classifier.classifier import binary_classification\n",
    "import pickle\n",
    "import glob\n",
    "from config import configuration\n",
    "config = configuration()\n",
    "config.request_password()"
   ]
  },
  {
   "cell_type": "code",
   "execution_count": 5,
   "metadata": {},
   "outputs": [],
   "source": [
    "import sqlutilpy\n",
    "ss = pd.DataFrame(sqlutilpy.get('''select distinct(sourceid) from leigh_smith.virac2_ts_tmolnar_train_zyjhk''',\n",
    "                               **config.wsdb_kwargs))"
   ]
  },
  {
   "cell_type": "code",
   "execution_count": 14,
   "metadata": {},
   "outputs": [],
   "source": [
    "ss['flg']=1"
   ]
  },
  {
   "cell_type": "code",
   "execution_count": 15,
   "metadata": {},
   "outputs": [],
   "source": [
    "oo = pd.merge(vv, ss, how='outer', on='sourceid')"
   ]
  },
  {
   "cell_type": "code",
   "execution_count": 22,
   "metadata": {},
   "outputs": [
    {
     "data": {
      "text/plain": [
       "676"
      ]
     },
     "execution_count": 22,
     "metadata": {},
     "output_type": "execute_result"
    }
   ],
   "source": [
    "np.count_nonzero(oo['flg']!=oo['flg'])"
   ]
  },
  {
   "cell_type": "code",
   "execution_count": 24,
   "metadata": {},
   "outputs": [
    {
     "name": "stderr",
     "output_type": "stream",
     "text": [
      "/data/jls/python3.5/site-packages/ipykernel_launcher.py:1: FutureWarning: The signature of `Series.to_csv` was aligned to that of `DataFrame.to_csv`, and argument 'header' will change its default value from False to True: please pass an explicit value to suppress this warning.\n",
      "  \"\"\"Entry point for launching an IPython kernel.\n"
     ]
    }
   ],
   "source": [
    "oo['sourceid'][oo['flg']!=oo['flg']].to_csv('training_set_extra_sources.csv', index=False)"
   ]
  },
  {
   "cell_type": "code",
   "execution_count": 7,
   "metadata": {},
   "outputs": [
    {
     "data": {
      "text/plain": [
       "440191"
      ]
     },
     "execution_count": 7,
     "metadata": {},
     "output_type": "execute_result"
    }
   ],
   "source": [
    "len(vv)"
   ]
  },
  {
   "cell_type": "code",
   "execution_count": 41,
   "metadata": {},
   "outputs": [],
   "source": [
    "with open('/local/scratch_2/jls/virac_classifier/variable/edr3_SJ/variable_features_total.pkl', 'rb') as f:\n",
    "    vv_full = pickle.load(f)"
   ]
  },
  {
   "cell_type": "code",
   "execution_count": 25,
   "metadata": {},
   "outputs": [],
   "source": [
    "vv_full"
   ]
  },
  {
   "cell_type": "code",
   "execution_count": 43,
   "metadata": {},
   "outputs": [
    {
     "data": {
      "image/png": "[encoded data removed]",
      "text/plain": [
       "<Figure size 432x288 with 1 Axes>"
      ]
     },
     "metadata": {
      "needs_background": "light"
     },
     "output_type": "display_data"
    }
   ],
   "source": [
    "plt.hist(vv_full['phase_lag_mean'],bins=50);"
   ]
  },
  {
   "cell_type": "code",
   "execution_count": 31,
   "metadata": {},
   "outputs": [
    {
     "data": {
      "text/plain": [
       "Index(['H_contemp_abs', 'H_contemp_std', 'H_model', 'H_nobs', 'H_scale',\n",
       "       'J_contemp_abs', 'J_contemp_std', 'J_model', 'J_nobs', 'J_scale',\n",
       "       ...\n",
       "       'a1_a2', 'a1_a2_double', 'phi3_phi1', 'phi3_phi1_double', 'a1_a3',\n",
       "       'a1_a3_double', 'phi3_phi2', 'phi3_phi2_double', 'a2_a3',\n",
       "       'a2_a3_double'],\n",
       "      dtype='object', length=143)"
      ]
     },
     "execution_count": 31,
     "metadata": {},
     "output_type": "execute_result"
    }
   ],
   "source": [
    "vv_full.columns"
   ]
  },
  {
   "cell_type": "code",
   "execution_count": 56,
   "metadata": {},
   "outputs": [
    {
     "name": "stdout",
     "output_type": "stream",
     "text": [
      "-rw-r--r-- 1 jls jls 700623251 Feb  4 05:12 /local/scratch_2/jls/virac_classifier/variable/edr3/variable_features_total.pkl\n"
     ]
    }
   ],
   "source": [
    "!ls -lt /local/scratch_2/jls/virac_classifier/variable/edr3/variable_features_total.pkl"
   ]
  },
  {
   "cell_type": "code",
   "execution_count": 274,
   "metadata": {},
   "outputs": [],
   "source": [
    "with open('/local/scratch_2/jls/virac_classifier/variable/edr3_SJ/variable_features_total.pkl', 'rb') as f:\n",
    "    vv_full = pickle.load(f)\n",
    "with open('/local/scratch_2/jls/virac_classifier/variable/edr3/variable_features_total.pkl', 'rb') as f:\n",
    "    vv_full_old = pickle.load(f)\n",
    "with open('/local/scratch_2/jls/virac_classifier/variable/edr3_SJ_noalias/variable_features_total.pkl', 'rb') as f:\n",
    "    vv_full_na = pickle.load(f)"
   ]
  },
  {
   "cell_type": "code",
   "execution_count": 54,
   "metadata": {},
   "outputs": [],
   "source": [
    "vv_match = pd.merge(vv_full, vv_full_old, on='sourceid')"
   ]
  },
  {
   "cell_type": "code",
   "execution_count": 63,
   "metadata": {},
   "outputs": [
    {
     "data": {
      "text/plain": [
       "[]"
      ]
     },
     "execution_count": 63,
     "metadata": {},
     "output_type": "execute_result"
    },
    {
     "data": {
      "image/png": "[encoded data removed]",
      "text/plain": [
       "<Figure size 432x288 with 1 Axes>"
      ]
     },
     "metadata": {
      "needs_background": "light"
     },
     "output_type": "display_data"
    }
   ],
   "source": [
    "plt.hist((vv_match['lsq_period_x']-vv_match['cat_period_x'])[vv_match['var_class_x']=='RRab'],bins=50);\n",
    "plt.semilogy()\n",
    "\n",
    "plt.hist((vv_match['lsq_period_y']-vv_match['cat_period_y'])[vv_match['var_class_x']=='RRab'],bins=50);\n",
    "plt.semilogy()"
   ]
  },
  {
   "cell_type": "code",
   "execution_count": 290,
   "metadata": {},
   "outputs": [],
   "source": [
    "def period_fix(var_in,tol=1.):\n",
    "\n",
    "    period_out = var_in['lsq_period'].values.copy()\n",
    "\n",
    "    period_out[((var_in['var_class']=='EA/EB')|(var_in['var_class']=='Ell'))&\n",
    "                (var_in['amp_0']>tol*var_in['amp_1'])]*=2.\n",
    "    \n",
    "    ss=np.argmax([var_in['amp_0'].values,\n",
    "                  var_in['amp_1'].values,\n",
    "                  var_in['amp_2'].values,\n",
    "                  var_in['amp_3'].values],axis=0)\n",
    "    fltr = ~((var_in['var_class']=='EA/EB')|(var_in['var_class']=='Ell'))\n",
    "    period_out[fltr]/=(1.+ss)[fltr]\n",
    "    \n",
    "    period_out[var_in['var_class']=='EW']*=2\n",
    "    \n",
    "    return period_out\n",
    "    "
   ]
  },
  {
   "cell_type": "code",
   "execution_count": 328,
   "metadata": {},
   "outputs": [
    {
     "name": "stdout",
     "output_type": "stream",
     "text": [
      "2976\n",
      "2.7031691388189985\n"
     ]
    },
    {
     "data": {
      "image/png": "[encoded data removed]",
      "text/plain": [
       "<Figure size 432x288 with 1 Axes>"
      ]
     },
     "metadata": {
      "needs_background": "light"
     },
     "output_type": "display_data"
    }
   ],
   "source": [
    "fltr = (vv_full_old['var_class']=='EA/EB')&(vv_full_old['log10_fap_ls']<-10)\n",
    "plt.plot(vv_full_old['cat_period'][fltr],(period_fix(vv_full_old)-vv_full_old['cat_period'])[fltr],'.',ms=2)\n",
    "# plt.plot(vv_match['cat_period_y'][fltr],(vv_match['lsq_period_y']-vv_match['cat_period_y'])[fltr],'.',ms=5)\n",
    "# plt.xlim(0.,1.)\n",
    "plt.semilogy()\n",
    "print(np.count_nonzero(np.abs(period_fix(vv_full_old)/vv_full_old['cat_period']-1)[fltr]>0.2))\n",
    "print(100.*np.count_nonzero(np.abs(period_fix(vv_full_old)/vv_full_old['cat_period']-1)[fltr]>0.2)/np.count_nonzero(fltr))"
   ]
  },
  {
   "cell_type": "code",
   "execution_count": 335,
   "metadata": {},
   "outputs": [
    {
     "data": {
      "text/plain": [
       "[]"
      ]
     },
     "execution_count": 335,
     "metadata": {},
     "output_type": "execute_result"
    },
    {
     "data": {
      "image/png": "[encoded data removed]",
      "text/plain": [
       "<Figure size 432x288 with 1 Axes>"
      ]
     },
     "metadata": {
      "needs_background": "light"
     },
     "output_type": "display_data"
    }
   ],
   "source": [
    "fltr = (vv_full['var_class']=='EA/EB')&(vv_full['log10_fap_ls']<-10)\n",
    "plt.plot(vv_full['cat_period'][fltr],(period_fix(vv_full))[fltr],'.',ms=2)\n",
    "plt.semilogy();plt.semilogx()"
   ]
  },
  {
   "cell_type": "code",
   "execution_count": 354,
   "metadata": {},
   "outputs": [],
   "source": [
    "mm = pd.read_csv('../mira_sample.csv')"
   ]
  },
  {
   "cell_type": "code",
   "execution_count": 366,
   "metadata": {},
   "outputs": [
    {
     "data": {
      "text/plain": [
       "35178"
      ]
     },
     "execution_count": 366,
     "metadata": {},
     "output_type": "execute_result"
    }
   ],
   "source": [
    "np.count_nonzero(np.isnan(vv_full['cat_period']))"
   ]
  },
  {
   "cell_type": "code",
   "execution_count": 364,
   "metadata": {},
   "outputs": [
    {
     "data": {
      "text/plain": [
       "31361    MIRA\n",
       "Name: var_class, dtype: object"
      ]
     },
     "execution_count": 364,
     "metadata": {},
     "output_type": "execute_result"
    }
   ],
   "source": [
    "vv_full_na[vv_full_na['sourceid']==mm['virac_id'][36]]['var_class']"
   ]
  },
  {
   "cell_type": "code",
   "execution_count": 353,
   "metadata": {},
   "outputs": [
    {
     "data": {
      "text/plain": [
       "60"
      ]
     },
     "execution_count": 353,
     "metadata": {},
     "output_type": "execute_result"
    }
   ],
   "source": [
    "np.count_nonzero(vv_full_na['var_class']=='MIRA')"
   ]
  },
  {
   "cell_type": "code",
   "execution_count": 340,
   "metadata": {},
   "outputs": [
    {
     "data": {
      "text/plain": [
       "91"
      ]
     },
     "execution_count": 340,
     "metadata": {},
     "output_type": "execute_result"
    }
   ],
   "source": [
    "np.count_nonzero(np.isnan(vv_full['cat_period'])&(vv_full['log10_fap_ls']<-10))"
   ]
  },
  {
   "cell_type": "code",
   "execution_count": 342,
   "metadata": {},
   "outputs": [
    {
     "data": {
      "text/plain": [
       "[]"
      ]
     },
     "execution_count": 342,
     "metadata": {},
     "output_type": "execute_result"
    },
    {
     "data": {
      "image/png": "[encoded data removed]",
      "text/plain": [
       "<Figure size 432x288 with 1 Axes>"
      ]
     },
     "metadata": {
      "needs_background": "light"
     },
     "output_type": "display_data"
    }
   ],
   "source": [
    "fltr = (vv_full_na['var_class']=='EA/EB')&(vv_full_na['log10_fap_ls']>-10)\n",
    "plt.plot(vv_full_na['cat_period'][fltr],(period_fix(vv_full_na))[fltr],'.',ms=2)\n",
    "plt.semilogy();plt.semilogx()"
   ]
  },
  {
   "cell_type": "code",
   "execution_count": 332,
   "metadata": {},
   "outputs": [
    {
     "data": {
      "text/plain": [
       "[]"
      ]
     },
     "execution_count": 332,
     "metadata": {},
     "output_type": "execute_result"
    },
    {
     "data": {
      "image/png": "[encoded data removed]",
      "text/plain": [
       "<Figure size 432x288 with 1 Axes>"
      ]
     },
     "metadata": {
      "needs_background": "light"
     },
     "output_type": "display_data"
    }
   ],
   "source": [
    "plt.plot(vv_full_na['cat_period'][fltr],(period_fix(vv_full_na))[fltr],'.',ms=2)\n",
    "plt.semilogy();plt.semilogx()"
   ]
  },
  {
   "cell_type": "code",
   "execution_count": 329,
   "metadata": {},
   "outputs": [
    {
     "name": "stdout",
     "output_type": "stream",
     "text": [
      "3045\n",
      "2.7639855855201647\n"
     ]
    },
    {
     "data": {
      "image/png": "[encoded data removed]",
      "text/plain": [
       "<Figure size 432x288 with 1 Axes>"
      ]
     },
     "metadata": {
      "needs_background": "light"
     },
     "output_type": "display_data"
    }
   ],
   "source": [
    "fltr = (vv_full_na['var_class']=='EA/EB')&(vv_full_na['log10_fap_ls']<-10)\n",
    "plt.plot(vv_full_na['cat_period'][fltr],(period_fix(vv_full_na)-vv_full_na['cat_period'])[fltr],'.',ms=2)\n",
    "# plt.plot(vv_match['cat_period_y'][fltr],(vv_match['lsq_period_y']-vv_match['cat_period_y'])[fltr],'.',ms=5)\n",
    "# plt.xlim(0.,1.5)\n",
    "plt.semilogy()\n",
    "print(np.count_nonzero(np.abs(period_fix(vv_full_na)/vv_full_na['cat_period']-1)[fltr]>0.2))\n",
    "print(100.*np.count_nonzero(np.abs(period_fix(vv_full_na)/vv_full_na['cat_period']-1)[fltr]>0.2)/np.count_nonzero(fltr))"
   ]
  },
  {
   "cell_type": "code",
   "execution_count": 95,
   "metadata": {},
   "outputs": [
    {
     "data": {
      "text/plain": [
       "[]"
      ]
     },
     "execution_count": 95,
     "metadata": {},
     "output_type": "execute_result"
    },
    {
     "data": {
      "image/png": "[encoded data removed]",
      "text/plain": [
       "<Figure size 432x288 with 1 Axes>"
      ]
     },
     "metadata": {
      "needs_background": "light"
     },
     "output_type": "display_data"
    }
   ],
   "source": [
    "fltr = (vv_match['var_class_x']=='RRab')\n",
    "plt.plot(vv_match['cat_period_x'][fltr],(vv_match['lsq_period_x']-vv_match['cat_period_x'])[fltr],'.',ms=2)\n",
    "# plt.plot(vv_match['cat_period_y'][fltr],(vv_match['lsq_period_y']-vv_match['cat_period_y'])[fltr],'.',ms=5)\n",
    "plt.xlim(0.5-0.005,0.5+0.005)\n",
    "plt.semilogy()"
   ]
  },
  {
   "cell_type": "code",
   "execution_count": 72,
   "metadata": {},
   "outputs": [
    {
     "name": "stdin",
     "output_type": "stream",
     "text": [
      " ·············\n"
     ]
    }
   ],
   "source": [
    "import sys\n",
    "sys.path.append('../')\n",
    "from config import configuration\n",
    "config = configuration()\n",
    "config.request_password()\n",
    "\n",
    "def get_lightcurve(sourceid):\n",
    "\n",
    "    lcs = pd.DataFrame(sqlutilpy.get('''\n",
    "                                select sourceid, \n",
    "                                unnest(mjdobs) as mjdobs,\n",
    "                                unnest(mag) as mag,\n",
    "                                unnest(emag) as emag,\n",
    "                                unnest(filterid) as filterid,\n",
    "                                unnest(chi) as chi,\n",
    "                                unnest(ast_res_chisq) as ast_res_chisq,\n",
    "                                unnest(ambiguous_match) as ambiguous_match  \n",
    "                                from leigh_smith.virac2_ts_tmolnar_train_zyjhk where sourceid={0}'''.format(sourceid),\n",
    "                     **config.wsdb_kwargs))\n",
    "    \n",
    "    if len(lcs)==0:\n",
    "\n",
    "        lcs = pd.DataFrame(sqlutilpy.get('''\n",
    "                                    select sourceid, \n",
    "                                    unnest(mjdobs) as mjdobs,\n",
    "                                    unnest(mag) as mag,\n",
    "                                    unnest(emag) as emag,\n",
    "                                    unnest(filterid) as filterid,\n",
    "                                    unnest(chi) as chi,\n",
    "                                    unnest(ast_res_chisq) as ast_res_chisq,\n",
    "                                    unnest(ambiguous_match) as ambiguous_match  \n",
    "                                    from leigh_smith.virac2_ts_tmolnar_variables where sourceid={0}'''.format(sourceid),\n",
    "                         **config.wsdb_kwargs))\n",
    "    \n",
    "    return lcs\n"
   ]
  },
  {
   "cell_type": "code",
   "execution_count": 73,
   "metadata": {},
   "outputs": [],
   "source": [
    "import sys\n",
    "sys.path.append('../')\n",
    "from fine_classif.feat_extract.compute_feats import correct_to_HJD, fourier_poly_chi2_fit_full, \\\n",
    "    retrieve_fourier_poly, LombScargle\n",
    "from fine_classif.feat_extract.compute_feats import sigclipper, \\\n",
    "optimum_regularization, check_significant_second_minimum, find_phase_of_minimum"
   ]
  },
  {
   "cell_type": "code",
   "execution_count": 220,
   "metadata": {},
   "outputs": [],
   "source": [
    "def period_fix(var_in,tol=1.):\n",
    "\n",
    "    period_out = var_in['lsq_period'].values.copy()\n",
    "\n",
    "    period_out[((var_in['var_class']=='EA/EB')|(var_in['var_class']=='Ell'))&\n",
    "                (var_in['amp_0']>tol*var_in['amp_1'])]*=2.\n",
    "    \n",
    "    ss=np.argmax([var_in['amp_0'].values,\n",
    "                  var_in['amp_1'].values,\n",
    "                  var_in['amp_2'].values,\n",
    "                  var_in['amp_3'].values],axis=0)\n",
    "    fltr = ~((var_in['var_class']=='EA/EB')|(var_in['var_class']=='Ell'))\n",
    "    period_out[fltr]/=(1.+ss)[fltr]\n",
    "    \n",
    "    period_out[var_in['var_class']=='EW']*=2\n",
    "    \n",
    "    return period_out\n",
    "    \n",
    "def plot_lightcurve(vv_full,ii,ax=None,reg=True):\n",
    "    sid,per,clss=vv_full['sourceid'].values[ii],period_fix(vv_full)[ii],vv_full['var_class'].values[ii]\n",
    "    cper = vv_full['cat_period'].values[ii]\n",
    "    prb = 0.#vv_full['prob'].values[ii]\n",
    "    print(vv_full['var_class'].values[ii])\n",
    "    print('LSQ period', vv_full['lsq_period'].values[ii])\n",
    "    print(vv_full['significant_second_minimum'].values[ii])\n",
    "    print('corrected LSQ period', period_fix(vv_full)[ii])\n",
    "    print(sid)\n",
    "    print('Cat period', cper)\n",
    "    results_d, lc, _=plot_lc_sid(sid, vv_full['ra'].values[ii], vv_full['dec'].values[ii],per,\n",
    "                vv_full['lsq_nterms'].values[ii], cper, ax=ax, reg=reg)\n",
    "    plt.title('%s, classif. prob.=%0.4f'%(clss,prb),loc='left',fontsize=18)\n",
    "    return results_d, lc, _\n",
    "\n",
    "        \n",
    "def is_window_function_peak(times, mags, errors, freqs, power, NW=5):\n",
    "    model = LombScargle(times,\n",
    "                    np.ones_like(times),\n",
    "                    errors,\n",
    "                    center_data=False, fit_mean=False\n",
    "                    )\n",
    "    power_window = model.power(freqs)\n",
    "    return power_window>power\n",
    "\n",
    "def plot_lc_sid(sid,ra,dec,per,nterms,cper,ax=None,reg=True):\n",
    "    lc=get_lightcurve(sid)\n",
    "    clean = (lc['filterid']==5)&(lc['ambiguous_match']==0)&(lc['ast_res_chisq']<13.)&(lc['chi']<5.)\n",
    "    lc = sigclipper(lc[clean])\n",
    "\n",
    "    correct_to_HJD(lc,\n",
    "                 ra,\n",
    "                 dec)\n",
    "\n",
    "    tt = lc['HJD'].values[np.argmin(np.abs(lc['mag'].values-np.nanpercentile(lc['mag'],98.)))]\n",
    "\n",
    "    model = LombScargle(lc['HJD'].values-tt, lc['mag'].values, \n",
    "                        lc['emag'].values, normalization='standard')\n",
    "    freq, power = model.autopower(maximum_frequency=10.)\n",
    "\n",
    "    iwf = is_window_function_peak(lc['HJD'].values-tt, lc['mag'].values, \n",
    "                                    lc['emag'].values, freq, power)\n",
    "    \n",
    "    \n",
    "    if ax is None:\n",
    "        f,ax=plt.subplots(2,1,figsize=[5.,5.5],gridspec_kw={'height_ratios':[1.,0.3]})\n",
    "    plt.sca(ax[0])\n",
    "    plt.errorbar((((lc['HJD'].values-tt)%(cper))/cper),\n",
    "                 lc['mag'].values,\n",
    "                 yerr=lc['emag'].values,fmt='o',color='gray',mew=0.5,mec='k')\n",
    "#     plt.ylim(np.nanmean(lc['mag'].values)-0.3,np.nanmean(lc['mag'].values)+0.3)\n",
    "    plt.gca().invert_yaxis()\n",
    "#     plt.xlim(-0.1,2.1)\n",
    "    # plt.ylim(-0.5,0.5)\n",
    "    plt.xlabel('Phase')\n",
    "    plt.ylabel(r'$K_s$ [mag]')\n",
    "    return freq, power, iwf\n",
    "#     nterms=combo_dset['lsq_nterms'].values[fltr][ii]\n",
    "    opt_reg=0\n",
    "    if reg:\n",
    "        opt_reg=optimum_regularization(lc['mag'].values, lc['emag'].values)\n",
    "    print(opt_reg)\n",
    "    results_d = fourier_poly_chi2_fit_full(\n",
    "                                             times=lc['HJD'].values-tt,\n",
    "                                             mag=lc['mag'].values,\n",
    "                                             err=lc['emag'].values,\n",
    "                                             freq_dict={'freq_grid':np.array([1./per])},\n",
    "                                             nterms=np.int64(nterms),\n",
    "                                             npoly=3,\n",
    "                                             regularization=opt_reg,\n",
    "                                             time_zeropoint_poly=0.,\n",
    "                                             regularize_by_trace = True,\n",
    "                                             check_multiples=False, \n",
    "                                             use_power_of_2=False,\n",
    "                                             return_period_error=False)\n",
    "    print(find_phase_of_minimum(results_d))\n",
    "    print(check_significant_second_minimum(results_d, \n",
    "                                          find_phase_of_minimum(results_d)))\n",
    "    \n",
    "    xx=np.linspace(-0.1*per,2.1*per,1000)\n",
    "    FF = retrieve_fourier_poly(xx,\n",
    "                               results_d)\n",
    "    plt.plot(xx/per, FF,color='#FFA500',lw=3)\n",
    "\n",
    "    plt.sca(ax[1])\n",
    "    plt.plot(1./freq,power,color='#FFA500',lw=0.6)\n",
    "    plt.xlim(np.max([per*0.2,0.1]),per*5.)\n",
    "    plt.semilogx()\n",
    "\n",
    "    plt.gca().xaxis.set_major_locator(LogLocator(subs=(0.5,1.,2.)))\n",
    "    plt.gca().xaxis.set_major_formatter(ScalarFormatter())\n",
    "\n",
    "    plt.axvline(per,color='gray',ls='dashed',alpha=0.5,lw=3,zorder=-10)\n",
    "    plt.axvline(per/2.,color='gray',ls='dashed',alpha=0.2,lw=3,zorder=-10)\n",
    "\n",
    "    plt.annotate('Period=%0.4f days'%per,xy=(0.98,0.95),ha='right',va='top',xycoords='axes fraction',\n",
    "                fontsize=15)\n",
    "    \n",
    "    plt.xlim(0.3,0.7)\n",
    "    \n",
    "    plt.xlabel('Period [days]')\n",
    "    plt.ylabel('LS Power')\n",
    "    plt.ylim(0.,)\n",
    "    plt.subplots_adjust(hspace=0.32)\n",
    "    \n",
    "    plt.figure()\n",
    "    plt.errorbar((((lc['HJD'].values-tt))),\n",
    "                 lc['mag'].values,\n",
    "                 yerr=lc['emag'].values,fmt='o',color='gray',mew=0.5,mec='k')\n",
    "    plt.gca().invert_yaxis()\n",
    "    plt.xlabel('Phase')\n",
    "    plt.ylabel(r'$K_s$ [mag]')\n",
    "    xx = np.linspace(*np.nanpercentile(lc['HJD'].values-tt,[0.,100.]),1000)\n",
    "    FF = retrieve_fourier_poly(xx,\n",
    "                               results_d)\n",
    "    plt.plot(xx, FF,color='#FFA500',lw=3)\n",
    "    \n",
    "    plt.figure()\n",
    "    plt.errorbar((((lc['HJD'].values-tt) % (2.*cper))),\n",
    "                 lc['mag'].values,\n",
    "                 yerr=lc['emag'].values,fmt='o',color='gray',mew=0.5,mec='k')\n",
    "    plt.gca().invert_yaxis()\n",
    "#     plt.xlim(-0.1,2.1)\n",
    "    # plt.ylim(-0.5,0.5)\n",
    "    plt.xlabel('Phase')\n",
    "    plt.ylabel(r'$K_s$ [mag]')\n",
    "    opt_reg=0\n",
    "    if reg:\n",
    "        opt_reg=optimum_regularization(lc['mag'].values, lc['emag'].values)\n",
    "    print(opt_reg)\n",
    "    results_d = fourier_poly_chi2_fit_full(\n",
    "                                             times=lc['HJD'].values-tt,\n",
    "                                             mag=lc['mag'].values,\n",
    "                                             err=lc['emag'].values,\n",
    "                                             freq_dict={'freq_grid':np.array([1./cper])},\n",
    "                                             nterms=np.int64(nterms),\n",
    "                                             npoly=3,\n",
    "                                             regularization=opt_reg,\n",
    "                                             time_zeropoint_poly=0.,\n",
    "                                             regularize_by_trace = True,\n",
    "                                             check_multiples=False, \n",
    "                                             use_power_of_2=False,\n",
    "                                             return_period_error=False)\n",
    "    \n",
    "    xx=np.linspace(-0.1*cper,2.1*cper,1000)\n",
    "#     xx = np.linspace(*np.nanpercentile(lc['HJD'].values-tt,[0.,100.]),1000)\n",
    "    FF = retrieve_fourier_poly(xx,\n",
    "                               results_d)\n",
    "    plt.plot(xx, FF,color='#FFA500',lw=3)\n",
    "    return results_d, lc\n",
    "    # plt.plot((lc['mjdobs'][clean]%(cper)/cper),lc['mag'][clean]-np.nanmedian(lc['mag'][clean]),'.')"
   ]
  },
  {
   "cell_type": "code",
   "execution_count": 185,
   "metadata": {},
   "outputs": [
    {
     "data": {
      "text/plain": [
       "array([[ 79438],\n",
       "       [291893],\n",
       "       [352467],\n",
       "       [355898]])"
      ]
     },
     "execution_count": 185,
     "metadata": {},
     "output_type": "execute_result"
    }
   ],
   "source": [
    "np.argwhere((np.abs((vv_full['cat_period']-0.5))<1e-5)&(vv_full['var_class']=='EA/EB'))"
   ]
  },
  {
   "cell_type": "code",
   "execution_count": 233,
   "metadata": {},
   "outputs": [
    {
     "data": {
      "text/plain": [
       "array([[ 80360],\n",
       "       [216442],\n",
       "       [321141]])"
      ]
     },
     "execution_count": 233,
     "metadata": {},
     "output_type": "execute_result"
    }
   ],
   "source": [
    "np.argwhere((np.abs((vv_full_old['lsq_period']-1.))<1e-4)&(vv_full_old['var_class']=='EA/EB')&(vv_full_old['log10_fap_ls']<-10))"
   ]
  },
  {
   "cell_type": "code",
   "execution_count": 235,
   "metadata": {},
   "outputs": [
    {
     "name": "stdout",
     "output_type": "stream",
     "text": [
      "EA/EB\n",
      "LSQ period 1.0000814550639894\n",
      "False\n",
      "corrected LSQ period 2.0001629101279788\n",
      "9335818002061\n",
      "Cat period 0.6667161\n"
     ]
    },
    {
     "data": {
      "text/plain": [
       "(0.0, 5.0)"
      ]
     },
     "execution_count": 235,
     "metadata": {},
     "output_type": "execute_result"
    },
    {
     "data": {
      "image/png": "[encoded data removed]",
      "text/plain": [
       "<Figure size 360x396 with 2 Axes>"
      ]
     },
     "metadata": {
      "needs_background": "light"
     },
     "output_type": "display_data"
    },
    {
     "data": {
      "image/png": "[encoded data removed]",
      "text/plain": [
       "<Figure size 432x288 with 1 Axes>"
      ]
     },
     "metadata": {
      "needs_background": "light"
     },
     "output_type": "display_data"
    }
   ],
   "source": [
    "import sqlutilpy\n",
    "from matplotlib.ticker import LogLocator, ScalarFormatter\n",
    "fq,pq,iwf=plot_lightcurve(vv_full_old,216442);\n",
    "plt.figure()\n",
    "plt.plot(1./fq[~iwf],pq[~iwf],'.')\n",
    "plt.plot(1./fq,pq)\n",
    "plt.xlim(0.98,1.02)\n",
    "plt.xlim(0.,5.)\n",
    "# plt.xlim(0.99,1.01)\n",
    "# plt.xlim(0.499,0.501)\n",
    "# plt.axvline(1./0.9999)\n",
    "# plt.axvspan(1./0.9999+0.0007,1./0.9999-0.0007,alpha=0.2)\n",
    "# plt.axvline(1./0.9972)\n",
    "# plt.axvspan(1./0.9972+0.0007,1./0.9972-0.0007,alpha=0.2)\n",
    "# plt.axvline(.5/0.9999)\n",
    "# plt.axvspan(.5/0.9999+0.0007,.5/0.9999-0.0007,alpha=0.2)\n",
    "# plt.axvline(.5/0.9972)\n",
    "# plt.axvspan(.5/0.9972+0.0007,.5/0.9972-0.0007,alpha=0.2)"
   ]
  },
  {
   "cell_type": "code",
   "execution_count": 209,
   "metadata": {},
   "outputs": [
    {
     "data": {
      "text/plain": [
       "0.0"
      ]
     },
     "execution_count": 209,
     "metadata": {},
     "output_type": "execute_result"
    }
   ],
   "source": [
    "np.max(vv_full['log10_fap_ls'])"
   ]
  },
  {
   "cell_type": "code",
   "execution_count": 210,
   "metadata": {},
   "outputs": [
    {
     "data": {
      "text/plain": [
       "[]"
      ]
     },
     "execution_count": 210,
     "metadata": {},
     "output_type": "execute_result"
    },
    {
     "data": {
      "image/png": "[encoded data removed]",
      "text/plain": [
       "<Figure size 432x288 with 1 Axes>"
      ]
     },
     "metadata": {
      "needs_background": "light"
     },
     "output_type": "display_data"
    }
   ],
   "source": [
    "plt.hist(np.log10(vv_full['lsq_period'])[(vv_full['var_class']=='RRab')&(vv_full['log10_fap_ls']<-10)],range=[-1,1],bins=350);\n",
    "plt.semilogy()"
   ]
  },
  {
   "cell_type": "code",
   "execution_count": 224,
   "metadata": {},
   "outputs": [
    {
     "data": {
      "text/plain": [
       "[]"
      ]
     },
     "execution_count": 224,
     "metadata": {},
     "output_type": "execute_result"
    },
    {
     "data": {
      "image/png": "[encoded data removed]",
      "text/plain": [
       "<Figure size 432x288 with 1 Axes>"
      ]
     },
     "metadata": {
      "needs_background": "light"
     },
     "output_type": "display_data"
    }
   ],
   "source": [
    "plt.hist(np.log10(vv_full_old['lsq_period'])[(vv_full_old['var_class']=='RRab')&(vv_full_old['log10_fap_ls']<-5)],\n",
    "         range=[-0.02,0.02],bins=350);\n",
    "plt.semilogy()"
   ]
  },
  {
   "cell_type": "code",
   "execution_count": 248,
   "metadata": {},
   "outputs": [],
   "source": [
    "with open('/local/scratch_2/jls/virac_classifier/variable/edr3/variable_features_total_test.pkl', 'rb') as f:\n",
    "    vv_full_test_old = pickle.load(f)"
   ]
  },
  {
   "cell_type": "code",
   "execution_count": 268,
   "metadata": {},
   "outputs": [],
   "source": [
    "with open('/local/scratch_2/jls/virac_classifier/variable/edr3_SJ/variable_features_total_test.pkl', 'rb') as f:\n",
    "    vv_full_test = pickle.load(f)"
   ]
  },
  {
   "cell_type": "code",
   "execution_count": 367,
   "metadata": {},
   "outputs": [],
   "source": [
    "with open('/local/scratch_2/jls/virac_classifier/variable/edr3_SJ_noalias/variable_features_total_test.pkl', 'rb') as f:\n",
    "    vv_full_test_na = pickle.load(f)"
   ]
  },
  {
   "cell_type": "code",
   "execution_count": 379,
   "metadata": {},
   "outputs": [
    {
     "data": {
      "text/plain": [
       "18"
      ]
     },
     "execution_count": 379,
     "metadata": {},
     "output_type": "execute_result"
    }
   ],
   "source": [
    "np.count_nonzero(np.abs(period_fix(vv_full_test_na)[(vv_full_test_na['log10_fap_ls']<-10)]/vv_full_test_na['cat_period'].values[(vv_full_test_na['log10_fap_ls']<-10)]-1)>0.001)"
   ]
  },
  {
   "cell_type": "code",
   "execution_count": 372,
   "metadata": {},
   "outputs": [],
   "source": [
    "with open('/local/scratch_2/jls/virac_classifier/variable/edr3_SJ_noalias/variable_features_total_test.pkl', 'rb') as f:\n",
    "    vv_full_test_na_2 = pickle.load(f)"
   ]
  },
  {
   "cell_type": "code",
   "execution_count": 380,
   "metadata": {},
   "outputs": [
    {
     "data": {
      "text/plain": [
       "19"
      ]
     },
     "execution_count": 380,
     "metadata": {},
     "output_type": "execute_result"
    }
   ],
   "source": [
    "np.count_nonzero(np.abs(period_fix(vv_full_test_na_2)[(vv_full_test_na_2['log10_fap_ls']<-10)]/vv_full_test_na_2['cat_period'].values[(vv_full_test_na_2['log10_fap_ls']<-10)]-1)>0.001)"
   ]
  },
  {
   "cell_type": "code",
   "execution_count": 251,
   "metadata": {},
   "outputs": [
    {
     "data": {
      "text/plain": [
       "[]"
      ]
     },
     "execution_count": 251,
     "metadata": {},
     "output_type": "execute_result"
    },
    {
     "data": {
      "image/png": "[encoded data removed]",
      "text/plain": [
       "<Figure size 432x288 with 1 Axes>"
      ]
     },
     "metadata": {
      "needs_background": "light"
     },
     "output_type": "display_data"
    }
   ],
   "source": [
    "# plt.hist(vv_full_test['lsq_period'][\n",
    "#     (vv_full_test['log10_fap_ls']<-10)],range=[0,3],bins=150);\n",
    "plt.hist(vv_full_test_old['lsq_period'][\n",
    "    (vv_full_test_old['log10_fap_ls']<-10)],range=[0,3],bins=150);\n",
    "plt.semilogy()"
   ]
  },
  {
   "cell_type": "code",
   "execution_count": 273,
   "metadata": {},
   "outputs": [
    {
     "data": {
      "text/plain": [
       "[]"
      ]
     },
     "execution_count": 273,
     "metadata": {},
     "output_type": "execute_result"
    },
    {
     "data": {
      "image/png": "[encoded data removed]",
      "text/plain": [
       "<Figure size 432x288 with 1 Axes>"
      ]
     },
     "metadata": {
      "needs_background": "light"
     },
     "output_type": "display_data"
    }
   ],
   "source": [
    "plt.plot(period_fix(vv_full_test_old)[(vv_full_test_old['log10_fap_ls']<-10)],\n",
    "         vv_full_test_old['cat_period'].values[(vv_full_test_old['log10_fap_ls']<-10)],'.',ms=1)\n",
    "plt.semilogy()\n",
    "plt.semilogx()"
   ]
  },
  {
   "cell_type": "code",
   "execution_count": 369,
   "metadata": {},
   "outputs": [
    {
     "data": {
      "text/plain": [
       "[]"
      ]
     },
     "execution_count": 369,
     "metadata": {},
     "output_type": "execute_result"
    },
    {
     "data": {
      "image/png": "[encoded data removed]",
      "text/plain": [
       "<Figure size 432x288 with 1 Axes>"
      ]
     },
     "metadata": {
      "needs_background": "light"
     },
     "output_type": "display_data"
    }
   ],
   "source": [
    "plt.plot(period_fix(vv_full_test_na)[(vv_full_test_na['log10_fap_ls']<-10)],\n",
    "         vv_full_test_na['cat_period'].values[(vv_full_test_na['log10_fap_ls']<-10)],'.',ms=3)\n",
    "plt.semilogy()\n",
    "plt.semilogx()"
   ]
  },
  {
   "cell_type": "code",
   "execution_count": 272,
   "metadata": {},
   "outputs": [
    {
     "data": {
      "text/plain": [
       "[]"
      ]
     },
     "execution_count": 272,
     "metadata": {},
     "output_type": "execute_result"
    },
    {
     "data": {
      "image/png": "[encoded data removed]",
      "text/plain": [
       "<Figure size 432x288 with 1 Axes>"
      ]
     },
     "metadata": {
      "needs_background": "light"
     },
     "output_type": "display_data"
    }
   ],
   "source": [
    "plt.plot(period_fix(vv_full_test)[(vv_full_test['log10_fap_ls']<-10)],\n",
    "         vv_full_test['cat_period'].values[(vv_full_test['log10_fap_ls']<-10)],'.',ms=1)\n",
    "plt.semilogy()\n",
    "plt.semilogx()"
   ]
  },
  {
   "cell_type": "code",
   "execution_count": 256,
   "metadata": {},
   "outputs": [
    {
     "data": {
      "text/plain": [
       "[]"
      ]
     },
     "execution_count": 256,
     "metadata": {},
     "output_type": "execute_result"
    },
    {
     "data": {
      "image/png": "[encoded data removed]",
      "text/plain": [
       "<Figure size 432x288 with 1 Axes>"
      ]
     },
     "metadata": {
      "needs_background": "light"
     },
     "output_type": "display_data"
    }
   ],
   "source": [
    "plt.plot(period_fix(vv_full_test)[(vv_full_test['log10_fap_ls']<-5)],\n",
    "         vv_full_test['cat_period'].values[(vv_full_test['log10_fap_ls']<-5)],'.')\n",
    "plt.semilogy()\n",
    "plt.semilogx()"
   ]
  },
  {
   "cell_type": "code",
   "execution_count": 259,
   "metadata": {},
   "outputs": [
    {
     "data": {
      "text/plain": [
       "8188900007280"
      ]
     },
     "execution_count": 259,
     "metadata": {},
     "output_type": "execute_result"
    }
   ],
   "source": [
    "vv_full_test['sourceid'].values[0]"
   ]
  },
  {
   "cell_type": "code",
   "execution_count": 265,
   "metadata": {},
   "outputs": [],
   "source": [
    "lcc=get_lightcurve(8188900007280)"
   ]
  },
  {
   "cell_type": "code",
   "execution_count": 266,
   "metadata": {},
   "outputs": [
    {
     "data": {
      "text/plain": [
       "167"
      ]
     },
     "execution_count": 266,
     "metadata": {},
     "output_type": "execute_result"
    }
   ],
   "source": [
    "np.count_nonzero((lcc['filterid']==5))"
   ]
  },
  {
   "cell_type": "code",
   "execution_count": 267,
   "metadata": {},
   "outputs": [
    {
     "data": {
      "text/plain": [
       "167"
      ]
     },
     "execution_count": 267,
     "metadata": {},
     "output_type": "execute_result"
    }
   ],
   "source": [
    "vv_full_test['ks_n_detections'].values[0]"
   ]
  },
  {
   "cell_type": "code",
   "execution_count": null,
   "metadata": {},
   "outputs": [],
   "source": []
  }
 ],
 "metadata": {
  "kernelspec": {
   "display_name": "Python 3",
   "language": "python",
   "name": "python3"
  },
  "language_info": {
   "codemirror_mode": {
    "name": "ipython",
    "version": 3
   },
   "file_extension": ".py",
   "mimetype": "text/x-python",
   "name": "python",
   "nbconvert_exporter": "python",
   "pygments_lexer": "ipython3",
   "version": "3.5.2"
  }
 },
 "nbformat": 4,
 "nbformat_minor": 4
}
