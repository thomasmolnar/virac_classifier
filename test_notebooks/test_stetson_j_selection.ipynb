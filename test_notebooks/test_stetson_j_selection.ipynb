{
 "cells": [
  {
   "cell_type": "code",
   "execution_count": 1,
   "metadata": {},
   "outputs": [
    {
     "name": "stderr",
     "output_type": "stream",
     "text": [
      "/home/jls/.local/lib/python3.5/site-packages/xgboost/__init__.py:29: FutureWarning: Python 3.5 support is deprecated; XGBoost will require Python 3.6+ in the near future. Consider upgrading to Python 3.6+.\n",
      "  FutureWarning)\n"
     ]
    }
   ],
   "source": [
    "import sys\n",
    "sys.path.append('../')\n",
    "from initial_classif.classifier.classifier import binary_classification\n",
    "import pickle"
   ]
  },
  {
   "cell_type": "code",
   "execution_count": 5,
   "metadata": {},
   "outputs": [],
   "source": [
    "with open('/local/scratch_2/jls/virac_classifier/binary/edr3/binary_0_test.pkl', 'rb') as f:\n",
    "    binary = pickle.load(f)\n",
    "with open('/local/scratch_2/jls/virac_classifier/binary/edr3_SJ/binary_0_test.pkl', 'rb') as f:\n",
    "    binary_SJ = pickle.load(f)"
   ]
  },
  {
   "cell_type": "code",
   "execution_count": 13,
   "metadata": {},
   "outputs": [
    {
     "data": {
      "text/plain": [
       "array([[0.84026422, 0.16053108],\n",
       "       [0.12951008, 0.8698451 ]])"
      ]
     },
     "execution_count": 13,
     "metadata": {},
     "output_type": "execute_result"
    }
   ],
   "source": [
    "binary.cm/np.sum(binary.cm,axis=1)"
   ]
  },
  {
   "cell_type": "code",
   "execution_count": 14,
   "metadata": {},
   "outputs": [
    {
     "data": {
      "text/plain": [
       "array([[0.83947776, 0.16055436],\n",
       "       [0.13190936, 0.86806424]])"
      ]
     },
     "execution_count": 14,
     "metadata": {},
     "output_type": "execute_result"
    }
   ],
   "source": [
    "binary_SJ.cm/np.sum(binary_SJ.cm,axis=1)"
   ]
  },
  {
   "cell_type": "code",
   "execution_count": 15,
   "metadata": {},
   "outputs": [
    {
     "data": {
      "text/plain": [
       "{'ks_eta': 0.025265547941152083,\n",
       " 'ks_kurtosis': 0.07024863808604231,\n",
       " 'ks_mad': 0.05911362080799167,\n",
       " 'ks_mad_over_error': 0.178687480797543,\n",
       " 'ks_p100_p0': 0.007789561444614355,\n",
       " 'ks_p100_p0_over_error': 0.010814662180404992,\n",
       " 'ks_p75_p25': 0.0647531159501998,\n",
       " 'ks_p75_p25_over_error': 0.1543316998876986,\n",
       " 'ks_p84_p16': 0.05185341689254497,\n",
       " 'ks_p84_p16_over_error': 0.07808445170138227,\n",
       " 'ks_p95_p5': 0.020109824241293782,\n",
       " 'ks_p95_p5_over_error': 0.01631444365367672,\n",
       " 'ks_p99_p1': 0.009601424881741432,\n",
       " 'ks_p99_p1_over_error': 0.012422953103254426,\n",
       " 'ks_skew': 0.03374333977307327,\n",
       " 'ks_stdev': 0.018430409235358537,\n",
       " 'ks_stdev_over_error': 0.009846042340680598,\n",
       " 'ks_stetson_i': 0.1301010370270934,\n",
       " 'ks_stetson_j': 0.02309815560522124,\n",
       " 'ks_stetson_k': 0.025390174449032542}"
      ]
     },
     "execution_count": 15,
     "metadata": {},
     "output_type": "execute_result"
    }
   ],
   "source": [
    "binary.feature_importance"
   ]
  },
  {
   "cell_type": "code",
   "execution_count": 16,
   "metadata": {},
   "outputs": [
    {
     "data": {
      "text/plain": [
       "{'ks_eta': 0.019984920975220602,\n",
       " 'ks_kurtosis': 0.07926625081857495,\n",
       " 'ks_mad': 0.05534954198344636,\n",
       " 'ks_mad_over_error': 0.18843605836732807,\n",
       " 'ks_p100_p0': 0.0073816824305468435,\n",
       " 'ks_p100_p0_over_error': 0.010147935695176425,\n",
       " 'ks_p75_p25': 0.07099371401065639,\n",
       " 'ks_p75_p25_over_error': 0.11356410686957319,\n",
       " 'ks_p84_p16': 0.044902216855429625,\n",
       " 'ks_p84_p16_over_error': 0.08704624798792669,\n",
       " 'ks_p95_p5': 0.022585017558230995,\n",
       " 'ks_p95_p5_over_error': 0.019431807353879792,\n",
       " 'ks_p99_p1': 0.01128439394417699,\n",
       " 'ks_p99_p1_over_error': 0.012720000482449815,\n",
       " 'ks_skew': 0.03603502851702129,\n",
       " 'ks_stdev': 0.020201471892780713,\n",
       " 'ks_stdev_over_error': 0.012322880376281377,\n",
       " 'ks_stetson_i': 0.12670373736648946,\n",
       " 'ks_stetson_j': 0.03691210974648069,\n",
       " 'ks_stetson_k': 0.024730876768329656}"
      ]
     },
     "execution_count": 16,
     "metadata": {},
     "output_type": "execute_result"
    }
   ],
   "source": [
    "binary_SJ.feature_importance"
   ]
  },
  {
   "cell_type": "code",
   "execution_count": 26,
   "metadata": {},
   "outputs": [
    {
     "name": "stdout",
     "output_type": "stream",
     "text": [
      "0.040118067197748915\n"
     ]
    }
   ],
   "source": [
    "with open('/local/scratch_2/jls/virac_classifier/binary/edr3/binary_150.pkl', 'rb') as f:\n",
    "    binary0 = pickle.load(f)\n",
    "print(binary0.feature_importance['ks_stetson_j'])"
   ]
  },
  {
   "cell_type": "code",
   "execution_count": null,
   "metadata": {},
   "outputs": [],
   "source": []
  }
 ],
 "metadata": {
  "kernelspec": {
   "display_name": "Python 3",
   "language": "python",
   "name": "python3"
  },
  "language_info": {
   "codemirror_mode": {
    "name": "ipython",
    "version": 3
   },
   "file_extension": ".py",
   "mimetype": "text/x-python",
   "name": "python",
   "nbconvert_exporter": "python",
   "pygments_lexer": "ipython3",
   "version": "3.5.2"
  }
 },
 "nbformat": 4,
 "nbformat_minor": 4
}
