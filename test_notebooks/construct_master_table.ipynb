{
 "cells": [
  {
   "cell_type": "code",
   "execution_count": 1,
   "metadata": {},
   "outputs": [
    {
     "name": "stdin",
     "output_type": "stream",
     "text": [
      " ·············\n"
     ]
    }
   ],
   "source": [
    "import sys\n",
    "sys.path.append('../')\n",
    "from config import configuration\n",
    "config = configuration()\n",
    "config.request_password()\n"
   ]
  },
  {
   "cell_type": "code",
   "execution_count": null,
   "metadata": {},
   "outputs": [],
   "source": [
    "import sqlutilpy\n",
    "data = pd.DataFrame(\n",
    "         sqlutilpy.get('''\n",
    "         select p.*,\n",
    "         v.astfit_epochs,v.astfit_params,v.duplicate,v.ref_epoch,v.ra,v.ra_error,v.dec,v.dec_error,v.parallax,v.parallax_error,v.pmra,v.pmra_error,v.pmdec,v.pmdec_error,v.ra_dec_corr,v.ra_parallax_corr,v.ra_pmra_corr,v.ra_pmdec_corr,v.dec_parallax_corr,v.dec_pmra_corr,v.dec_pmdec_corr,v.parallax_pmra_corr,v.parallax_pmdec_corr,v.pmra_pmdec_corr,v.chisq,v.uwe,v.z_n_detections,v.z_n_observations,v.z_n_ambiguous,v.y_n_detections,v.y_n_observations,v.y_n_ambiguous,v.j_n_detections,v.j_n_observations,v.j_n_ambiguous,v.h_n_detections,v.h_n_observations,v.h_n_ambiguous,v.ks_n_detections,v.ks_n_observations,v.ks_n_ambiguous,v.ivw_mean_contemp_j_ks,v.ivw_mean_contemp_h_ks,v.l,v.b,\n",
    "         m.z_b_med_mag,m.z_b_mean_mag,m.z_b_ivw_mean_mag,m.z_b_std_mag,m.z_b_mad_mag,m.z_b_ivw_err_mag,m.z_n_b_phot,m.y_b_med_mag,m.y_b_mean_mag,m.y_b_ivw_mean_mag,m.y_b_std_mag,m.y_b_mad_mag,m.y_b_ivw_err_mag,m.y_n_b_phot,m.j_b_med_mag,m.j_b_mean_mag,m.j_b_ivw_mean_mag,m.j_b_std_mag,m.j_b_mad_mag,m.j_b_ivw_err_mag,m.j_n_b_phot,m.h_b_med_mag,m.h_b_mean_mag,m.h_b_ivw_mean_mag,m.h_b_std_mag,m.h_b_mad_mag,m.h_b_ivw_err_mag,m.h_n_b_phot,m.ks_b_med_mag,m.ks_b_mean_mag,m.ks_b_ivw_mean_mag,m.ks_b_std_mag,m.ks_b_mad_mag,m.ks_b_ivw_err_mag,m.ks_n_b_phot,\n",
    "         n.ks_n_epochs,n.ks_mean,n.ks_stdev,n.ks_kurtosis,n.ks_skew,n.ks_p0,n.ks_p1,n.ks_p2,n.ks_p4,n.ks_p5,n.ks_p8,n.ks_p16,n.ks_p25,n.ks_p32,n.ks_p50,n.ks_p68,n.ks_p75,n.ks_p84,n.ks_p92,n.ks_p95,n.ks_p96,n.ks_p98,n.ks_p99,n.ks_p100,n.ks_mad,n.ks_epoch_first,n.ks_epoch_last,n.ks_eta,n.ks_eta_e,n.ks_stetson_in,n.ks_stetson_i,n.ks_stetson_j,n.ks_stetson_k,n.ks_ncross_m10_std,n.ks_ncross_m5_std,n.ks_ncross_m3_std,n.ks_ncross_m2_std,n.ks_ncross_m1_std,n.ks_ncross_0_std,n.ks_ncross_1_std,n.ks_ncross_2_std,n.ks_ncross_3_std,n.ks_ncross_5_std,n.ks_ncross_10_std,n.ks_ncross_m10_mad,n.ks_ncross_m5_mad,n.ks_ncross_m3_mad,n.ks_ncross_m2_mad,n.ks_ncross_m1_mad,n.ks_ncross_0_mad,n.ks_ncross_1_mad,n.ks_ncross_2_mad,n.ks_ncross_3_mad,n.ks_ncross_5_mad,n.ks_ncross_10_mad,n.ks_pspl_mle_t0,n.ks_pspl_mle_te,n.ks_pspl_mle_u0,n.ks_pspl_mle_m0,n.ks_pspl_mle_fs,n.ks_pspl_max_loglike_pspl,n.ks_pspl_mle_constant_mag,n.ks_pspl_max_loglike_constant_mag,n.ks_pspl_mean_loglike_outside_two_te,n.ks_pspl_std_loglike_outside_two_te,n.ks_pspl_mean_loglike_outside_three_te,n.ks_pspl_std_loglike_outside_three_te,n.ks_pspl_count_range_inf_3te_b,n.ks_pspl_count_range_3te_2te_b,n.ks_pspl_count_range_2te_1te_b,n.ks_pspl_count_range_1te_0te_b,n.ks_pspl_count_range_0te_1te_a,n.ks_pspl_count_range_1te_2te_a,n.ks_pspl_count_range_2te_3te_a,n.ks_pspl_count_range_3te_inf_a\n",
    "         from thomas_molnar.virac2_variable_sources_eaeb as p\n",
    "         inner join leigh_smith.virac2 as v on p.sourceid=v.sourceid\n",
    "         inner join leigh_smith.virac2_photstats as m on p.sourceid=m.sourceid\n",
    "         inner join leigh_smith.virac2_var_indices as n on p.sourceid=n.sourceid''',\n",
    "                    **config.wsdb_kwargs)\n",
    "       )"
   ]
  },
  {
   "cell_type": "code",
   "execution_count": 72,
   "metadata": {},
   "outputs": [
    {
     "data": {
      "text/plain": [
       "2116880"
      ]
     },
     "execution_count": 72,
     "metadata": {},
     "output_type": "execute_result"
    }
   ],
   "source": [
    "len(data)"
   ]
  },
  {
   "cell_type": "code",
   "execution_count": 73,
   "metadata": {},
   "outputs": [],
   "source": [
    "ph = np.linspace(0.,1.,1000)\n",
    "xx = np.zeros((len(data),len(ph)))\n",
    "for ii in range(4):\n",
    "    xx += data['amp_%i'%ii].values[:,np.newaxis]*np.cos(2.*np.pi*(ii+1)*ph[np.newaxis,:]\n",
    "                                                   +data['phi_%i'%ii].values[:,np.newaxis])\n",
    "data['ks_model_amplitude']=np.max(xx,axis=1)-np.min(xx,axis=1)\n",
    "\n",
    "def period_fix(var_in,tol=1.):\n",
    "\n",
    "    period_out = var_in['lsq_period'].values.copy()\n",
    "\n",
    "    period_out[((var_in['class']=='EA/EB')|(var_in['class']=='Ell'))&\n",
    "                (var_in['amp_0']>tol*var_in['amp_1'])]*=2.\n",
    "    \n",
    "    ss=np.argmax([var_in['amp_0'].values,\n",
    "                  var_in['amp_1'].values,\n",
    "                  var_in['amp_2'].values,\n",
    "                  var_in['amp_3'].values],axis=0)\n",
    "    fltr = ~((var_in['class']=='EA/EB')|(var_in['class']=='Ell'))\n",
    "    period_out[fltr]/=(1.+ss)[fltr]\n",
    "    \n",
    "    period_out[var_in['class']=='EW']*=2\n",
    "    \n",
    "    return period_out\n",
    "    \n",
    "data['period'] = period_fix(data)"
   ]
  },
  {
   "cell_type": "code",
   "execution_count": 252,
   "metadata": {},
   "outputs": [],
   "source": [
    "import sys\n",
    "sys.path.append('../../../../')\n",
    "from virac_utils import cm_gaia\n",
    "\n",
    "gaia = cm_gaia(data, epoch=2014.0, cm_radius=0.5, use_pm=True)"
   ]
  },
  {
   "cell_type": "code",
   "execution_count": 253,
   "metadata": {},
   "outputs": [],
   "source": [
    "gaia_columns = ['source_id','ra','dec','parallax','pmra','pmdec',\n",
    "                'parallax_error','pmra_error','pmdec_error',\n",
    "                'parallax_pmra_corr','parallax_pmdec_corr','pmra_pmdec_corr',\n",
    "                'phot_g_mean_mag','phot_bp_mean_mag','phot_rp_mean_mag',\n",
    "                'ruwe']\n",
    "\n",
    "for c in gaia_columns:\n",
    "    data['gaia_edr3_'+c] = gaia[c]\n",
    "data['virac2_gedr3_sep'] = gaia['q3c_dist']\n",
    "data['ebv_schlegel'] = gaia['ebv']\n",
    "data['ebv_schlegel'] = gaia['ebv']"
   ]
  },
  {
   "cell_type": "code",
   "execution_count": 76,
   "metadata": {},
   "outputs": [],
   "source": [
    "dataF = data.copy()"
   ]
  },
  {
   "cell_type": "code",
   "execution_count": 257,
   "metadata": {},
   "outputs": [],
   "source": [
    "def relabel_table(data):\n",
    "    \n",
    "    col32_save = [\n",
    "        'amp_0', 'amp_1', 'amp_2', 'amp_3', \n",
    "        'amp_double_0', 'amp_double_1', 'amp_double_2', 'amp_double_3', \n",
    "        'amplitude', 'beyondfrac', 'delta_loglik',  'log10_fap',\n",
    "        'lsq_period_error', 'max_pow', 'max_phase_lag', 'pow_mean_disp', 'time_lag_mean',\n",
    "        'phi_0','phi_1','phi_2','phi_3',\n",
    "        'phi_double_0','phi_double_1','phi_double_2','phi_double_3',           \n",
    "        'peak_ratio_model', 'peak_ratio_data',\n",
    "        'jk_col','hk_col','prob', 'prob_1st_stage',\n",
    "        'z_scale','z_model','y_scale','y_model','j_scale','j_model','h_scale','h_model',\n",
    "        'ks_model_amplitude'\n",
    "    ]\n",
    "\n",
    "    save_cols_types = dict(zip(col32_save,[np.float32]*len(col32_save)))\n",
    "    data = data.astype(save_cols_types)\n",
    "    save_cols_types = {'n_epochs':np.int16, 'lsq_nterms':np.int16 }\n",
    "    data = data.astype(save_cols_types)\n",
    "    \n",
    "    for c in data.columns[data.columns.str.contains('pspl')]:\n",
    "        del data[c]\n",
    "    for c in data.columns[data.columns.str.contains('ncross')]:\n",
    "        del data[c]\n",
    "    data = data.rename(columns={c:c+'_factor' for c in data.columns[data.columns.str.contains('_scale')]})\n",
    "    data = data.rename(columns={ii+'_model':ii+'_rms_ks_rms_ratio' for ii in ['z','y','j','h']})\n",
    "    for s in ['phi','amp','phi_double','amp_double']:\n",
    "        for ii in [4,3,2,1]:\n",
    "            data = data.rename(columns={s+'_%i'%(ii-1):'lsq_'+s+'_%i'%ii})\n",
    "    data = data.rename(columns={'jk_col':'j_ks_0', 'hk_col':'h_ks_0'})\n",
    "    del data['duplicate']\n",
    "    del data['ks_mean']\n",
    "    del data['astfit_params']\n",
    "    data = data.rename(columns = {c: '_'.join(c.split('_b_')) \n",
    "                                 for c in data.columns[data.columns.str.contains('_b_')]})\n",
    "    data = data.rename(columns = {'peak_ratio_model': 'ks_consec_minimum_ratio_model',\n",
    "                                  'peak_ratio_data': 'ks_consec_minimum_ratio_data'})\n",
    "    data = data.rename(columns={'amplitude':'ks_amplitude',\n",
    "                                'chisq':'astfit_chisq',\n",
    "                                'uwe':'astfit_uwe',\n",
    "                                'delta_loglik':'delta_logl_lsq_const',\n",
    "                                'beyondfrac':'ks_frac_detections_outside_1sigma',\n",
    "                                'max_pow':'lombscargle_max_pow',\n",
    "                                'max_phase_lag':'ks_phasediff_max',\n",
    "                                'time_lag_mean':'ks_phasediff_max_dev_std_ratio',\n",
    "                                'pow_mean_disp':'lombscargle_pow_max_dev_std_ratio',\n",
    "                                'n_epochs':'ks_lsq_n_epochs',\n",
    "                                'ks_n_epochs':'ks_varstats_n_epochs',\n",
    "                                'ks_stdev':'ks_std_varstats',\n",
    "                                'log10_fap':'log10_lombscargle_fap'})\n",
    "    s = data['period'].values\n",
    "    del data['period']\n",
    "    data.insert(3, 'period', s)\n",
    "    s = data['ks_model_amplitude'].values\n",
    "    del data['ks_model_amplitude']\n",
    "    data.insert(5, 'ks_lsq_amplitude', s)\n",
    "    \n",
    "    for ii in range(1,5):\n",
    "        s = data['lsq_phi_%i'%ii].values\n",
    "        del data['lsq_phi_%i'%ii]\n",
    "        data.insert(9+ii, 'lsq_phi_%i'%ii, s)\n",
    "    for ii in range(1,5):\n",
    "        s = data['lsq_phi_double_%i'%ii].values\n",
    "        del data['lsq_phi_double_%i'%ii]\n",
    "        data.insert(17+ii, 'lsq_phi_double_%i'%ii, s)\n",
    "    for ii in ['lsq_period', 'lsq_period_error', 'lsq_nterms'][::-1]:\n",
    "        s = data[ii].values\n",
    "        del data[ii]\n",
    "        data.insert(6, ii, s)\n",
    "    for ii in ['ra','dec','l','b'][::-1]:\n",
    "        s = data[ii].values\n",
    "        del data[ii]\n",
    "        data.insert(4, ii, s)\n",
    "    \n",
    "    data.insert(51,'ejk_rc',data['j_ivw_mean_mag']-data['ks_ivw_mean_mag']-data['j_ks_0'])\n",
    "    \n",
    "    data.insert(52,'ehk_rc',data['h_ivw_mean_mag']-data['ks_ivw_mean_mag']-data['h_ks_0'])\n",
    "            \n",
    "    del data['j_ks_0']\n",
    "    del data['h_ks_0']\n",
    "        \n",
    "    return data"
   ]
  },
  {
   "cell_type": "code",
   "execution_count": 258,
   "metadata": {},
   "outputs": [],
   "source": [
    "dataC = relabel_table(data)"
   ]
  },
  {
   "cell_type": "code",
   "execution_count": 167,
   "metadata": {},
   "outputs": [
    {
     "data": {
      "text/plain": [
       "[<matplotlib.lines.Line2D at 0x7fdcb83c01d0>]"
      ]
     },
     "execution_count": 167,
     "metadata": {},
     "output_type": "execute_result"
    },
    {
     "data": {
      "image/png": "[encoded data removed]",
      "text/plain": [
       "<Figure size 432x288 with 1 Axes>"
      ]
     },
     "metadata": {
      "needs_background": "light"
     },
     "output_type": "display_data"
    }
   ],
   "source": [
    "plt.hist2d(np.log10(dataC['ks_lsq_amplitude']),np.log10(dataC['ks_p95']-dataC['ks_p5']),bins=150,norm=LogNorm());\n",
    "xx = np.linspace(0.01,10.)\n",
    "plt.plot(np.log10(xx),np.log10(xx),color='k')"
   ]
  },
  {
   "cell_type": "code",
   "execution_count": 169,
   "metadata": {},
   "outputs": [],
   "source": [
    "import sys\n",
    "sys.path.append('../../../../')\n",
    "from virac_utils import wsdb_upload_kwargs, wsdb_kwargs"
   ]
  },
  {
   "cell_type": "code",
   "execution_count": 259,
   "metadata": {},
   "outputs": [],
   "source": [
    "def fmtr(data,s,chunk):\n",
    "    if s=='class':\n",
    "        return data['class'].values.astype(str)[chunk[0]:chunk[1]]\n",
    "    else:\n",
    "        return data[s].values[chunk[0]:chunk[1]]"
   ]
  },
  {
   "cell_type": "code",
   "execution_count": 260,
   "metadata": {},
   "outputs": [],
   "source": [
    "chunk = [0,500000]\n",
    "sqlutilpy.upload('virac2_variables',\n",
    "                 [fmtr(dataC,s,chunk) for s in dataC.keys()],\n",
    "                 dataC.keys(),\n",
    "                 **wsdb_upload_kwargs)"
   ]
  },
  {
   "cell_type": "code",
   "execution_count": null,
   "metadata": {},
   "outputs": [],
   "source": [
    "chunk = [500000,1000000]\n",
    "sqlutilpy.upload('virac2_variables',\n",
    "                 [fmtr(dataC,s,chunk) for s in dataC.keys()],\n",
    "                 dataC.keys(),createTable=False,\n",
    "                 **wsdb_upload_kwargs)\n",
    "chunk = [1000000,1500000]\n",
    "sqlutilpy.upload('virac2_variables',\n",
    "                 [fmtr(dataC,s,chunk) for s in dataC.keys()],\n",
    "                 dataC.keys(),createTable=False,\n",
    "                 **wsdb_upload_kwargs)\n",
    "chunk = [1500000,2000000]\n",
    "sqlutilpy.upload('virac2_variables',\n",
    "                 [fmtr(dataC,s,chunk) for s in dataC.keys()],\n",
    "                 dataC.keys(),createTable=False,\n",
    "                 **wsdb_upload_kwargs)\n",
    "chunk = [2000000,2500000]\n",
    "sqlutilpy.upload('virac2_variables',\n",
    "                 [fmtr(dataC,s,chunk) for s in dataC.keys()],\n",
    "                 dataC.keys(),createTable=False,\n",
    "                 **wsdb_upload_kwargs)"
   ]
  },
  {
   "cell_type": "code",
   "execution_count": 46,
   "metadata": {},
   "outputs": [],
   "source": [
    "data_full = sqlutilpy.get('''select sourceid from thomas_molnar.virac2_variable_sources_eaeb;''', \n",
    "                         **wsdb_kwargs)"
   ]
  },
  {
   "cell_type": "code",
   "execution_count": 50,
   "metadata": {},
   "outputs": [
    {
     "data": {
      "text/plain": [
       "2136376"
      ]
     },
     "execution_count": 50,
     "metadata": {},
     "output_type": "execute_result"
    }
   ],
   "source": [
    "len(data_full['sourceid'])"
   ]
  },
  {
   "cell_type": "code",
   "execution_count": 58,
   "metadata": {},
   "outputs": [],
   "source": [
    "joint=pd.merge(pd.DataFrame(data_full), data[['sourceid','ks_b_ivw_mean_mag']],how='left')"
   ]
  },
  {
   "cell_type": "code",
   "execution_count": 64,
   "metadata": {},
   "outputs": [
    {
     "data": {
      "text/plain": [
       "2136376"
      ]
     },
     "execution_count": 64,
     "metadata": {},
     "output_type": "execute_result"
    }
   ],
   "source": [
    "np.count_nonzero(np.isnan(joint['ks_b_ivw_mean_mag']))+len(data)"
   ]
  },
  {
   "cell_type": "code",
   "execution_count": 75,
   "metadata": {},
   "outputs": [
    {
     "name": "stderr",
     "output_type": "stream",
     "text": [
      "/data/jls/python3.5/site-packages/ipykernel_launcher.py:1: FutureWarning: The signature of `Series.to_csv` was aligned to that of `DataFrame.to_csv`, and argument 'header' will change its default value from False to True: please pass an explicit value to suppress this warning.\n",
      "  \"\"\"Entry point for launching an IPython kernel.\n"
     ]
    }
   ],
   "source": [
    "joint['sourceid'][np.isnan(joint['ks_b_ivw_mean_mag'])].to_csv('missing_sourceid_for_leigh.dat',index=False)"
   ]
  },
  {
   "cell_type": "code",
   "execution_count": 78,
   "metadata": {},
   "outputs": [
    {
     "data": {
      "text/plain": [
       "19496"
      ]
     },
     "execution_count": 78,
     "metadata": {},
     "output_type": "execute_result"
    }
   ],
   "source": [
    "np.count_nonzero(np.isnan(joint['ks_b_ivw_mean_mag']))"
   ]
  },
  {
   "cell_type": "markdown",
   "metadata": {},
   "source": [
    "## missing sources"
   ]
  },
  {
   "cell_type": "code",
   "execution_count": 230,
   "metadata": {},
   "outputs": [],
   "source": [
    "missing_s = pd.read_csv('missing_sourceid_for_leigh.dat',names=['sid'])"
   ]
  },
  {
   "cell_type": "code",
   "execution_count": 231,
   "metadata": {},
   "outputs": [],
   "source": [
    "import sqlutilpy\n",
    "missing_var_indices=pd.DataFrame(\n",
    "    sqlutilpy.get('''select n.ks_n_epochs,n.ks_mean,n.ks_stdev,n.ks_kurtosis,n.ks_skew,n.ks_p0,n.ks_p1,n.ks_p2,n.ks_p4,n.ks_p5,n.ks_p8,n.ks_p16,n.ks_p25,n.ks_p32,n.ks_p50,n.ks_p68,n.ks_p75,n.ks_p84,n.ks_p92,n.ks_p95,n.ks_p96,n.ks_p98,n.ks_p99,n.ks_p100,n.ks_mad,n.ks_epoch_first,n.ks_epoch_last,n.ks_eta,n.ks_eta_e,n.ks_stetson_in,n.ks_stetson_i,n.ks_stetson_j,n.ks_stetson_k,n.ks_ncross_m10_std,n.ks_ncross_m5_std,n.ks_ncross_m3_std,n.ks_ncross_m2_std,n.ks_ncross_m1_std,n.ks_ncross_0_std,n.ks_ncross_1_std,n.ks_ncross_2_std,n.ks_ncross_3_std,n.ks_ncross_5_std,n.ks_ncross_10_std,n.ks_ncross_m10_mad,n.ks_ncross_m5_mad,n.ks_ncross_m3_mad,n.ks_ncross_m2_mad,n.ks_ncross_m1_mad,n.ks_ncross_0_mad,n.ks_ncross_1_mad,n.ks_ncross_2_mad,n.ks_ncross_3_mad,n.ks_ncross_5_mad,n.ks_ncross_10_mad,n.ks_pspl_mle_t0,n.ks_pspl_mle_te,n.ks_pspl_mle_u0,n.ks_pspl_mle_m0,n.ks_pspl_mle_fs,n.ks_pspl_max_loglike_pspl,n.ks_pspl_mle_constant_mag,n.ks_pspl_max_loglike_constant_mag,n.ks_pspl_mean_loglike_outside_two_te,n.ks_pspl_std_loglike_outside_two_te,n.ks_pspl_mean_loglike_outside_three_te,n.ks_pspl_std_loglike_outside_three_te,n.ks_pspl_count_range_inf_3te_b,n.ks_pspl_count_range_3te_2te_b,n.ks_pspl_count_range_2te_1te_b,n.ks_pspl_count_range_1te_0te_b,n.ks_pspl_count_range_0te_1te_a,n.ks_pspl_count_range_1te_2te_a,n.ks_pspl_count_range_2te_3te_a,n.ks_pspl_count_range_3te_inf_a\n",
    "    from leigh_smith.virac2_var_indices as n where sourceid in (%s)'''%(\n",
    "        ','.join(['%i'%i for i in missing_s['sid']])),**config.wsdb_kwargs))"
   ]
  },
  {
   "cell_type": "code",
   "execution_count": 232,
   "metadata": {},
   "outputs": [],
   "source": [
    "import sqlutilpy\n",
    "missing_photstats=pd.DataFrame(\n",
    "    sqlutilpy.get('''select m.z_b_med_mag,m.z_b_mean_mag,m.z_b_ivw_mean_mag,m.z_b_std_mag,m.z_b_mad_mag,m.z_b_ivw_err_mag,m.z_n_b_phot,m.y_b_med_mag,m.y_b_mean_mag,m.y_b_ivw_mean_mag,m.y_b_std_mag,m.y_b_mad_mag,m.y_b_ivw_err_mag,m.y_n_b_phot,m.j_b_med_mag,m.j_b_mean_mag,m.j_b_ivw_mean_mag,m.j_b_std_mag,m.j_b_mad_mag,m.j_b_ivw_err_mag,m.j_n_b_phot,m.h_b_med_mag,m.h_b_mean_mag,m.h_b_ivw_mean_mag,m.h_b_std_mag,m.h_b_mad_mag,m.h_b_ivw_err_mag,m.h_n_b_phot,m.ks_b_med_mag,m.ks_b_mean_mag,m.ks_b_ivw_mean_mag,m.ks_b_std_mag,m.ks_b_mad_mag,m.ks_b_ivw_err_mag,m.ks_n_b_phot\n",
    "         from leigh_smith.virac2_var_photstats as m where sourceid in (%s)'''%(\n",
    "        ','.join(['%i'%i for i in missing_s['sid']])),**config.wsdb_kwargs))"
   ]
  },
  {
   "cell_type": "code",
   "execution_count": 233,
   "metadata": {},
   "outputs": [],
   "source": [
    "import sqlutilpy\n",
    "missing_virac2=pd.DataFrame(\n",
    "    sqlutilpy.get('''select \n",
    "    v.astfit_epochs,v.astfit_params,v.duplicate,v.ref_epoch,v.ra,v.ra_error,v.dec,v.dec_error,v.parallax,v.parallax_error,v.pmra,v.pmra_error,v.pmdec,v.pmdec_error,v.ra_dec_corr,v.ra_parallax_corr,v.ra_pmra_corr,v.ra_pmdec_corr,v.dec_parallax_corr,v.dec_pmra_corr,v.dec_pmdec_corr,v.parallax_pmra_corr,v.parallax_pmdec_corr,v.pmra_pmdec_corr,v.chisq,v.uwe,v.z_n_detections,v.z_n_observations,v.z_n_ambiguous,v.y_n_detections,v.y_n_observations,v.y_n_ambiguous,v.j_n_detections,v.j_n_observations,v.j_n_ambiguous,v.h_n_detections,v.h_n_observations,v.h_n_ambiguous,v.ks_n_detections,v.ks_n_observations,v.ks_n_ambiguous,v.ivw_mean_contemp_j_ks,v.ivw_mean_contemp_h_ks,v.l,v.b\n",
    "from leigh_smith.virac2 as v where sourceid in (%s)'''%(\n",
    "        ','.join(['%i'%i for i in missing_s['sid']])),**config.wsdb_kwargs))"
   ]
  },
  {
   "cell_type": "code",
   "execution_count": 234,
   "metadata": {},
   "outputs": [],
   "source": [
    "import sqlutilpy\n",
    "missing_thomas=pd.DataFrame(\n",
    "    sqlutilpy.get('''select \n",
    "    * from thomas_molnar.virac2_variable_sources_eaeb where sourceid in (%s)'''%(\n",
    "        ','.join(['%i'%i for i in missing_s['sid']])),**config.wsdb_kwargs))"
   ]
  },
  {
   "cell_type": "code",
   "execution_count": 235,
   "metadata": {},
   "outputs": [
    {
     "data": {
      "text/plain": [
       "(19496, 19496, 19496, 19496)"
      ]
     },
     "execution_count": 235,
     "metadata": {},
     "output_type": "execute_result"
    }
   ],
   "source": [
    "len(missing_photstats), len(missing_var_indices), len(missing_virac2), len(missing_thomas)"
   ]
  },
  {
   "cell_type": "code",
   "execution_count": 236,
   "metadata": {},
   "outputs": [],
   "source": [
    "missing_classif = pd.read_csv('/local/scratch_2/jls/virac_classifier/results/edr3_EAEB/variables_reclassified_missingsources.csv')"
   ]
  },
  {
   "cell_type": "code",
   "execution_count": 241,
   "metadata": {},
   "outputs": [],
   "source": [
    "missing_data = pd.concat([missing_thomas, missing_virac2, missing_photstats, missing_var_indices], axis=1)\n",
    "missing_data['class']=missing_classif['class']\n",
    "missing_data['prob']=missing_classif['prob']"
   ]
  },
  {
   "cell_type": "code",
   "execution_count": 242,
   "metadata": {},
   "outputs": [],
   "source": [
    "ph = np.linspace(0.,1.,1000)\n",
    "xx = np.zeros((len(missing_data),len(ph)))\n",
    "for ii in range(4):\n",
    "    xx += missing_data['amp_%i'%ii].values[:,np.newaxis]*np.cos(2.*np.pi*(ii+1)*ph[np.newaxis,:]\n",
    "                                                   +missing_data['phi_%i'%ii].values[:,np.newaxis])\n",
    "missing_data['ks_model_amplitude']=np.max(xx,axis=1)-np.min(xx,axis=1)\n",
    "\n",
    "def period_fix(var_in,tol=1.):\n",
    "\n",
    "    period_out = var_in['lsq_period'].values.copy()\n",
    "\n",
    "    period_out[((var_in['class']=='EA/EB')|(var_in['class']=='Ell'))&\n",
    "                (var_in['amp_0']>tol*var_in['amp_1'])]*=2.\n",
    "    \n",
    "    ss=np.argmax([var_in['amp_0'].values,\n",
    "                  var_in['amp_1'].values,\n",
    "                  var_in['amp_2'].values,\n",
    "                  var_in['amp_3'].values],axis=0)\n",
    "    fltr = ~((var_in['class']=='EA/EB')|(var_in['class']=='Ell'))\n",
    "    period_out[fltr]/=(1.+ss)[fltr]\n",
    "    \n",
    "    period_out[var_in['class']=='EW']*=2\n",
    "    \n",
    "    return period_out\n",
    "    \n",
    "missing_data['period'] = period_fix(missing_data)"
   ]
  },
  {
   "cell_type": "code",
   "execution_count": 262,
   "metadata": {},
   "outputs": [],
   "source": [
    "missing_gaia = cm_gaia(missing_data, epoch=2014.0, cm_radius=0.5, use_pm=True)\n",
    "gaia_columns = ['source_id','ra','dec','parallax','pmra','pmdec',\n",
    "                'parallax_error','pmra_error','pmdec_error',\n",
    "                'parallax_pmra_corr','parallax_pmdec_corr','pmra_pmdec_corr',\n",
    "                'phot_g_mean_mag','phot_bp_mean_mag','phot_rp_mean_mag',\n",
    "                'ruwe']\n",
    "\n",
    "for c in gaia_columns:\n",
    "    missing_data['gaia_edr3_'+c] = missing_gaia[c]\n",
    "missing_data['virac2_gedr3_sep'] = missing_gaia['q3c_dist']\n",
    "missing_data['ebv_schlegel'] = missing_gaia['ebv']\n",
    "missing_data['ebv_schlegel'] = missing_gaia['ebv']"
   ]
  },
  {
   "cell_type": "code",
   "execution_count": 245,
   "metadata": {},
   "outputs": [],
   "source": [
    "missing_data = relabel_table(missing_data)"
   ]
  },
  {
   "cell_type": "code",
   "execution_count": 265,
   "metadata": {},
   "outputs": [
    {
     "data": {
      "text/plain": [
       "2136376"
      ]
     },
     "execution_count": 265,
     "metadata": {},
     "output_type": "execute_result"
    }
   ],
   "source": [
    "len(missing_data)+len(dataC)"
   ]
  },
  {
   "cell_type": "code",
   "execution_count": 263,
   "metadata": {},
   "outputs": [
    {
     "data": {
      "text/plain": [
       "(175, 175)"
      ]
     },
     "execution_count": 263,
     "metadata": {},
     "output_type": "execute_result"
    }
   ],
   "source": [
    "len(missing_data.columns), len(dataC.columns)"
   ]
  },
  {
   "cell_type": "code",
   "execution_count": 264,
   "metadata": {},
   "outputs": [
    {
     "ename": "NameError",
     "evalue": "name 'data_full' is not defined",
     "output_type": "error",
     "traceback": [
      "\u001b[0;31m---------------------------------------------------------------------------\u001b[0m",
      "\u001b[0;31mNameError\u001b[0m                                 Traceback (most recent call last)",
      "\u001b[0;32m<ipython-input-264-b25aeac2948c>\u001b[0m in \u001b[0;36m<module>\u001b[0;34m\u001b[0m\n\u001b[0;32m----> 1\u001b[0;31m \u001b[0mlen\u001b[0m\u001b[0;34m(\u001b[0m\u001b[0mdata_full\u001b[0m\u001b[0;34m[\u001b[0m\u001b[0;34m'sourceid'\u001b[0m\u001b[0;34m]\u001b[0m\u001b[0;34m)\u001b[0m\u001b[0;34m\u001b[0m\u001b[0m\n\u001b[0m",
      "\u001b[0;31mNameError\u001b[0m: name 'data_full' is not defined"
     ]
    }
   ],
   "source": [
    "len(data_full['sourceid'])"
   ]
  },
  {
   "cell_type": "code",
   "execution_count": 101,
   "metadata": {},
   "outputs": [
    {
     "data": {
      "text/plain": [
       "0"
      ]
     },
     "execution_count": 101,
     "metadata": {},
     "output_type": "execute_result"
    }
   ],
   "source": [
    "len(data_full['sourceid'])-len(missing_data)-len(data)"
   ]
  },
  {
   "cell_type": "code",
   "execution_count": 266,
   "metadata": {},
   "outputs": [],
   "source": [
    "sqlutilpy.upload('virac2_variables',\n",
    "                 [fmtr(missing_data,s,[0,100000]) for s in missing_data.keys()],\n",
    "                 missing_data.keys(),createTable=False,\n",
    "                 **wsdb_upload_kwargs)"
   ]
  },
  {
   "cell_type": "code",
   "execution_count": 284,
   "metadata": {},
   "outputs": [
    {
     "name": "stderr",
     "output_type": "stream",
     "text": [
      "/data/jls/python3.5/site-packages/astropy/coordinates/angles.py:642: RuntimeWarning: invalid value encountered in less\n",
      "  if np.any(self_angle < wrap_angle_floor) or np.any(self_angle >= wrap_angle):\n",
      "/data/jls/python3.5/site-packages/astropy/coordinates/angles.py:642: RuntimeWarning: invalid value encountered in greater_equal\n",
      "  if np.any(self_angle < wrap_angle_floor) or np.any(self_angle >= wrap_angle):\n",
      "/data/jls/python3.5/site-packages/astropy/coordinates/angles.py:529: RuntimeWarning: invalid value encountered in less\n",
      "  if np.any(angles.value < lower) or np.any(angles.value > upper):\n",
      "/data/jls/python3.5/site-packages/astropy/coordinates/angles.py:529: RuntimeWarning: invalid value encountered in greater\n",
      "  if np.any(angles.value < lower) or np.any(angles.value > upper):\n"
     ]
    }
   ],
   "source": [
    "from astropy.coordinates import SkyCoord\n",
    "import astropy.units as u\n",
    "vv = SkyCoord(ra=dataC['ra'].values*u.deg,dec=dataC['dec'].values*u.deg)\n",
    "gg = SkyCoord(ra=dataC['gaia_edr3_ra'].values*u.deg,dec=dataC['gaia_edr3_dec'].values*u.deg)"
   ]
  },
  {
   "cell_type": "code",
   "execution_count": 285,
   "metadata": {},
   "outputs": [
    {
     "name": "stderr",
     "output_type": "stream",
     "text": [
      "/data/jls/python3.5/site-packages/ipykernel_launcher.py:1: RuntimeWarning: invalid value encountered in greater\n",
      "  \"\"\"Entry point for launching an IPython kernel.\n"
     ]
    }
   ],
   "source": [
    "q3c__p=vv[dataC['gaia_edr3_dec'].values>-1000].separation(gg[dataC['gaia_edr3_dec'].values>-1000]).arcsec"
   ]
  },
  {
   "cell_type": "code",
   "execution_count": 286,
   "metadata": {},
   "outputs": [
    {
     "name": "stderr",
     "output_type": "stream",
     "text": [
      "/data/jls/python3.5/site-packages/ipykernel_launcher.py:1: RuntimeWarning: invalid value encountered in greater\n",
      "  \"\"\"Entry point for launching an IPython kernel.\n"
     ]
    }
   ],
   "source": [
    "q3c__=dataC['virac2_gedr3_sep'].values[dataC['gaia_edr3_dec'].values>-1000]"
   ]
  },
  {
   "cell_type": "code",
   "execution_count": 292,
   "metadata": {},
   "outputs": [
    {
     "data": {
      "text/plain": [
       "<matplotlib.lines.Line2D at 0x7fdcc3acb6d8>"
      ]
     },
     "execution_count": 292,
     "metadata": {},
     "output_type": "execute_result"
    },
    {
     "data": {
      "image/png": "[encoded data removed]",
      "text/plain": [
       "<Figure size 432x288 with 1 Axes>"
      ]
     },
     "metadata": {
      "needs_background": "light"
     },
     "output_type": "display_data"
    }
   ],
   "source": [
    "plt.hist(q3c__-q3c__p,bins=350,histtype='step');\n",
    "plt.semilogy()\n",
    "plt.axvline(0.)"
   ]
  },
  {
   "cell_type": "code",
   "execution_count": null,
   "metadata": {},
   "outputs": [],
   "source": []
  }
 ],
 "metadata": {
  "kernelspec": {
   "display_name": "Python 3",
   "language": "python",
   "name": "python3"
  },
  "language_info": {
   "codemirror_mode": {
    "name": "ipython",
    "version": 3
   },
   "file_extension": ".py",
   "mimetype": "text/x-python",
   "name": "python",
   "nbconvert_exporter": "python",
   "pygments_lexer": "ipython3",
   "version": "3.5.2"
  }
 },
 "nbformat": 4,
 "nbformat_minor": 4
}
