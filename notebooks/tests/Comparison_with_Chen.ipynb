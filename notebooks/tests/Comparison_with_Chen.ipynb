{
 "cells": [
  {
   "cell_type": "code",
   "execution_count": 1,
   "metadata": {},
   "outputs": [
    {
     "name": "stdin",
     "output_type": "stream",
     "text": [
      " ·············\n"
     ]
    }
   ],
   "source": [
    "import sys\n",
    "sys.path.append('../')\n",
    "from config import configuration\n",
    "config = configuration()\n",
    "config.request_password()"
   ]
  },
  {
   "cell_type": "code",
   "execution_count": 33,
   "metadata": {},
   "outputs": [],
   "source": [
    "import sqlutilpy\n",
    "data_all = pd.DataFrame(\n",
    "         sqlutilpy.get('''\n",
    "         select * from jason_sanders.virac2_variables\n",
    "         ''',\n",
    "                    **config.wsdb_kwargs)\n",
    "       )"
   ]
  },
  {
   "cell_type": "code",
   "execution_count": 9,
   "metadata": {},
   "outputs": [],
   "source": [
    "from astropy.table import Table\n",
    "import astropy.units as u\n",
    "from astropy.coordinates import SkyCoord\n",
    "chen = Table.read('/data/jls/virac/chen2018_wise.fit')"
   ]
  },
  {
   "cell_type": "code",
   "execution_count": 34,
   "metadata": {},
   "outputs": [],
   "source": [
    "vvv = SkyCoord(ra=data_all['ra'].values*u.deg,dec=data_all['dec'].values*u.deg,frame='icrs')\n",
    "ccc = SkyCoord(ra=chen['RAJ2000'],dec=chen['DEJ2000'],frame='icrs')"
   ]
  },
  {
   "cell_type": "code",
   "execution_count": 35,
   "metadata": {},
   "outputs": [],
   "source": [
    "idx,d2d,d3d=vvv.match_to_catalog_sky(ccc)"
   ]
  },
  {
   "cell_type": "code",
   "execution_count": 38,
   "metadata": {},
   "outputs": [
    {
     "data": {
      "image/png": "[encoded data removed]",
      "text/plain": [
       "<Figure size 432x288 with 1 Axes>"
      ]
     },
     "metadata": {
      "needs_background": "light"
     },
     "output_type": "display_data"
    }
   ],
   "source": [
    "plt.hist(d2d.arcsec,bins=50,range=[0,1]);"
   ]
  },
  {
   "cell_type": "code",
   "execution_count": 45,
   "metadata": {},
   "outputs": [
    {
     "data": {
      "text/plain": [
       "[]"
      ]
     },
     "execution_count": 45,
     "metadata": {},
     "output_type": "execute_result"
    },
    {
     "data": {
      "image/png": "[encoded data removed]",
      "text/plain": [
       "<Figure size 432x288 with 1 Axes>"
      ]
     },
     "metadata": {
      "needs_background": "light"
     },
     "output_type": "display_data"
    }
   ],
   "source": [
    "plt.plot(data_all['period'][d2d.arcsec<1],\n",
    "         chen['Per'][idx[d2d.arcsec<1]],'.')\n",
    "plt.semilogx()\n",
    "plt.semilogy()"
   ]
  },
  {
   "cell_type": "code",
   "execution_count": 105,
   "metadata": {},
   "outputs": [
    {
     "name": "stdout",
     "output_type": "stream",
     "text": [
      "['CEP' 'CONST' 'EA/EB' 'EW' 'Ell' 'LPV' 'RRab' 'RRcd' 'T2CEP'] [ 12   1 117  78   2   1   3   1   7]\n"
     ]
    }
   ],
   "source": [
    "unqV,cntV=np.unique(data_all['class'][d2d.arcsec<1],return_counts=True)\n",
    "print(unqV,cntV)"
   ]
  },
  {
   "cell_type": "code",
   "execution_count": 48,
   "metadata": {},
   "outputs": [],
   "source": [
    "unq,cnt=np.unique(chen['Type'][idx[d2d.arcsec<1]],return_counts=True)"
   ]
  },
  {
   "cell_type": "code",
   "execution_count": 50,
   "metadata": {},
   "outputs": [
    {
     "data": {
      "text/plain": [
       "(<Column name='Type' dtype='bytes16' length=10>\n",
       " CepI           \n",
       " CepI/CepII     \n",
       " CepI/EA        \n",
       " CepII/ACep/CepI\n",
       " EA             \n",
       " EA/RR/EW       \n",
       " EW             \n",
       " EW/EA          \n",
       " Misc           \n",
       " RR             , array([ 13,   3,   1,   2,  35,  23, 109,  21,   3,  12]))"
      ]
     },
     "execution_count": 50,
     "metadata": {},
     "output_type": "execute_result"
    }
   ],
   "source": [
    "unq,cnt"
   ]
  },
  {
   "cell_type": "code",
   "execution_count": 61,
   "metadata": {},
   "outputs": [
    {
     "data": {
      "text/plain": [
       "'CepI           \\r'"
      ]
     },
     "execution_count": 61,
     "metadata": {},
     "output_type": "execute_result"
    }
   ],
   "source": [
    "unq[0]"
   ]
  },
  {
   "cell_type": "code",
   "execution_count": 52,
   "metadata": {},
   "outputs": [],
   "source": [
    "mtch_v=data_all[d2d.arcsec<1]\n",
    "mtch_c=chen[idx[d2d.arcsec<1]]"
   ]
  },
  {
   "cell_type": "code",
   "execution_count": 104,
   "metadata": {},
   "outputs": [
    {
     "data": {
      "text/plain": [
       "'LPV'"
      ]
     },
     "execution_count": 104,
     "metadata": {},
     "output_type": "execute_result"
    }
   ],
   "source": [
    "mtch_v['sourceid'][np.argmax(mtch_v['period'])]\n",
    "mtch_v['period'][np.argmax(mtch_v['period'])]\n",
    "mtch_v['class'][np.argmax(mtch_v['period'])]"
   ]
  },
  {
   "cell_type": "code",
   "execution_count": 74,
   "metadata": {},
   "outputs": [
    {
     "data": {
      "text/html": [
       "<i>Table length=12</i>\n",
       "<table id=\"table139819879131512\" class=\"table-striped table-bordered table-condensed\">\n",
       "<thead><tr><th>Seq</th><th>Per</th></tr></thead>\n",
       "<thead><tr><th></th><th>d</th></tr></thead>\n",
       "<thead><tr><th>int32</th><th>float64</th></tr></thead>\n",
       "<tr><td>38354</td><td>0.3709882</td></tr>\n",
       "<tr><td>38944</td><td>0.5831723</td></tr>\n",
       "<tr><td>25790</td><td>0.6849065</td></tr>\n",
       "<tr><td>25781</td><td>0.7103905</td></tr>\n",
       "<tr><td>22863</td><td>0.4574292</td></tr>\n",
       "<tr><td>22405</td><td>0.4512771</td></tr>\n",
       "<tr><td>26018</td><td>0.743553</td></tr>\n",
       "<tr><td>27784</td><td>0.3270866</td></tr>\n",
       "<tr><td>28109</td><td>0.3599187</td></tr>\n",
       "<tr><td>29322</td><td>0.5486508</td></tr>\n",
       "<tr><td>30936</td><td>0.3422769</td></tr>\n",
       "<tr><td>32127</td><td>0.3236445</td></tr>\n",
       "</table>"
      ],
      "text/plain": [
       "<Table length=12>\n",
       " Seq     Per   \n",
       "          d    \n",
       "int32  float64 \n",
       "----- ---------\n",
       "38354 0.3709882\n",
       "38944 0.5831723\n",
       "25790 0.6849065\n",
       "25781 0.7103905\n",
       "22863 0.4574292\n",
       "22405 0.4512771\n",
       "26018  0.743553\n",
       "27784 0.3270866\n",
       "28109 0.3599187\n",
       "29322 0.5486508\n",
       "30936 0.3422769\n",
       "32127 0.3236445"
      ]
     },
     "execution_count": 74,
     "metadata": {},
     "output_type": "execute_result"
    }
   ],
   "source": [
    "mtch_c[['Seq','Per']][mtch_c['Type']=='RR             \\r']"
   ]
  },
  {
   "cell_type": "code",
   "execution_count": 90,
   "metadata": {},
   "outputs": [
    {
     "data": {
      "text/plain": [
       "array([['EW', 9233482002795, 0.741975929956801],\n",
       "       ['RRab', 9667650003027, 0.581315738383965],\n",
       "       ['EW', 11479252005705, 1.36980649398222],\n",
       "       ['EA/EB', 11529194008561, 1.42636510156491],\n",
       "       ['EW', 11753635021901, 0.914877734082312],\n",
       "       ['RRab', 11796672007701, 0.451276494908783],\n",
       "       ['EA/EB', 11819079007350, 1.487096646348482],\n",
       "       ['EW', 11846067006143, 0.654160881764936],\n",
       "       ['EA/EB', 11886756015552, 0.721274791994736],\n",
       "       ['EA/EB', 11896193005430, 1.09399331374984],\n",
       "       ['EA/EB', 11907774003062, 0.684546314094743],\n",
       "       ['EA/EB', 11986800004744, 0.647293757518354]], dtype=object)"
      ]
     },
     "execution_count": 90,
     "metadata": {},
     "output_type": "execute_result"
    }
   ],
   "source": [
    "mtch_v[['class','sourceid','period']].values[mtch_c['Type']=='RR             \\r']"
   ]
  },
  {
   "cell_type": "code",
   "execution_count": 67,
   "metadata": {},
   "outputs": [
    {
     "data": {
      "text/plain": [
       "array([0.56259376, 0.9992873 , 0.62361866, 0.9224577 , 0.86612546,\n",
       "       0.9975321 , 0.51271594, 0.8478497 , 0.864852  , 0.9852223 ,\n",
       "       0.99566865, 0.9729538 ])"
      ]
     },
     "execution_count": 67,
     "metadata": {},
     "output_type": "execute_result"
    }
   ],
   "source": [
    "mtch_v['prob'].values[mtch_c['Type']=='RR             \\r']"
   ]
  },
  {
   "cell_type": "code",
   "execution_count": 62,
   "metadata": {},
   "outputs": [
    {
     "data": {
      "text/plain": [
       "array(['EA/EB', 'CEP', 'CEP', 'CEP', 'T2CEP', 'T2CEP', 'CEP', 'CEP',\n",
       "       'CEP', 'CEP', 'CEP', 'CEP', 'CEP'], dtype=object)"
      ]
     },
     "execution_count": 62,
     "metadata": {},
     "output_type": "execute_result"
    }
   ],
   "source": [
    "mtch_v['class'].values[mtch_c['Type']=='CepI           \\r']"
   ]
  },
  {
   "cell_type": "code",
   "execution_count": 68,
   "metadata": {},
   "outputs": [
    {
     "data": {
      "text/plain": [
       "array(['EA/EB', 'EA/EB', 'EA/EB', 'EA/EB', 'EA/EB', 'EA/EB', 'EA/EB',\n",
       "       'EA/EB', 'EA/EB', 'EA/EB', 'EA/EB', 'EA/EB', 'EA/EB', 'EA/EB',\n",
       "       'EA/EB', 'EA/EB', 'EA/EB', 'EA/EB', 'EA/EB', 'EA/EB', 'EA/EB',\n",
       "       'EA/EB', 'RRab'], dtype=object)"
      ]
     },
     "execution_count": 68,
     "metadata": {},
     "output_type": "execute_result"
    }
   ],
   "source": [
    "mtch_v['class'].values[mtch_c['Type']=='EA/RR/EW       \\r']"
   ]
  },
  {
   "cell_type": "code",
   "execution_count": 103,
   "metadata": {},
   "outputs": [
    {
     "data": {
      "image/png": "[encoded data removed]",
      "text/plain": [
       "<Figure size 432x288 with 1 Axes>"
      ]
     },
     "metadata": {
      "needs_background": "light"
     },
     "output_type": "display_data"
    }
   ],
   "source": [
    "plot_lc_sid(11860608030302, 0.,0.,131.2017069008575,4);"
   ]
  },
  {
   "cell_type": "code",
   "execution_count": 87,
   "metadata": {},
   "outputs": [],
   "source": [
    "import sys\n",
    "sys.path.append('../../../../')\n",
    "sys.path.append('../../../../variability/')\n",
    "from fine_classif.feat_extract.compute_feats import sigclipper, correct_to_HJD, LombScargle, optimum_regularization, fourier_poly_chi2_fit_full, retrieve_fourier_poly\n",
    "def get_lightcurve(sourceid):\n",
    "\n",
    "    lcs = pd.DataFrame(sqlutilpy.get('''\n",
    "                                select sourceid, \n",
    "                                unnest(mjdobs) as mjdobs,\n",
    "                                unnest(mag) as mag,\n",
    "                                unnest(emag) as emag,\n",
    "                                unnest(filterid) as filterid,\n",
    "                                unnest(chi) as chi,\n",
    "                                unnest(ast_res_chisq) as ast_res_chisq,\n",
    "                                unnest(ambiguous_match) as ambiguous_match  \n",
    "                                from leigh_smith.virac2_ts_tmolnar_train_zyjhk where sourceid={0}'''.format(sourceid),\n",
    "                     **config.wsdb_kwargs))\n",
    "    \n",
    "    if len(lcs)==0:\n",
    "\n",
    "        lcs = pd.DataFrame(sqlutilpy.get('''\n",
    "                                    select sourceid, \n",
    "                                    unnest(mjdobs) as mjdobs,\n",
    "                                    unnest(mag) as mag,\n",
    "                                    unnest(emag) as emag,\n",
    "                                    unnest(filterid) as filterid,\n",
    "                                    unnest(chi) as chi,\n",
    "                                    unnest(ast_res_chisq) as ast_res_chisq,\n",
    "                                    unnest(ambiguous_match) as ambiguous_match  \n",
    "                                    from leigh_smith.virac2_ts_tmolnar_variables where sourceid={0}'''.format(sourceid),\n",
    "                         **config.wsdb_kwargs))\n",
    "    \n",
    "    return lcs\n",
    "\n",
    "def load_lc(sid, ra, dec):\n",
    "    lc=get_lightcurve(sid)\n",
    "    clean = (lc['filterid']==5)&(lc['ambiguous_match']==0)&(lc['ast_res_chisq']<11.829)&\\\n",
    "        (~((lc['chi']>5.)&(lc['mag']<13.2)))\n",
    "    lc = sigclipper(lc[clean])\n",
    "\n",
    "    correct_to_HJD(lc,\n",
    "                 ra,\n",
    "                 dec)\n",
    "    return lc\n",
    "\n",
    "def plot_lc_sid(sid,ra,dec,per,nterms,ax=None,reg=True,xlabel=False,right=False,offs=0,pcolor='gray',\n",
    "               mcolor='#FFA500',ps='o',ttitle='',ylabel=True):\n",
    "    \n",
    "    lc = load_lc(sid, ra, dec)\n",
    "\n",
    "    tt = lc['HJD'].values[np.argmin(np.abs(lc['mag'].values-np.nanpercentile(lc['mag'],98.)))]\n",
    "\n",
    "    model = LombScargle(lc['HJD'].values-tt, lc['mag'].values, \n",
    "                        lc['emag'].values, normalization='standard')\n",
    "    freq, power = model.autopower(maximum_frequency=10.)\n",
    "\n",
    "    if xlabel:\n",
    "        plt.xlabel('Phase')\n",
    "    if ylabel:\n",
    "        plt.ylabel(r'$K_s$ + arbitrary offset [mag] ')\n",
    "#     nterms=combo_dset['lsq_nterms'].values[fltr][ii]\n",
    "    opt_reg=0\n",
    "    if reg:\n",
    "        opt_reg=optimum_regularization(lc['mag'].values, lc['emag'].values)\n",
    "\n",
    "    results_d = fourier_poly_chi2_fit_full(\n",
    "                                             times=lc['HJD'].values-tt,\n",
    "                                             mag=lc['mag'].values,\n",
    "                                             err=lc['emag'].values,\n",
    "                                             freq_dict={'freq_grid':np.array([1./per])},\n",
    "                                             nterms=np.int64(nterms),\n",
    "                                             npoly=2,\n",
    "                                             regularization=opt_reg,\n",
    "                                             time_zeropoint_poly=0.,\n",
    "                                             regularize_by_trace = True,\n",
    "                                             check_multiples=False, \n",
    "                                             use_power_of_2=False,\n",
    "                                             return_period_error=False)\n",
    "\n",
    "    xx=np.linspace(-1.1*per,3.1*per,5000)\n",
    "    FF = retrieve_fourier_poly(xx,\n",
    "                               results_d)\n",
    "    xx0 = xx[np.argmax(FF[xx<0])]\n",
    "    \n",
    "    plt.errorbar((((lc['HJD'].values-tt-xx0)%(2.*per))/per),\n",
    "                 lc['mag'].values-np.nanmedian(FF)+offs,\n",
    "                 yerr=lc['emag'].values,fmt=ps,color=pcolor,mew=0.5,mec='k',alpha=0.5,ms=5,\n",
    "                rasterized=True)\n",
    "#     plt.ylim(np.nanmean(lc['mag'].values)-0.3,np.nanmean(lc['mag'].values)+0.3)\n",
    "    plt.gca().invert_yaxis()\n",
    "    plt.xlim(-0.1,2.1)\n",
    "    # plt.ylim(-0.5,0.5)\n",
    "    \n",
    "    tt = plt.annotate('%0.2fd'%per,xy=(2.,offs),ha='right',va='center',zorder=100,fontsize=12)\n",
    "    tt.set_bbox({'facecolor':'white', 'alpha':0.7,'edgecolor':'None','pad':1.})\n",
    "    \n",
    "    plt.plot((xx-xx0)/per, FF-np.nanmedian(FF)+offs,color=mcolor,lw=3,zorder=10,alpha=0.85)\n",
    "\n",
    "    if offs==0:\n",
    "        plt.ylim(np.nanmax(FF)+0.15-np.nanmedian(FF),np.nanmin(FF)-0.15-np.nanmedian(FF))\n",
    "    \n",
    "    if right:\n",
    "        plt.gca().yaxis.set_label_position(\"right\")\n",
    "        plt.gca().yaxis.tick_right()\n",
    "    plt.title(ttitle,fontsize=16)\n",
    "    return results_d"
   ]
  },
  {
   "cell_type": "code",
   "execution_count": null,
   "metadata": {},
   "outputs": [],
   "source": []
  }
 ],
 "metadata": {
  "kernelspec": {
   "display_name": "Python 3",
   "language": "python",
   "name": "python3"
  },
  "language_info": {
   "codemirror_mode": {
    "name": "ipython",
    "version": 3
   },
   "file_extension": ".py",
   "mimetype": "text/x-python",
   "name": "python",
   "nbconvert_exporter": "python",
   "pygments_lexer": "ipython3",
   "version": "3.5.2"
  }
 },
 "nbformat": 4,
 "nbformat_minor": 4
}
