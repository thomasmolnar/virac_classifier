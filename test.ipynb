{
 "cells": [
  {
   "cell_type": "code",
   "execution_count": 7,
   "metadata": {},
   "outputs": [],
   "source": [
    "from initial_classif.trainset.variable_training_sets import *"
   ]
  },
  {
   "cell_type": "code",
   "execution_count": 101,
   "metadata": {},
   "outputs": [],
   "source": [
    "v = load_all_variable_stars().sort_values(by='virac2_id').reset_index(drop=True)"
   ]
  },
  {
   "cell_type": "code",
   "execution_count": 102,
   "metadata": {},
   "outputs": [
    {
     "name": "stdout",
     "output_type": "stream",
     "text": [
      "['CEP' 'DSCT' 'EA/EB' 'EW' 'Ell' 'MIRA' 'OSARG' 'RRab' 'RRc' 'RRd' 'SRV'\n",
      " 'T2CEP']\n"
     ]
    }
   ],
   "source": [
    "print(np.unique(v['var_class']))"
   ]
  },
  {
   "cell_type": "code",
   "execution_count": 103,
   "metadata": {},
   "outputs": [
    {
     "data": {
      "text/html": [
       "<div>\n",
       "<style scoped>\n",
       "    .dataframe tbody tr th:only-of-type {\n",
       "        vertical-align: middle;\n",
       "    }\n",
       "\n",
       "    .dataframe tbody tr th {\n",
       "        vertical-align: top;\n",
       "    }\n",
       "\n",
       "    .dataframe thead th {\n",
       "        text-align: right;\n",
       "    }\n",
       "</style>\n",
       "<table border=\"1\" class=\"dataframe\">\n",
       "  <thead>\n",
       "    <tr style=\"text-align: right;\">\n",
       "      <th></th>\n",
       "      <th>virac2_id</th>\n",
       "    </tr>\n",
       "    <tr>\n",
       "      <th>var_class</th>\n",
       "      <th></th>\n",
       "    </tr>\n",
       "  </thead>\n",
       "  <tbody>\n",
       "    <tr>\n",
       "      <th>CEP</th>\n",
       "      <td>729</td>\n",
       "    </tr>\n",
       "    <tr>\n",
       "      <th>DSCT</th>\n",
       "      <td>294</td>\n",
       "    </tr>\n",
       "    <tr>\n",
       "      <th>EA/EB</th>\n",
       "      <td>326556</td>\n",
       "    </tr>\n",
       "    <tr>\n",
       "      <th>EW</th>\n",
       "      <td>82813</td>\n",
       "    </tr>\n",
       "    <tr>\n",
       "      <th>Ell</th>\n",
       "      <td>24268</td>\n",
       "    </tr>\n",
       "    <tr>\n",
       "      <th>MIRA</th>\n",
       "      <td>4164</td>\n",
       "    </tr>\n",
       "    <tr>\n",
       "      <th>OSARG</th>\n",
       "      <td>181244</td>\n",
       "    </tr>\n",
       "    <tr>\n",
       "      <th>RRab</th>\n",
       "      <td>25474</td>\n",
       "    </tr>\n",
       "    <tr>\n",
       "      <th>RRc</th>\n",
       "      <td>10728</td>\n",
       "    </tr>\n",
       "    <tr>\n",
       "      <th>RRd</th>\n",
       "      <td>152</td>\n",
       "    </tr>\n",
       "    <tr>\n",
       "      <th>SRV</th>\n",
       "      <td>23754</td>\n",
       "    </tr>\n",
       "    <tr>\n",
       "      <th>T2CEP</th>\n",
       "      <td>1106</td>\n",
       "    </tr>\n",
       "  </tbody>\n",
       "</table>\n",
       "</div>"
      ],
      "text/plain": [
       "           virac2_id\n",
       "var_class           \n",
       "CEP              729\n",
       "DSCT             294\n",
       "EA/EB         326556\n",
       "EW             82813\n",
       "Ell            24268\n",
       "MIRA            4164\n",
       "OSARG         181244\n",
       "RRab           25474\n",
       "RRc            10728\n",
       "RRd              152\n",
       "SRV            23754\n",
       "T2CEP           1106"
      ]
     },
     "execution_count": 103,
     "metadata": {},
     "output_type": "execute_result"
    }
   ],
   "source": [
    "v[['virac2_id','var_class']].groupby('var_class').agg('count')"
   ]
  },
  {
   "cell_type": "code",
   "execution_count": 91,
   "metadata": {},
   "outputs": [],
   "source": [
    "from initial_classif.trainset.gaia_extraction import *\n",
    "import sys\n",
    "sys.path.append('../../../')\n",
    "from virac_utils import wsdb_kwargs, wrap, betw"
   ]
  },
  {
   "cell_type": "code",
   "execution_count": 66,
   "metadata": {},
   "outputs": [],
   "source": [
    "g = generate_gaia_training_set(359.8,2,0.04*60.,0.1*60,50.,**wsdb_kwargs)"
   ]
  },
  {
   "cell_type": "code",
   "execution_count": 89,
   "metadata": {},
   "outputs": [],
   "source": [
    "from interface_utils.add_stats import *"
   ]
  },
  {
   "cell_type": "code",
   "execution_count": 108,
   "metadata": {},
   "outputs": [],
   "source": [
    "dsetsV = cm_virac(v[['virac2_id']],**wsdb_kwargs)"
   ]
  },
  {
   "cell_type": "code",
   "execution_count": 128,
   "metadata": {},
   "outputs": [],
   "source": [
    "small_subset = v[betw(wrap(dsetsV['l']),-0.22,-0.18)&betw(dsetsV['b'],1.95,2.05)].reset_index(drop=True)\n",
    "small_subsetV = dsetsV[betw(wrap(dsetsV['l']),-0.22,-0.18)&betw(dsetsV['b'],1.95,2.05)].reset_index(drop=True)"
   ]
  },
  {
   "cell_type": "code",
   "execution_count": 124,
   "metadata": {},
   "outputs": [
    {
     "name": "stderr",
     "output_type": "stream",
     "text": [
      "/data/jls/python3.5/site-packages/sqlutilpy/sqlutil.py:398: UserWarning: Column name sourceid is repeated in the output, new name sourceid_1 assigned\n",
      "  'new name %s assigned') % (_n, curn))\n"
     ]
    }
   ],
   "source": [
    "dsets = cm_virac_stats_table(small_subset,**wsdb_kwargs)"
   ]
  },
  {
   "cell_type": "code",
   "execution_count": 132,
   "metadata": {},
   "outputs": [
    {
     "data": {
      "text/plain": [
       "[<matplotlib.lines.Line2D at 0x7f5f76033b00>]"
      ]
     },
     "execution_count": 132,
     "metadata": {},
     "output_type": "execute_result"
    },
    {
     "data": {
      "image/png": "[encoded data removed]",
      "text/plain": [
       "<Figure size 432x288 with 1 Axes>"
      ]
     },
     "metadata": {
      "needs_background": "light"
     },
     "output_type": "display_data"
    }
   ],
   "source": [
    "plt.plot(wrap(g['l']),g['b'],'.')\n",
    "plt.plot(wrap(small_subsetV['l']),small_subsetV['b'],'.',ms=30)"
   ]
  },
  {
   "cell_type": "code",
   "execution_count": 140,
   "metadata": {},
   "outputs": [],
   "source": [
    "from initial_classif.classifier.classifier import *"
   ]
  },
  {
   "cell_type": "code",
   "execution_count": 166,
   "metadata": {},
   "outputs": [],
   "source": [
    "g['class']='CONST'\n",
    "dsets['class']='VAR'"
   ]
  },
  {
   "cell_type": "code",
   "execution_count": 182,
   "metadata": {},
   "outputs": [
    {
     "name": "stdout",
     "output_type": "stream",
     "text": [
      "15 sources removed from clip.\n",
      "1573 sources left\n",
      "       ks_kurtosis\n",
      "class             \n",
      "CONST         1566\n",
      "VAR              7\n"
     ]
    }
   ],
   "source": [
    "full_data = pd.concat([dsets, g], axis=0, sort=False)\n",
    "    \n",
    "classfier = binary_classification(full_data)"
   ]
  },
  {
   "cell_type": "code",
   "execution_count": 187,
   "metadata": {},
   "outputs": [
    {
     "data": {
      "text/plain": [
       "'              precision    recall  f1-score   support\\n\\n       CONST       1.00      0.98      0.99      1566\\n         VAR       0.00      0.00      0.00         7\\n\\n    accuracy                           0.98      1573\\n   macro avg       0.50      0.49      0.49      1573\\nweighted avg       0.99      0.98      0.98      1573\\n'"
      ]
     },
     "execution_count": 187,
     "metadata": {},
     "output_type": "execute_result"
    }
   ],
   "source": [
    "classfier.cr"
   ]
  },
  {
   "cell_type": "code",
   "execution_count": null,
   "metadata": {},
   "outputs": [],
   "source": []
  }
 ],
 "metadata": {
  "kernelspec": {
   "display_name": "Python 3",
   "language": "python",
   "name": "python3"
  },
  "language_info": {
   "codemirror_mode": {
    "name": "ipython",
    "version": 3
   },
   "file_extension": ".py",
   "mimetype": "text/x-python",
   "name": "python",
   "nbconvert_exporter": "python",
   "pygments_lexer": "ipython3",
   "version": "3.5.2"
  }
 },
 "nbformat": 4,
 "nbformat_minor": 4
}
