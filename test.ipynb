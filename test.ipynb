{
 "cells": [
  {
   "cell_type": "code",
   "execution_count": 95,
   "metadata": {},
   "outputs": [],
   "source": [
    "from initial_classif.trainset.variable_training_sets import *\n",
    "from initial_classif.trainset.gaia_extraction import *\n",
    "import sys\n",
    "from astropy.coordinates import SkyCoord\n",
    "import astropy.units as u\n",
    "sys.path.append('../../../')\n",
    "from virac_utils import wsdb_kwargs, wrap, betw\n",
    "\n",
    "config.config_['general']['password']=wsdb_kwargs['password']\n",
    "del wsdb_kwargs['password']\n",
    "\n",
    "from interface_utils import light_curve_loader\n",
    "ll = light_curve_loader.lightcurve_loader()"
   ]
  },
  {
   "cell_type": "code",
   "execution_count": 127,
   "metadata": {},
   "outputs": [],
   "source": [
    "### Good for stage 1\n",
    "lcentre, bcentre, test_sizel, test_sizeb = 1.275,-0.385, 0.09*60., 0.09*60"
   ]
  },
  {
   "cell_type": "markdown",
   "metadata": {},
   "source": [
    "## Binary classification"
   ]
  },
  {
   "cell_type": "code",
   "execution_count": 47,
   "metadata": {},
   "outputs": [
    {
     "data": {
      "text/html": [
       "<div>\n",
       "<style scoped>\n",
       "    .dataframe tbody tr th:only-of-type {\n",
       "        vertical-align: middle;\n",
       "    }\n",
       "\n",
       "    .dataframe tbody tr th {\n",
       "        vertical-align: top;\n",
       "    }\n",
       "\n",
       "    .dataframe thead th {\n",
       "        text-align: right;\n",
       "    }\n",
       "</style>\n",
       "<table border=\"1\" class=\"dataframe\">\n",
       "  <thead>\n",
       "    <tr style=\"text-align: right;\">\n",
       "      <th></th>\n",
       "      <th>virac2_id</th>\n",
       "    </tr>\n",
       "    <tr>\n",
       "      <th>var_class</th>\n",
       "      <th></th>\n",
       "    </tr>\n",
       "  </thead>\n",
       "  <tbody>\n",
       "    <tr>\n",
       "      <th>CEP</th>\n",
       "      <td>37</td>\n",
       "    </tr>\n",
       "    <tr>\n",
       "      <th>DSCT</th>\n",
       "      <td>10</td>\n",
       "    </tr>\n",
       "    <tr>\n",
       "      <th>EA/EB</th>\n",
       "      <td>20470</td>\n",
       "    </tr>\n",
       "    <tr>\n",
       "      <th>EW</th>\n",
       "      <td>5198</td>\n",
       "    </tr>\n",
       "    <tr>\n",
       "      <th>Ell</th>\n",
       "      <td>1432</td>\n",
       "    </tr>\n",
       "    <tr>\n",
       "      <th>MIRA</th>\n",
       "      <td>13</td>\n",
       "    </tr>\n",
       "    <tr>\n",
       "      <th>OSARG</th>\n",
       "      <td>1970</td>\n",
       "    </tr>\n",
       "    <tr>\n",
       "      <th>RRab</th>\n",
       "      <td>1592</td>\n",
       "    </tr>\n",
       "    <tr>\n",
       "      <th>RRc</th>\n",
       "      <td>639</td>\n",
       "    </tr>\n",
       "    <tr>\n",
       "      <th>RRd</th>\n",
       "      <td>9</td>\n",
       "    </tr>\n",
       "    <tr>\n",
       "      <th>SRV</th>\n",
       "      <td>26</td>\n",
       "    </tr>\n",
       "    <tr>\n",
       "      <th>T2CEP</th>\n",
       "      <td>65</td>\n",
       "    </tr>\n",
       "  </tbody>\n",
       "</table>\n",
       "</div>"
      ],
      "text/plain": [
       "           virac2_id\n",
       "var_class           \n",
       "CEP               37\n",
       "DSCT              10\n",
       "EA/EB          20470\n",
       "EW              5198\n",
       "Ell             1432\n",
       "MIRA              13\n",
       "OSARG           1970\n",
       "RRab            1592\n",
       "RRc              639\n",
       "RRd                9\n",
       "SRV               26\n",
       "T2CEP             65"
      ]
     },
     "execution_count": 47,
     "metadata": {},
     "output_type": "execute_result"
    }
   ],
   "source": [
    "v = load_all_variable_stars(**wsdb_kwargs).sort_values(by='virac2_id').reset_index(drop=True)\n",
    "# c = SkyCoord(ra=v['ra']*u.deg, dec=v['dec']*u.deg, frame='icrs').transform_to('galactic')\n",
    "# v['l'], v['b'] = c.l.deg, c.b.deg\n",
    "# v = v[betw(v['l'],lcentre-test_sizel*.5/60.,lcentre+test_sizel*.5/60.) & betw(v['b'],bcentre-test_sizeb*.5/60.,lcentre+test_sizeb*.5/60.)].reset_index(drop=True)\n",
    "v[['virac2_id','var_class']].groupby('var_class').agg('count')\n"
   ]
  },
  {
   "cell_type": "code",
   "execution_count": 191,
   "metadata": {},
   "outputs": [
    {
     "name": "stderr",
     "output_type": "stream",
     "text": [
      "/data/jls/python3.5/site-packages/sqlutilpy/sqlutil.py:398: UserWarning: Column name sourceid is repeated in the output, new name sourceid_1 assigned\n",
      "  'new name %s assigned') % (_n, curn))\n"
     ]
    }
   ],
   "source": [
    "g = generate_gaia_training_set(lcentre, bcentre, test_sizel, test_sizeb, 50., **wsdb_kwargs)"
   ]
  },
  {
   "cell_type": "code",
   "execution_count": 132,
   "metadata": {},
   "outputs": [
    {
     "data": {
      "text/plain": [
       "(-0.5, 0.5)"
      ]
     },
     "execution_count": 132,
     "metadata": {},
     "output_type": "execute_result"
    },
    {
     "data": {
      "image/png": "[encoded data removed]",
      "text/plain": [
       "<Figure size 432x288 with 1 Axes>"
      ]
     },
     "metadata": {
      "needs_background": "light"
     },
     "output_type": "display_data"
    }
   ],
   "source": [
    "c = SkyCoord(ra=v['ra']*u.deg, dec=v['dec']*u.deg, frame='icrs').transform_to('galactic')\n",
    "v['l'], v['b'] = c.l.deg, c.b.deg\n",
    "plt.plot(wrap(v['l']),v['b'],'.',ms=1)\n",
    "plt.plot(wrap(g['l']),g['b'],'.',ms=1)\n",
    "# plt.xlim(260.,270.)\n",
    "# plt.ylim(-30,-25)\n",
    "plt.xlim(0.,2.)\n",
    "plt.ylim(-0.5,0.5)"
   ]
  },
  {
   "cell_type": "code",
   "execution_count": 193,
   "metadata": {},
   "outputs": [],
   "source": [
    "v['class']='VAR'\n",
    "g['class']='CONST'\n",
    "full_data = pd.concat([v, g], axis=0, sort=False)"
   ]
  },
  {
   "cell_type": "code",
   "execution_count": 195,
   "metadata": {},
   "outputs": [
    {
     "data": {
      "image/png": "[encoded data removed]",
      "text/plain": [
       "<Figure size 432x288 with 1 Axes>"
      ]
     },
     "metadata": {
      "needs_background": "light"
     },
     "output_type": "display_data"
    }
   ],
   "source": [
    "plt.hist(np.log10(full_data['ks_p100_p0']),bins=150);"
   ]
  },
  {
   "cell_type": "code",
   "execution_count": 196,
   "metadata": {},
   "outputs": [
    {
     "name": "stdout",
     "output_type": "stream",
     "text": [
      "       ks_pspl_mean_loglike_outside_three_te\n",
      "class                                       \n",
      "CONST                                    722\n",
      "VAR                                    25708\n",
      "ks_stdev 32319\n",
      "ks_mad 32277\n",
      "ks_kurtosis 32216\n",
      "ks_skew 32176\n",
      "ks_p100_p0 32143\n",
      "ks_p99_p1 32126\n",
      "ks_p95_p5 32116\n",
      "ks_p84_p16 32110\n",
      "ks_p75_p25 32104\n",
      "302 sources removed from clip.\n",
      "32104 sources left\n",
      "       ks_p95_p5\n",
      "class           \n",
      "CONST        907\n",
      "VAR        31197\n"
     ]
    }
   ],
   "source": [
    "from initial_classif.classifier.classifier import binary_classification\n",
    "classfier = binary_classification(full_data)"
   ]
  },
  {
   "cell_type": "code",
   "execution_count": 198,
   "metadata": {},
   "outputs": [
    {
     "data": {
      "text/plain": [
       "array([[  211,   696],\n",
       "       [ 1107, 30090]])"
      ]
     },
     "execution_count": 198,
     "metadata": {},
     "output_type": "execute_result"
    }
   ],
   "source": [
    "classfier.cm"
   ]
  },
  {
   "cell_type": "code",
   "execution_count": 199,
   "metadata": {},
   "outputs": [
    {
     "data": {
      "text/plain": [
       "'              precision    recall  f1-score   support\\n\\n       CONST       0.16      0.23      0.19       907\\n         VAR       0.98      0.96      0.97     31197\\n\\n    accuracy                           0.94     32104\\n   macro avg       0.57      0.60      0.58     32104\\nweighted avg       0.95      0.94      0.95     32104\\n'"
      ]
     },
     "execution_count": 199,
     "metadata": {},
     "output_type": "execute_result"
    }
   ],
   "source": [
    "classfier.cr"
   ]
  },
  {
   "cell_type": "code",
   "execution_count": 210,
   "metadata": {},
   "outputs": [],
   "source": [
    "grid_from_pickle = pickle.load(open('/local/scratch_2/jls/virac_classifier/binary/grid_test.pkl', 'rb'))\n",
    "classifier_from_pickle = pickle.load(open('/local/scratch_2/jls/virac_classifier/binary/binary_0_test.pkl', 'rb'))"
   ]
  },
  {
   "cell_type": "code",
   "execution_count": 211,
   "metadata": {},
   "outputs": [
    {
     "data": {
      "text/html": [
       "<div>\n",
       "<style scoped>\n",
       "    .dataframe tbody tr th:only-of-type {\n",
       "        vertical-align: middle;\n",
       "    }\n",
       "\n",
       "    .dataframe tbody tr th {\n",
       "        vertical-align: top;\n",
       "    }\n",
       "\n",
       "    .dataframe thead th {\n",
       "        text-align: right;\n",
       "    }\n",
       "</style>\n",
       "<table border=\"1\" class=\"dataframe\">\n",
       "  <thead>\n",
       "    <tr style=\"text-align: right;\">\n",
       "      <th></th>\n",
       "      <th>b</th>\n",
       "      <th>index</th>\n",
       "      <th>l</th>\n",
       "    </tr>\n",
       "  </thead>\n",
       "  <tbody>\n",
       "    <tr>\n",
       "      <th>0</th>\n",
       "      <td>-0.385</td>\n",
       "      <td>0</td>\n",
       "      <td>1.275</td>\n",
       "    </tr>\n",
       "  </tbody>\n",
       "</table>\n",
       "</div>"
      ],
      "text/plain": [
       "       b  index      l\n",
       "0 -0.385      0  1.275"
      ]
     },
     "execution_count": 211,
     "metadata": {},
     "output_type": "execute_result"
    }
   ],
   "source": [
    "grid_from_pickle"
   ]
  },
  {
   "cell_type": "code",
   "execution_count": 217,
   "metadata": {},
   "outputs": [
    {
     "data": {
      "text/plain": [
       "56"
      ]
     },
     "execution_count": 217,
     "metadata": {},
     "output_type": "execute_result"
    }
   ],
   "source": [
    "import sys\n",
    "sys.getsizeof(classifier_from_pickle.model)"
   ]
  },
  {
   "cell_type": "markdown",
   "metadata": {},
   "source": [
    "## Variable classification"
   ]
  },
  {
   "cell_type": "code",
   "execution_count": 197,
   "metadata": {},
   "outputs": [],
   "source": [
    "### Good for stage 2\n",
    "lcentre, bcentre, test_sizel, test_sizeb = 0.787411, -0.054603, 0.09*60., 0.09*60"
   ]
  },
  {
   "cell_type": "code",
   "execution_count": 107,
   "metadata": {},
   "outputs": [
    {
     "name": "stdout",
     "output_type": "stream",
     "text": [
      "/data/jls/virac/n512_2318830.hdf5\n"
     ]
    }
   ],
   "source": [
    "lc = ll(g['sourceid'])"
   ]
  },
  {
   "cell_type": "code",
   "execution_count": null,
   "metadata": {},
   "outputs": [],
   "source": []
  }
 ],
 "metadata": {
  "kernelspec": {
   "display_name": "Python 3",
   "language": "python",
   "name": "python3"
  },
  "language_info": {
   "codemirror_mode": {
    "name": "ipython",
    "version": 3
   },
   "file_extension": ".py",
   "mimetype": "text/x-python",
   "name": "python",
   "nbconvert_exporter": "python",
   "pygments_lexer": "ipython3",
   "version": "3.5.2"
  }
 },
 "nbformat": 4,
 "nbformat_minor": 4
}
