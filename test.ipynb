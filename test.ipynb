{
 "cells": [
  {
   "cell_type": "code",
   "execution_count": 1,
   "metadata": {},
   "outputs": [
    {
     "name": "stdin",
     "output_type": "stream",
     "text": [
      " ·············\n"
     ]
    }
   ],
   "source": [
    "from initial_classif.trainset.variable_training_sets import *\n",
    "from initial_classif.trainset.gaia_extraction import *\n",
    "import sys\n",
    "from astropy.coordinates import SkyCoord\n",
    "import astropy.units as u\n",
    "sys.path.append('../../../')\n",
    "from virac_utils import wrap, betw\n",
    "\n",
    "from config import *\n",
    "config=configuration()\n",
    "config.request_password()\n",
    "\n",
    "from interface_utils import light_curve_loader\n",
    "ll = light_curve_loader.lightcurve_loader()"
   ]
  },
  {
   "cell_type": "code",
   "execution_count": 6,
   "metadata": {},
   "outputs": [],
   "source": [
    "### Good for stage 2\n",
    "lcentre, bcentre, test_sizel, test_sizeb = 0.787411, -0.054603, 0.09*60., 0.09*60"
   ]
  },
  {
   "cell_type": "markdown",
   "metadata": {},
   "source": [
    "## Binary classification"
   ]
  },
  {
   "cell_type": "code",
   "execution_count": 2,
   "metadata": {},
   "outputs": [
    {
     "name": "stderr",
     "output_type": "stream",
     "text": [
      "/data/jls/python3.5/site-packages/sqlutilpy/sqlutil.py:398: UserWarning: Column name sourceid is repeated in the output, new name sourceid_1 assigned\n",
      "  'new name %s assigned') % (_n, curn))\n"
     ]
    },
    {
     "data": {
      "text/html": [
       "<div>\n",
       "<style scoped>\n",
       "    .dataframe tbody tr th:only-of-type {\n",
       "        vertical-align: middle;\n",
       "    }\n",
       "\n",
       "    .dataframe tbody tr th {\n",
       "        vertical-align: top;\n",
       "    }\n",
       "\n",
       "    .dataframe thead th {\n",
       "        text-align: right;\n",
       "    }\n",
       "</style>\n",
       "<table border=\"1\" class=\"dataframe\">\n",
       "  <thead>\n",
       "    <tr style=\"text-align: right;\">\n",
       "      <th></th>\n",
       "      <th>virac2_id</th>\n",
       "    </tr>\n",
       "    <tr>\n",
       "      <th>var_class</th>\n",
       "      <th></th>\n",
       "    </tr>\n",
       "  </thead>\n",
       "  <tbody>\n",
       "    <tr>\n",
       "      <th>EA/EB</th>\n",
       "      <td>210</td>\n",
       "    </tr>\n",
       "    <tr>\n",
       "      <th>EW</th>\n",
       "      <td>47</td>\n",
       "    </tr>\n",
       "    <tr>\n",
       "      <th>Ell</th>\n",
       "      <td>13</td>\n",
       "    </tr>\n",
       "    <tr>\n",
       "      <th>RRab</th>\n",
       "      <td>21</td>\n",
       "    </tr>\n",
       "    <tr>\n",
       "      <th>RRc</th>\n",
       "      <td>9</td>\n",
       "    </tr>\n",
       "    <tr>\n",
       "      <th>T2CEP</th>\n",
       "      <td>2</td>\n",
       "    </tr>\n",
       "  </tbody>\n",
       "</table>\n",
       "</div>"
      ],
      "text/plain": [
       "           virac2_id\n",
       "var_class           \n",
       "EA/EB            210\n",
       "EW                47\n",
       "Ell               13\n",
       "RRab              21\n",
       "RRc                9\n",
       "T2CEP              2"
      ]
     },
     "execution_count": 2,
     "metadata": {},
     "output_type": "execute_result"
    }
   ],
   "source": [
    "v = load_all_variable_stars(config, test=True)\n",
    "# c = SkyCoord(ra=v['ra']*u.deg, dec=v['dec']*u.deg, frame='icrs').transform_to('galactic')\n",
    "# v['l'], v['b'] = c.l.deg, c.b.deg\n",
    "# v = v[betw(v['l'],lcentre-test_sizel*.5/60.,lcentre+test_sizel*.5/60.) & betw(v['b'],bcentre-test_sizeb*.5/60.,lcentre+test_sizeb*.5/60.)].reset_index(drop=True)\n",
    "v[['virac2_id','var_class']].groupby('var_class').agg('count')"
   ]
  },
  {
   "cell_type": "code",
   "execution_count": 3,
   "metadata": {},
   "outputs": [],
   "source": [
    "c = SkyCoord(ra=v['ra_x'].values*u.deg, dec=v['dec_x'].values*u.deg, frame='icrs').transform_to('galactic')\n",
    "v['l'], v['b'] = c.l.deg, c.b.deg"
   ]
  },
  {
   "cell_type": "code",
   "execution_count": 13,
   "metadata": {},
   "outputs": [],
   "source": [
    "g = generate_gaia_training_set(lcentre, bcentre, test_sizel, test_sizeb, 50., len(v), config)"
   ]
  },
  {
   "cell_type": "code",
   "execution_count": 14,
   "metadata": {},
   "outputs": [
    {
     "data": {
      "image/png": "[encoded data removed]",
      "text/plain": [
       "<Figure size 1080x360 with 1 Axes>"
      ]
     },
     "metadata": {
      "needs_background": "light"
     },
     "output_type": "display_data"
    }
   ],
   "source": [
    "plt.figure(figsize=[15.,5.])\n",
    "# plt.plot(wrap(v['l']),v['b'],'.',ms=0.1)\n",
    "plt.plot(wrap(v['l']),v['b'],'.',ms=5)\n",
    "plt.plot(wrap(g['l']),g['b'],'.',ms=1)\n",
    "# plt.xlim(260.,270.)\n",
    "# plt.ylim(-30,-25)\n",
    "# plt.xlim(0.,2.)\n",
    "# plt.ylim(-0.5,0.5)\n",
    "plt.gca().invert_xaxis()"
   ]
  },
  {
   "cell_type": "code",
   "execution_count": 18,
   "metadata": {},
   "outputs": [],
   "source": [
    "v['class']='VAR'\n",
    "g['class']='CONST'\n",
    "full_data = pd.concat([v, g], axis=0, sort=False)"
   ]
  },
  {
   "cell_type": "code",
   "execution_count": 24,
   "metadata": {},
   "outputs": [
    {
     "name": "stdout",
     "output_type": "stream",
     "text": [
      "10.620000000000001% sources removed from clip.\n",
      "       ks_stetson_j\n",
      "class              \n",
      "CONST           272\n",
      "VAR             274\n"
     ]
    }
   ],
   "source": [
    "from initial_classif.classifier.classifier import binary_classification\n",
    "classfier = binary_classification(full_data)"
   ]
  },
  {
   "cell_type": "code",
   "execution_count": 25,
   "metadata": {},
   "outputs": [
    {
     "data": {
      "text/plain": [
       "array([[230,  42],\n",
       "       [ 28, 246]])"
      ]
     },
     "execution_count": 25,
     "metadata": {},
     "output_type": "execute_result"
    }
   ],
   "source": [
    "classfier.cm"
   ]
  },
  {
   "cell_type": "code",
   "execution_count": 26,
   "metadata": {},
   "outputs": [
    {
     "data": {
      "text/plain": [
       "'              precision    recall  f1-score   support\\n\\n       CONST       0.89      0.85      0.87       272\\n         VAR       0.85      0.90      0.88       274\\n\\n    accuracy                           0.87       546\\n   macro avg       0.87      0.87      0.87       546\\nweighted avg       0.87      0.87      0.87       546\\n'"
      ]
     },
     "execution_count": 26,
     "metadata": {},
     "output_type": "execute_result"
    }
   ],
   "source": [
    "classfier.cr"
   ]
  },
  {
   "cell_type": "code",
   "execution_count": 27,
   "metadata": {},
   "outputs": [],
   "source": [
    "grid_from_pickle = pickle.load(open('/local/scratch_2/jls/virac_classifier/binary/grid_test.pkl', 'rb'))\n",
    "classifier_from_pickle = pickle.load(open('/local/scratch_2/jls/virac_classifier/binary/binary_0_test.pkl', 'rb'))"
   ]
  },
  {
   "cell_type": "code",
   "execution_count": 28,
   "metadata": {},
   "outputs": [
    {
     "data": {
      "text/html": [
       "<div>\n",
       "<style scoped>\n",
       "    .dataframe tbody tr th:only-of-type {\n",
       "        vertical-align: middle;\n",
       "    }\n",
       "\n",
       "    .dataframe tbody tr th {\n",
       "        vertical-align: top;\n",
       "    }\n",
       "\n",
       "    .dataframe thead th {\n",
       "        text-align: right;\n",
       "    }\n",
       "</style>\n",
       "<table border=\"1\" class=\"dataframe\">\n",
       "  <thead>\n",
       "    <tr style=\"text-align: right;\">\n",
       "      <th></th>\n",
       "      <th>b</th>\n",
       "      <th>index</th>\n",
       "      <th>l</th>\n",
       "    </tr>\n",
       "  </thead>\n",
       "  <tbody>\n",
       "    <tr>\n",
       "      <th>0</th>\n",
       "      <td>-0.054603</td>\n",
       "      <td>0</td>\n",
       "      <td>0.787411</td>\n",
       "    </tr>\n",
       "  </tbody>\n",
       "</table>\n",
       "</div>"
      ],
      "text/plain": [
       "          b  index         l\n",
       "0 -0.054603      0  0.787411"
      ]
     },
     "execution_count": 28,
     "metadata": {},
     "output_type": "execute_result"
    }
   ],
   "source": [
    "grid_from_pickle"
   ]
  },
  {
   "cell_type": "code",
   "execution_count": 29,
   "metadata": {},
   "outputs": [
    {
     "data": {
      "text/plain": [
       "{'ks_eta': 0.03753884349702772,\n",
       " 'ks_kurtosis': 0.19421342153284102,\n",
       " 'ks_mad': 0.11220030770023791,\n",
       " 'ks_p100_p0': 0.024513199773047018,\n",
       " 'ks_p75_p25': 0.14128473736717798,\n",
       " 'ks_p84_p16': 0.10035947051787676,\n",
       " 'ks_p95_p5': 0.04748091757230272,\n",
       " 'ks_p99_p1': 0.025907207415144327,\n",
       " 'ks_skew': 0.04332575015302972,\n",
       " 'ks_stdev': 0.03737217964043344,\n",
       " 'ks_stetson_i': 0.165348326058998,\n",
       " 'ks_stetson_j': 0.04697692369544985,\n",
       " 'ks_stetson_k': 0.023478715076433555}"
      ]
     },
     "execution_count": 29,
     "metadata": {},
     "output_type": "execute_result"
    }
   ],
   "source": [
    "classifier_from_pickle.feature_importance"
   ]
  },
  {
   "cell_type": "code",
   "execution_count": 30,
   "metadata": {},
   "outputs": [
    {
     "data": {
      "text/plain": [
       "array([[236,  44],\n",
       "       [ 34, 244]])"
      ]
     },
     "execution_count": 30,
     "metadata": {},
     "output_type": "execute_result"
    }
   ],
   "source": [
    "classifier_from_pickle.cm"
   ]
  },
  {
   "cell_type": "markdown",
   "metadata": {},
   "source": [
    "## Variable classification"
   ]
  },
  {
   "cell_type": "code",
   "execution_count": 34,
   "metadata": {},
   "outputs": [
    {
     "data": {
      "text/plain": [
       "302"
      ]
     },
     "execution_count": 34,
     "metadata": {},
     "output_type": "execute_result"
    }
   ],
   "source": [
    "len(g['sourceid'])"
   ]
  },
  {
   "cell_type": "code",
   "execution_count": 35,
   "metadata": {},
   "outputs": [],
   "source": [
    "lc = ll(g['sourceid'])"
   ]
  },
  {
   "cell_type": "code",
   "execution_count": 38,
   "metadata": {},
   "outputs": [],
   "source": [
    "lc = ll(v['sourceid'])"
   ]
  },
  {
   "cell_type": "code",
   "execution_count": null,
   "metadata": {},
   "outputs": [],
   "source": []
  }
 ],
 "metadata": {
  "kernelspec": {
   "display_name": "Python 3",
   "language": "python",
   "name": "python3"
  },
  "language_info": {
   "codemirror_mode": {
    "name": "ipython",
    "version": 3
   },
   "file_extension": ".py",
   "mimetype": "text/x-python",
   "name": "python",
   "nbconvert_exporter": "python",
   "pygments_lexer": "ipython3",
   "version": "3.5.2"
  }
 },
 "nbformat": 4,
 "nbformat_minor": 4
}
